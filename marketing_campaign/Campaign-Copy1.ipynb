{
 "cells": [
  {
   "cell_type": "markdown",
   "metadata": {},
   "source": [
    "# Bank Marketing Campaign"
   ]
  },
  {
   "cell_type": "code",
   "execution_count": null,
   "metadata": {
    "collapsed": true
   },
   "outputs": [],
   "source": []
  },
  {
   "cell_type": "code",
   "execution_count": null,
   "metadata": {
    "collapsed": true
   },
   "outputs": [],
   "source": []
  },
  {
   "cell_type": "markdown",
   "metadata": {},
   "source": [
    "<b>Overview and Motivation:</b> The data is related with direct marketing campaigns (phone calls) of a Portuguese banking institution. The classification goal is to predict if the client will subscribe a term deposit, variable y.\n",
    "\n",
    "<b>Goal:</b> Goal is to identify the features/variables for a successful term deposit, which would save human effort and other resources involved in a direct marketing campaign.\n",
    "\n",
    "<b>Approach:</b> - Classify customers capable of subscribing to the term deposit and optimize the target list of consumers of a campaign. Understand the factors that impact customer decisions.\n",
    "\n",
    "<b>Data Source:</b>\n",
    "UCI Machine Learning Repository to get the data.  https://archive.ics.uci.edu/ml/datasets/Bank+Marketing\n"
   ]
  },
  {
   "cell_type": "code",
   "execution_count": 45,
   "metadata": {
    "collapsed": false
   },
   "outputs": [],
   "source": [
    "%matplotlib inline \n",
    "\n",
    "import numpy as np\n",
    "import pandas as pd\n",
    "import matplotlib.pyplot as plt\n",
    "import scipy.stats as stats\n",
    "import seaborn as sns\n",
    "import requests, zipfile, StringIO\n",
    "from mpl_toolkits.mplot3d import Axes3D\n",
    "from sklearn.linear_model import LogisticRegression\n",
    "from sklearn.cross_validation import train_test_split\n",
    "from sklearn import metrics\n",
    "from sklearn.cross_validation import cross_val_score\n",
    "from sklearn.tree import DecisionTreeClassifier\n",
    "from sklearn import linear_model\n",
    "from sklearn.metrics import roc_curve, auc\n",
    "from sklearn.feature_extraction import DictVectorizer\n",
    "from sklearn.ensemble import RandomForestClassifier\n",
    "from sklearn.neighbors import KNeighborsClassifier\n",
    "\n",
    "import sklearn.svm\n",
    "import csv"
   ]
  },
  {
   "cell_type": "code",
   "execution_count": null,
   "metadata": {
    "collapsed": false
   },
   "outputs": [],
   "source": []
  },
  {
   "cell_type": "code",
   "execution_count": 6,
   "metadata": {
    "collapsed": false
   },
   "outputs": [
    {
     "data": {
      "text/html": [
       "<div>\n",
       "<table border=\"1\" class=\"dataframe\">\n",
       "  <thead>\n",
       "    <tr style=\"text-align: right;\">\n",
       "      <th></th>\n",
       "      <th>age</th>\n",
       "      <th>job</th>\n",
       "      <th>marital</th>\n",
       "      <th>education</th>\n",
       "      <th>default</th>\n",
       "      <th>housing</th>\n",
       "      <th>loan</th>\n",
       "      <th>contact</th>\n",
       "      <th>month</th>\n",
       "      <th>day_of_week</th>\n",
       "      <th>...</th>\n",
       "      <th>campaign</th>\n",
       "      <th>pdays</th>\n",
       "      <th>previous</th>\n",
       "      <th>poutcome</th>\n",
       "      <th>emp.var.rate</th>\n",
       "      <th>cons.price.idx</th>\n",
       "      <th>cons.conf.idx</th>\n",
       "      <th>euribor3m</th>\n",
       "      <th>nr.employed</th>\n",
       "      <th>y</th>\n",
       "    </tr>\n",
       "  </thead>\n",
       "  <tbody>\n",
       "    <tr>\n",
       "      <th>0</th>\n",
       "      <td>56</td>\n",
       "      <td>housemaid</td>\n",
       "      <td>married</td>\n",
       "      <td>basic.4y</td>\n",
       "      <td>no</td>\n",
       "      <td>no</td>\n",
       "      <td>no</td>\n",
       "      <td>telephone</td>\n",
       "      <td>may</td>\n",
       "      <td>mon</td>\n",
       "      <td>...</td>\n",
       "      <td>1</td>\n",
       "      <td>999</td>\n",
       "      <td>0</td>\n",
       "      <td>nonexistent</td>\n",
       "      <td>1.1</td>\n",
       "      <td>93.994</td>\n",
       "      <td>-36.4</td>\n",
       "      <td>4.857</td>\n",
       "      <td>5191</td>\n",
       "      <td>no</td>\n",
       "    </tr>\n",
       "    <tr>\n",
       "      <th>1</th>\n",
       "      <td>57</td>\n",
       "      <td>services</td>\n",
       "      <td>married</td>\n",
       "      <td>high.school</td>\n",
       "      <td>unknown</td>\n",
       "      <td>no</td>\n",
       "      <td>no</td>\n",
       "      <td>telephone</td>\n",
       "      <td>may</td>\n",
       "      <td>mon</td>\n",
       "      <td>...</td>\n",
       "      <td>1</td>\n",
       "      <td>999</td>\n",
       "      <td>0</td>\n",
       "      <td>nonexistent</td>\n",
       "      <td>1.1</td>\n",
       "      <td>93.994</td>\n",
       "      <td>-36.4</td>\n",
       "      <td>4.857</td>\n",
       "      <td>5191</td>\n",
       "      <td>no</td>\n",
       "    </tr>\n",
       "    <tr>\n",
       "      <th>2</th>\n",
       "      <td>37</td>\n",
       "      <td>services</td>\n",
       "      <td>married</td>\n",
       "      <td>high.school</td>\n",
       "      <td>no</td>\n",
       "      <td>yes</td>\n",
       "      <td>no</td>\n",
       "      <td>telephone</td>\n",
       "      <td>may</td>\n",
       "      <td>mon</td>\n",
       "      <td>...</td>\n",
       "      <td>1</td>\n",
       "      <td>999</td>\n",
       "      <td>0</td>\n",
       "      <td>nonexistent</td>\n",
       "      <td>1.1</td>\n",
       "      <td>93.994</td>\n",
       "      <td>-36.4</td>\n",
       "      <td>4.857</td>\n",
       "      <td>5191</td>\n",
       "      <td>no</td>\n",
       "    </tr>\n",
       "    <tr>\n",
       "      <th>3</th>\n",
       "      <td>40</td>\n",
       "      <td>admin.</td>\n",
       "      <td>married</td>\n",
       "      <td>basic.6y</td>\n",
       "      <td>no</td>\n",
       "      <td>no</td>\n",
       "      <td>no</td>\n",
       "      <td>telephone</td>\n",
       "      <td>may</td>\n",
       "      <td>mon</td>\n",
       "      <td>...</td>\n",
       "      <td>1</td>\n",
       "      <td>999</td>\n",
       "      <td>0</td>\n",
       "      <td>nonexistent</td>\n",
       "      <td>1.1</td>\n",
       "      <td>93.994</td>\n",
       "      <td>-36.4</td>\n",
       "      <td>4.857</td>\n",
       "      <td>5191</td>\n",
       "      <td>no</td>\n",
       "    </tr>\n",
       "    <tr>\n",
       "      <th>4</th>\n",
       "      <td>56</td>\n",
       "      <td>services</td>\n",
       "      <td>married</td>\n",
       "      <td>high.school</td>\n",
       "      <td>no</td>\n",
       "      <td>no</td>\n",
       "      <td>yes</td>\n",
       "      <td>telephone</td>\n",
       "      <td>may</td>\n",
       "      <td>mon</td>\n",
       "      <td>...</td>\n",
       "      <td>1</td>\n",
       "      <td>999</td>\n",
       "      <td>0</td>\n",
       "      <td>nonexistent</td>\n",
       "      <td>1.1</td>\n",
       "      <td>93.994</td>\n",
       "      <td>-36.4</td>\n",
       "      <td>4.857</td>\n",
       "      <td>5191</td>\n",
       "      <td>no</td>\n",
       "    </tr>\n",
       "  </tbody>\n",
       "</table>\n",
       "<p>5 rows × 21 columns</p>\n",
       "</div>"
      ],
      "text/plain": [
       "   age        job  marital    education  default housing loan    contact  \\\n",
       "0   56  housemaid  married     basic.4y       no      no   no  telephone   \n",
       "1   57   services  married  high.school  unknown      no   no  telephone   \n",
       "2   37   services  married  high.school       no     yes   no  telephone   \n",
       "3   40     admin.  married     basic.6y       no      no   no  telephone   \n",
       "4   56   services  married  high.school       no      no  yes  telephone   \n",
       "\n",
       "  month day_of_week ...  campaign  pdays  previous     poutcome emp.var.rate  \\\n",
       "0   may         mon ...         1    999         0  nonexistent          1.1   \n",
       "1   may         mon ...         1    999         0  nonexistent          1.1   \n",
       "2   may         mon ...         1    999         0  nonexistent          1.1   \n",
       "3   may         mon ...         1    999         0  nonexistent          1.1   \n",
       "4   may         mon ...         1    999         0  nonexistent          1.1   \n",
       "\n",
       "   cons.price.idx  cons.conf.idx  euribor3m  nr.employed   y  \n",
       "0          93.994          -36.4      4.857         5191  no  \n",
       "1          93.994          -36.4      4.857         5191  no  \n",
       "2          93.994          -36.4      4.857         5191  no  \n",
       "3          93.994          -36.4      4.857         5191  no  \n",
       "4          93.994          -36.4      4.857         5191  no  \n",
       "\n",
       "[5 rows x 21 columns]"
      ]
     },
     "execution_count": 6,
     "metadata": {},
     "output_type": "execute_result"
    }
   ],
   "source": [
    "data=pd.read_csv('bank-additional-full.csv', sep=';')\n",
    "data.head()"
   ]
  },
  {
   "cell_type": "markdown",
   "metadata": {},
   "source": [
    "# Exploratory Data Analysis"
   ]
  },
  {
   "cell_type": "code",
   "execution_count": 10,
   "metadata": {
    "collapsed": false
   },
   "outputs": [
    {
     "name": "stdout",
     "output_type": "stream",
     "text": [
      "\n",
      " 1. Unique values for job are \n",
      " ['housemaid' 'services' 'admin.' 'blue-collar' 'technician' 'retired'\n",
      " 'management' 'unemployed' 'self-employed' 'unknown'] \n",
      " Unique value total = 12 \n",
      "\n",
      " 2. Unique values for marital are \n",
      " ['married' 'single' 'divorced' 'unknown'] \n",
      " Unique value total = 4 \n",
      "\n",
      " 3. Unique values for education are \n",
      " ['basic.4y' 'high.school' 'basic.6y' 'basic.9y' 'professional.course'\n",
      " 'unknown' 'university.degree' 'illiterate'] \n",
      " Unique value total = 8 \n",
      "\n",
      " 4. Unique values for default are \n",
      " ['no' 'unknown' 'yes'] \n",
      " Unique value total = 3 \n",
      "\n",
      " 5. Unique values for housing are \n",
      " ['no' 'yes' 'unknown'] \n",
      " Unique value total = 3 \n",
      "\n",
      " 6. Unique values for loan are \n",
      " ['no' 'yes' 'unknown'] \n",
      " Unique value total = 3 \n",
      "\n",
      " 7. Unique values for contact are \n",
      " ['telephone' 'cellular'] \n",
      " Unique value total = 2 \n",
      "\n",
      " 8. Unique values for month are \n",
      " ['may' 'jun' 'jul' 'aug' 'oct' 'nov' 'dec' 'mar' 'apr' 'sep'] \n",
      " Unique value total = 10 \n",
      "\n",
      " 9. Unique values for day_of_week are \n",
      " ['mon' 'tue' 'wed' 'thu' 'fri'] \n",
      " Unique value total = 5 \n",
      "\n",
      " 10. Unique values for poutcome are \n",
      " ['nonexistent' 'failure' 'success'] \n",
      " Unique value total = 3 \n",
      "\n",
      " 11. Unique values for y are \n",
      " ['no' 'yes'] \n",
      " Unique value total = 2 \n"
     ]
    }
   ],
   "source": [
    "# Exploring categorical data\n",
    "col = data.columns.values\n",
    "col = ['job', 'marital', 'education', 'default', 'housing', 'loan', 'contact',\n",
    " 'month', 'day_of_week','poutcome', 'y']\n",
    "\n",
    "for id,val in enumerate(col,1):\n",
    "    col_value = pd.unique(data[val].ravel())\n",
    "    print \"\\n {}. Unique values for {} are \\n {} \\n Unique value total = {} \".format(id,val,col_value[:10],len(col_value))"
   ]
  },
  {
   "cell_type": "code",
   "execution_count": 14,
   "metadata": {
    "collapsed": false
   },
   "outputs": [
    {
     "data": {
      "text/html": [
       "<div>\n",
       "<table border=\"1\" class=\"dataframe\">\n",
       "  <thead>\n",
       "    <tr style=\"text-align: right;\">\n",
       "      <th></th>\n",
       "      <th>age</th>\n",
       "      <th>duration</th>\n",
       "      <th>campaign</th>\n",
       "      <th>pdays</th>\n",
       "      <th>previous</th>\n",
       "      <th>emp.var.rate</th>\n",
       "      <th>cons.price.idx</th>\n",
       "      <th>cons.conf.idx</th>\n",
       "      <th>euribor3m</th>\n",
       "      <th>nr.employed</th>\n",
       "    </tr>\n",
       "    <tr>\n",
       "      <th>y</th>\n",
       "      <th></th>\n",
       "      <th></th>\n",
       "      <th></th>\n",
       "      <th></th>\n",
       "      <th></th>\n",
       "      <th></th>\n",
       "      <th></th>\n",
       "      <th></th>\n",
       "      <th></th>\n",
       "      <th></th>\n",
       "    </tr>\n",
       "  </thead>\n",
       "  <tbody>\n",
       "    <tr>\n",
       "      <th>no</th>\n",
       "      <td>39.911185</td>\n",
       "      <td>220.844807</td>\n",
       "      <td>2.633085</td>\n",
       "      <td>984.113878</td>\n",
       "      <td>0.132374</td>\n",
       "      <td>0.248875</td>\n",
       "      <td>93.603757</td>\n",
       "      <td>-40.593097</td>\n",
       "      <td>3.811491</td>\n",
       "      <td>5176.166600</td>\n",
       "    </tr>\n",
       "    <tr>\n",
       "      <th>yes</th>\n",
       "      <td>40.913147</td>\n",
       "      <td>553.191164</td>\n",
       "      <td>2.051724</td>\n",
       "      <td>792.035560</td>\n",
       "      <td>0.492672</td>\n",
       "      <td>-1.233448</td>\n",
       "      <td>93.354386</td>\n",
       "      <td>-39.789784</td>\n",
       "      <td>2.123135</td>\n",
       "      <td>5095.115991</td>\n",
       "    </tr>\n",
       "  </tbody>\n",
       "</table>\n",
       "</div>"
      ],
      "text/plain": [
       "           age    duration  campaign       pdays  previous  emp.var.rate  \\\n",
       "y                                                                          \n",
       "no   39.911185  220.844807  2.633085  984.113878  0.132374      0.248875   \n",
       "yes  40.913147  553.191164  2.051724  792.035560  0.492672     -1.233448   \n",
       "\n",
       "     cons.price.idx  cons.conf.idx  euribor3m  nr.employed  \n",
       "y                                                           \n",
       "no        93.603757     -40.593097   3.811491  5176.166600  \n",
       "yes       93.354386     -39.789784   2.123135  5095.115991  "
      ]
     },
     "execution_count": 14,
     "metadata": {},
     "output_type": "execute_result"
    }
   ],
   "source": [
    "\n",
    "data.groupby('y')#.mean() #pdays has negative impact, 49% of people have been contacted previously among 'yes'"
   ]
  },
  {
   "cell_type": "code",
   "execution_count": 20,
   "metadata": {
    "collapsed": false
   },
   "outputs": [
    {
     "data": {
      "text/plain": [
       "0.11265417111780131"
      ]
     },
     "execution_count": 20,
     "metadata": {},
     "output_type": "execute_result"
    }
   ],
   "source": [
    "len(data[data.y=='yes'])*1.0/(len(data)) #11% have term deposit"
   ]
  },
  {
   "cell_type": "code",
   "execution_count": 27,
   "metadata": {
    "collapsed": false
   },
   "outputs": [
    {
     "data": {
      "text/html": [
       "<div>\n",
       "<table border=\"1\" class=\"dataframe\">\n",
       "  <thead>\n",
       "    <tr style=\"text-align: right;\">\n",
       "      <th></th>\n",
       "      <th>age</th>\n",
       "      <th>duration</th>\n",
       "      <th>campaign</th>\n",
       "      <th>pdays</th>\n",
       "      <th>previous</th>\n",
       "      <th>emp.var.rate</th>\n",
       "      <th>cons.price.idx</th>\n",
       "      <th>cons.conf.idx</th>\n",
       "      <th>euribor3m</th>\n",
       "      <th>nr.employed</th>\n",
       "    </tr>\n",
       "  </thead>\n",
       "  <tbody>\n",
       "    <tr>\n",
       "      <th>age</th>\n",
       "      <td>1.000000</td>\n",
       "      <td>-0.059319</td>\n",
       "      <td>-0.007920</td>\n",
       "      <td>-0.064991</td>\n",
       "      <td>0.074937</td>\n",
       "      <td>-0.081579</td>\n",
       "      <td>-0.024695</td>\n",
       "      <td>0.141166</td>\n",
       "      <td>-0.085403</td>\n",
       "      <td>-0.111972</td>\n",
       "    </tr>\n",
       "    <tr>\n",
       "      <th>duration</th>\n",
       "      <td>-0.059319</td>\n",
       "      <td>1.000000</td>\n",
       "      <td>0.156859</td>\n",
       "      <td>0.237858</td>\n",
       "      <td>-0.231527</td>\n",
       "      <td>0.503056</td>\n",
       "      <td>0.237558</td>\n",
       "      <td>-0.143827</td>\n",
       "      <td>0.499710</td>\n",
       "      <td>0.481981</td>\n",
       "    </tr>\n",
       "    <tr>\n",
       "      <th>campaign</th>\n",
       "      <td>-0.007920</td>\n",
       "      <td>0.156859</td>\n",
       "      <td>1.000000</td>\n",
       "      <td>0.106762</td>\n",
       "      <td>-0.104093</td>\n",
       "      <td>0.221760</td>\n",
       "      <td>0.116511</td>\n",
       "      <td>-0.042858</td>\n",
       "      <td>0.211863</td>\n",
       "      <td>0.202677</td>\n",
       "    </tr>\n",
       "    <tr>\n",
       "      <th>pdays</th>\n",
       "      <td>-0.064991</td>\n",
       "      <td>0.237858</td>\n",
       "      <td>0.106762</td>\n",
       "      <td>1.000000</td>\n",
       "      <td>-0.728953</td>\n",
       "      <td>0.280671</td>\n",
       "      <td>-0.055063</td>\n",
       "      <td>-0.169883</td>\n",
       "      <td>0.364535</td>\n",
       "      <td>0.453334</td>\n",
       "    </tr>\n",
       "    <tr>\n",
       "      <th>previous</th>\n",
       "      <td>0.074937</td>\n",
       "      <td>-0.231527</td>\n",
       "      <td>-0.104093</td>\n",
       "      <td>-0.728953</td>\n",
       "      <td>1.000000</td>\n",
       "      <td>-0.284754</td>\n",
       "      <td>0.091215</td>\n",
       "      <td>0.127833</td>\n",
       "      <td>-0.391993</td>\n",
       "      <td>-0.488325</td>\n",
       "    </tr>\n",
       "    <tr>\n",
       "      <th>emp.var.rate</th>\n",
       "      <td>-0.081579</td>\n",
       "      <td>0.503056</td>\n",
       "      <td>0.221760</td>\n",
       "      <td>0.280671</td>\n",
       "      <td>-0.284754</td>\n",
       "      <td>1.000000</td>\n",
       "      <td>0.660341</td>\n",
       "      <td>-0.267241</td>\n",
       "      <td>0.926117</td>\n",
       "      <td>0.787633</td>\n",
       "    </tr>\n",
       "    <tr>\n",
       "      <th>cons.price.idx</th>\n",
       "      <td>-0.024695</td>\n",
       "      <td>0.237558</td>\n",
       "      <td>0.116511</td>\n",
       "      <td>-0.055063</td>\n",
       "      <td>0.091215</td>\n",
       "      <td>0.660341</td>\n",
       "      <td>1.000000</td>\n",
       "      <td>-0.328344</td>\n",
       "      <td>0.414585</td>\n",
       "      <td>0.119655</td>\n",
       "    </tr>\n",
       "    <tr>\n",
       "      <th>cons.conf.idx</th>\n",
       "      <td>0.141166</td>\n",
       "      <td>-0.143827</td>\n",
       "      <td>-0.042858</td>\n",
       "      <td>-0.169883</td>\n",
       "      <td>0.127833</td>\n",
       "      <td>-0.267241</td>\n",
       "      <td>-0.328344</td>\n",
       "      <td>1.000000</td>\n",
       "      <td>-0.120171</td>\n",
       "      <td>-0.203270</td>\n",
       "    </tr>\n",
       "    <tr>\n",
       "      <th>euribor3m</th>\n",
       "      <td>-0.085403</td>\n",
       "      <td>0.499710</td>\n",
       "      <td>0.211863</td>\n",
       "      <td>0.364535</td>\n",
       "      <td>-0.391993</td>\n",
       "      <td>0.926117</td>\n",
       "      <td>0.414585</td>\n",
       "      <td>-0.120171</td>\n",
       "      <td>1.000000</td>\n",
       "      <td>0.922214</td>\n",
       "    </tr>\n",
       "    <tr>\n",
       "      <th>nr.employed</th>\n",
       "      <td>-0.111972</td>\n",
       "      <td>0.481981</td>\n",
       "      <td>0.202677</td>\n",
       "      <td>0.453334</td>\n",
       "      <td>-0.488325</td>\n",
       "      <td>0.787633</td>\n",
       "      <td>0.119655</td>\n",
       "      <td>-0.203270</td>\n",
       "      <td>0.922214</td>\n",
       "      <td>1.000000</td>\n",
       "    </tr>\n",
       "  </tbody>\n",
       "</table>\n",
       "</div>"
      ],
      "text/plain": [
       "                     age  duration  campaign     pdays  previous  \\\n",
       "age             1.000000 -0.059319 -0.007920 -0.064991  0.074937   \n",
       "duration       -0.059319  1.000000  0.156859  0.237858 -0.231527   \n",
       "campaign       -0.007920  0.156859  1.000000  0.106762 -0.104093   \n",
       "pdays          -0.064991  0.237858  0.106762  1.000000 -0.728953   \n",
       "previous        0.074937 -0.231527 -0.104093 -0.728953  1.000000   \n",
       "emp.var.rate   -0.081579  0.503056  0.221760  0.280671 -0.284754   \n",
       "cons.price.idx -0.024695  0.237558  0.116511 -0.055063  0.091215   \n",
       "cons.conf.idx   0.141166 -0.143827 -0.042858 -0.169883  0.127833   \n",
       "euribor3m      -0.085403  0.499710  0.211863  0.364535 -0.391993   \n",
       "nr.employed    -0.111972  0.481981  0.202677  0.453334 -0.488325   \n",
       "\n",
       "                emp.var.rate  cons.price.idx  cons.conf.idx  euribor3m  \\\n",
       "age                -0.081579       -0.024695       0.141166  -0.085403   \n",
       "duration            0.503056        0.237558      -0.143827   0.499710   \n",
       "campaign            0.221760        0.116511      -0.042858   0.211863   \n",
       "pdays               0.280671       -0.055063      -0.169883   0.364535   \n",
       "previous           -0.284754        0.091215       0.127833  -0.391993   \n",
       "emp.var.rate        1.000000        0.660341      -0.267241   0.926117   \n",
       "cons.price.idx      0.660341        1.000000      -0.328344   0.414585   \n",
       "cons.conf.idx      -0.267241       -0.328344       1.000000  -0.120171   \n",
       "euribor3m           0.926117        0.414585      -0.120171   1.000000   \n",
       "nr.employed         0.787633        0.119655      -0.203270   0.922214   \n",
       "\n",
       "                nr.employed  \n",
       "age               -0.111972  \n",
       "duration           0.481981  \n",
       "campaign           0.202677  \n",
       "pdays              0.453334  \n",
       "previous          -0.488325  \n",
       "emp.var.rate       0.787633  \n",
       "cons.price.idx     0.119655  \n",
       "cons.conf.idx     -0.203270  \n",
       "euribor3m          0.922214  \n",
       "nr.employed        1.000000  "
      ]
     },
     "execution_count": 27,
     "metadata": {},
     "output_type": "execute_result"
    }
   ],
   "source": [
    "data[data.y=='yes'].corr()"
   ]
  },
  {
   "cell_type": "code",
   "execution_count": null,
   "metadata": {
    "collapsed": false
   },
   "outputs": [],
   "source": []
  },
  {
   "cell_type": "code",
   "execution_count": 50,
   "metadata": {
    "collapsed": false
   },
   "outputs": [
    {
     "data": {
      "text/plain": [
       "<seaborn.axisgrid.FacetGrid at 0xf6640b8>"
      ]
     },
     "execution_count": 50,
     "metadata": {},
     "output_type": "execute_result"
    },
    {
     "data": {
      "image/png": "[encoded data removed]",
      "text/plain": [
       "<matplotlib.figure.Figure at 0xf909470>"
      ]
     },
     "metadata": {},
     "output_type": "display_data"
    }
   ],
   "source": [
    "#histogram by month\n",
    "mon = ['mar','apr','may','jun','jul','aug','sep','oct','nov','dec']\n",
    "sns.factorplot(\"month\",hue=\"y\", data=data, kind=\"count\",x_order=mon,size=10)\n"
   ]
  },
  {
   "cell_type": "code",
   "execution_count": 53,
   "metadata": {
    "collapsed": false
   },
   "outputs": [
    {
     "data": {
      "image/png": "[encoded data removed]",
      "text/plain": [
       "<matplotlib.figure.Figure at 0xc6c0e48>"
      ]
     },
     "metadata": {},
     "output_type": "display_data"
    }
   ],
   "source": [
    "#histogram by education\n",
    "g = sns.factorplot(\"education\", hue=\"y\", data=data[data['education']!='unknown'], kind='count', size=10)\n"
   ]
  },
  {
   "cell_type": "code",
   "execution_count": 56,
   "metadata": {
    "collapsed": false
   },
   "outputs": [
    {
     "ename": "AttributeError",
     "evalue": "'tuple' object has no attribute 'show'",
     "output_type": "error",
     "traceback": [
      "\u001b[1;31m---------------------------------------------------------------------------\u001b[0m",
      "\u001b[1;31mAttributeError\u001b[0m                            Traceback (most recent call last)",
      "\u001b[1;32m<ipython-input-56-c9a5565125c1>\u001b[0m in \u001b[0;36m<module>\u001b[1;34m()\u001b[0m\n\u001b[0;32m      1\u001b[0m \u001b[1;31m#histogram by age\u001b[0m\u001b[1;33m\u001b[0m\u001b[1;33m\u001b[0m\u001b[0m\n\u001b[1;32m----> 2\u001b[1;33m \u001b[0mplt\u001b[0m\u001b[1;33m.\u001b[0m\u001b[0mhist\u001b[0m\u001b[1;33m(\u001b[0m\u001b[0mdata\u001b[0m\u001b[1;33m[\u001b[0m\u001b[1;34m'age'\u001b[0m\u001b[1;33m]\u001b[0m\u001b[1;33m)\u001b[0m\u001b[1;33m.\u001b[0m\u001b[0mshow\u001b[0m\u001b[1;33m(\u001b[0m\u001b[1;33m)\u001b[0m\u001b[1;33m\u001b[0m\u001b[0m\n\u001b[0m",
      "\u001b[1;31mAttributeError\u001b[0m: 'tuple' object has no attribute 'show'"
     ]
    },
    {
     "data": {
      "image/png": "[encoded data removed]",
      "text/plain": [
       "<matplotlib.figure.Figure at 0x1245cb00>"
      ]
     },
     "metadata": {},
     "output_type": "display_data"
    }
   ],
   "source": [
    "#histogram by age\n",
    "plt.hist(data['age']).show()\n"
   ]
  },
  {
   "cell_type": "code",
   "execution_count": 59,
   "metadata": {
    "collapsed": false
   },
   "outputs": [
    {
     "data": {
      "text/plain": [
       "<seaborn.axisgrid.FacetGrid at 0x124ae390>"
      ]
     },
     "execution_count": 59,
     "metadata": {},
     "output_type": "execute_result"
    },
    {
     "data": {
      "image/png": "[encoded data removed]",
      "text/plain": [
       "<matplotlib.figure.Figure at 0x1246ac50>"
      ]
     },
     "metadata": {},
     "output_type": "display_data"
    }
   ],
   "source": [
    "#histogram by job type\n",
    "jobs = ['housemaid', 'services', 'admin.', 'blue-collar', 'technician', 'retired',\n",
    " 'management', 'unemployed', 'self-employed', 'entrepreneur',\n",
    " 'student']\n",
    "g = sns.factorplot(\"job\", hue=\"y\", data=data[data.job!='unknown'], kind='count', size=8, x_order=jobs)\n",
    "g.set_xticklabels(rotation=40)"
   ]
  },
  {
   "cell_type": "code",
   "execution_count": 69,
   "metadata": {
    "collapsed": false
   },
   "outputs": [
    {
     "data": {
      "image/png": "[encoded data removed]",
      "text/plain": [
       "<matplotlib.figure.Figure at 0x124b94a8>"
      ]
     },
     "metadata": {},
     "output_type": "display_data"
    }
   ],
   "source": [
    "plt.scatter(data['y'].map({'yes':1,'no':0}),data[['duration']])\n",
    "plt.ylabel(\"Duration\")\n",
    "plt.xlabel(\"Response, y\")\n",
    "plt.show()"
   ]
  },
  {
   "cell_type": "markdown",
   "metadata": {},
   "source": [
    "# Preprocess"
   ]
  },
  {
   "cell_type": "code",
   "execution_count": 70,
   "metadata": {
    "collapsed": false
   },
   "outputs": [],
   "source": [
    "#One hot encoding for categorical data\n",
    "vec = DictVectorizer()\n",
    "dataproc = data\n",
    "dataproc = dataproc[['age' ,'job' ,'marital', 'education', 'default' ,'housing', 'loan', 'contact',\n",
    " 'month', 'day_of_week' , 'campaign', 'pdays', 'previous', 'poutcome',\n",
    " 'emp.var.rate', 'cons.price.idx', 'cons.conf.idx' ,'euribor3m' ,'nr.employed']]\n",
    "d=dataproc.T.to_dict().values()\n",
    "dataproc=vec.fit_transform(d).toarray()\n",
    "yaxe=data['y'].map({'yes': 1, 'no': 0})"
   ]
  },
  {
   "cell_type": "code",
   "execution_count": null,
   "metadata": {
    "collapsed": true
   },
   "outputs": [],
   "source": []
  },
  {
   "cell_type": "markdown",
   "metadata": {},
   "source": [
    "# Splitting the data into test data (30%) and training data (70%)"
   ]
  },
  {
   "cell_type": "code",
   "execution_count": 73,
   "metadata": {
    "collapsed": false
   },
   "outputs": [],
   "source": [
    "X_train, X_test, y_train, y_test = train_test_split(dataproc, yaxe, test_size=0.30, random_state=1)"
   ]
  },
  {
   "cell_type": "markdown",
   "metadata": {},
   "source": [
    "# Logistic Regression"
   ]
  },
  {
   "cell_type": "code",
   "execution_count": 164,
   "metadata": {
    "collapsed": false
   },
   "outputs": [
    {
     "name": "stdout",
     "output_type": "stream",
     "text": [
      "0.896981467994\n",
      "0.585595864994\n"
     ]
    },
    {
     "data": {
      "text/plain": [
       "array([ 0.96217659,  0.03782341])"
      ]
     },
     "execution_count": 164,
     "metadata": {},
     "output_type": "execute_result"
    }
   ],
   "source": [
    "logreg = linear_model.LogisticRegression(C=1e5)\n",
    "\n",
    "logreg.fit(X_train, y_train)\n",
    "LRprob = logreg.predict_proba(X_test)\n",
    "LRpred = logreg.predict(X_test)\n",
    "print metrics.accuracy_score(y_test, LRpred)\n",
    "print metrics.roc_auc_score(y_test, LRpred)\n",
    "LRprob[1,:]\n",
    "#LR_predprobability[1,:]"
   ]
  },
  {
   "cell_type": "markdown",
   "metadata": {},
   "source": [
    "## Predicting the Probability of a Term deposit for a specific customer\n",
    "\n",
    "Let's predict the probability of customer accepting a term deposit for a customer not present in dataset.\n"
   ]
  },
  {
   "cell_type": "code",
   "execution_count": 79,
   "metadata": {
    "collapsed": false
   },
   "outputs": [
    {
     "name": "stderr",
     "output_type": "stream",
     "text": [
      "C:\\Users\\mahesh\\Anaconda2\\lib\\site-packages\\sklearn\\utils\\validation.py:386: DeprecationWarning: Passing 1d arrays as data is deprecated in 0.17 and willraise ValueError in 0.19. Reshape your data either using X.reshape(-1, 1) if your data has a single feature or X.reshape(1, -1) if it contains a single sample.\n",
      "  DeprecationWarning)\n"
     ]
    },
    {
     "data": {
      "text/plain": [
       "array([[ 0.73248445,  0.26751555]])"
      ]
     },
     "execution_count": 79,
     "metadata": {},
     "output_type": "execute_result"
    }
   ],
   "source": [
    "\n",
    "# age-42,job=2,marital=1,education=6,default=0,housing=0,loan=0,contact=1,month=5,\n",
    "# campaign=2,pdays=0,previous=0,poutcome=2,cons_price=93.994,cons_conf=-36.4,emp_var_rate=1.4,euribor3m=4.857,nr_emp=5191\n",
    "\n",
    "logreg.predict_proba(np.array([\n",
    "42,2,-36.4,93.994,1,0,0,0,0,0,1,0,0,0,0,0,0,0,1,0,0,1.4,4.857,1,0,0,0,1,0,0,0,0,0,0,0,0,0,0,0,1,0,0,1,0,0,0,0,0,0,0,1,0,0,0,\n",
    "0,0,5191,0,0,0,1,0]))"
   ]
  },
  {
   "cell_type": "markdown",
   "metadata": {},
   "source": [
    "# Decision Tree"
   ]
  },
  {
   "cell_type": "code",
   "execution_count": 90,
   "metadata": {
    "collapsed": false
   },
   "outputs": [
    {
     "name": "stdout",
     "output_type": "stream",
     "text": [
      "0.840818969005\n",
      "0.619837353801\n",
      "[ 0.17072339  0.07635564  0.01824951  0.00897634  0.00240848  0.00571083\n",
      "  0.01446518  0.01520089  0.01348527  0.01302089  0.01391909  0.00612924\n",
      "  0.00850158  0.          0.00983911  0.00561006  0.01084649  0.01411821\n",
      "  0.0003136   0.01147986  0.01859084  0.00606138  0.00251573  0.08729909\n",
      "  0.02390873  0.00182289  0.02300002  0.02065117  0.01383988  0.00411993\n",
      "  0.00463756  0.00865596  0.0054462   0.00602515  0.00865454  0.00271329\n",
      "  0.01600436  0.00498207  0.00318975  0.01182518  0.00183735  0.01586867\n",
      "  0.0110717   0.01542423  0.01864031  0.00050231  0.00299341  0.00174242\n",
      "  0.          0.00360281  0.0006576   0.00096679  0.00134392  0.00106305\n",
      "  0.00565854  0.00202472  0.15706216  0.04200044  0.00916218  0.00466322\n",
      "  0.00089874  0.00951807]\n"
     ]
    }
   ],
   "source": [
    "dtclf = DecisionTreeClassifier(random_state=1)\n",
    "dtclf.fit(X_train, y_train)\n",
    "\n",
    "scores_list = []\n",
    "DTpred = dtclf.predict(X_test)\n",
    "DTprob = dtclf.predict_proba(X_test)\n",
    "print metrics.accuracy_score(y_test, DTpred)\n",
    "print metrics.roc_auc_score(y_test, DTpred)\n",
    "print dtclf.feature_importances_"
   ]
  },
  {
   "cell_type": "code",
   "execution_count": 122,
   "metadata": {
    "collapsed": false,
    "scrolled": true
   },
   "outputs": [
    {
     "data": {
      "text/html": [
       "<div>\n",
       "<table border=\"1\" class=\"dataframe\">\n",
       "  <thead>\n",
       "    <tr style=\"text-align: right;\">\n",
       "      <th></th>\n",
       "      <th>Features</th>\n",
       "      <th>Importance</th>\n",
       "    </tr>\n",
       "  </thead>\n",
       "  <tbody>\n",
       "    <tr>\n",
       "      <th>48</th>\n",
       "      <td>month=dec</td>\n",
       "      <td>0.000000</td>\n",
       "    </tr>\n",
       "    <tr>\n",
       "      <th>13</th>\n",
       "      <td>default=yes</td>\n",
       "      <td>0.000000</td>\n",
       "    </tr>\n",
       "    <tr>\n",
       "      <th>18</th>\n",
       "      <td>education=illiterate</td>\n",
       "      <td>0.000314</td>\n",
       "    </tr>\n",
       "    <tr>\n",
       "      <th>45</th>\n",
       "      <td>marital=unknown</td>\n",
       "      <td>0.000502</td>\n",
       "    </tr>\n",
       "    <tr>\n",
       "      <th>50</th>\n",
       "      <td>month=jun</td>\n",
       "      <td>0.000658</td>\n",
       "    </tr>\n",
       "    <tr>\n",
       "      <th>60</th>\n",
       "      <td>poutcome=success</td>\n",
       "      <td>0.000899</td>\n",
       "    </tr>\n",
       "    <tr>\n",
       "      <th>51</th>\n",
       "      <td>month=mar</td>\n",
       "      <td>0.000967</td>\n",
       "    </tr>\n",
       "    <tr>\n",
       "      <th>53</th>\n",
       "      <td>month=nov</td>\n",
       "      <td>0.001063</td>\n",
       "    </tr>\n",
       "    <tr>\n",
       "      <th>52</th>\n",
       "      <td>month=may</td>\n",
       "      <td>0.001344</td>\n",
       "    </tr>\n",
       "    <tr>\n",
       "      <th>47</th>\n",
       "      <td>month=aug</td>\n",
       "      <td>0.001742</td>\n",
       "    </tr>\n",
       "    <tr>\n",
       "      <th>25</th>\n",
       "      <td>housing=unknown</td>\n",
       "      <td>0.001823</td>\n",
       "    </tr>\n",
       "    <tr>\n",
       "      <th>40</th>\n",
       "      <td>loan=unknown</td>\n",
       "      <td>0.001837</td>\n",
       "    </tr>\n",
       "    <tr>\n",
       "      <th>55</th>\n",
       "      <td>month=sep</td>\n",
       "      <td>0.002025</td>\n",
       "    </tr>\n",
       "    <tr>\n",
       "      <th>4</th>\n",
       "      <td>contact=cellular</td>\n",
       "      <td>0.002408</td>\n",
       "    </tr>\n",
       "    <tr>\n",
       "      <th>22</th>\n",
       "      <td>emp.var.rate</td>\n",
       "      <td>0.002516</td>\n",
       "    </tr>\n",
       "    <tr>\n",
       "      <th>35</th>\n",
       "      <td>job=student</td>\n",
       "      <td>0.002713</td>\n",
       "    </tr>\n",
       "    <tr>\n",
       "      <th>46</th>\n",
       "      <td>month=apr</td>\n",
       "      <td>0.002993</td>\n",
       "    </tr>\n",
       "    <tr>\n",
       "      <th>38</th>\n",
       "      <td>job=unknown</td>\n",
       "      <td>0.003190</td>\n",
       "    </tr>\n",
       "    <tr>\n",
       "      <th>49</th>\n",
       "      <td>month=jul</td>\n",
       "      <td>0.003603</td>\n",
       "    </tr>\n",
       "    <tr>\n",
       "      <th>29</th>\n",
       "      <td>job=entrepreneur</td>\n",
       "      <td>0.004120</td>\n",
       "    </tr>\n",
       "    <tr>\n",
       "      <th>30</th>\n",
       "      <td>job=housemaid</td>\n",
       "      <td>0.004638</td>\n",
       "    </tr>\n",
       "    <tr>\n",
       "      <th>59</th>\n",
       "      <td>poutcome=nonexistent</td>\n",
       "      <td>0.004663</td>\n",
       "    </tr>\n",
       "    <tr>\n",
       "      <th>37</th>\n",
       "      <td>job=unemployed</td>\n",
       "      <td>0.004982</td>\n",
       "    </tr>\n",
       "    <tr>\n",
       "      <th>32</th>\n",
       "      <td>job=retired</td>\n",
       "      <td>0.005446</td>\n",
       "    </tr>\n",
       "    <tr>\n",
       "      <th>15</th>\n",
       "      <td>education=basic.6y</td>\n",
       "      <td>0.005610</td>\n",
       "    </tr>\n",
       "    <tr>\n",
       "      <th>54</th>\n",
       "      <td>month=oct</td>\n",
       "      <td>0.005659</td>\n",
       "    </tr>\n",
       "    <tr>\n",
       "      <th>5</th>\n",
       "      <td>contact=telephone</td>\n",
       "      <td>0.005711</td>\n",
       "    </tr>\n",
       "    <tr>\n",
       "      <th>33</th>\n",
       "      <td>job=self-employed</td>\n",
       "      <td>0.006025</td>\n",
       "    </tr>\n",
       "    <tr>\n",
       "      <th>21</th>\n",
       "      <td>education=unknown</td>\n",
       "      <td>0.006061</td>\n",
       "    </tr>\n",
       "    <tr>\n",
       "      <th>11</th>\n",
       "      <td>default=no</td>\n",
       "      <td>0.006129</td>\n",
       "    </tr>\n",
       "    <tr>\n",
       "      <th>...</th>\n",
       "      <td>...</td>\n",
       "      <td>...</td>\n",
       "    </tr>\n",
       "    <tr>\n",
       "      <th>31</th>\n",
       "      <td>job=management</td>\n",
       "      <td>0.008656</td>\n",
       "    </tr>\n",
       "    <tr>\n",
       "      <th>3</th>\n",
       "      <td>cons.price.idx</td>\n",
       "      <td>0.008976</td>\n",
       "    </tr>\n",
       "    <tr>\n",
       "      <th>58</th>\n",
       "      <td>poutcome=failure</td>\n",
       "      <td>0.009162</td>\n",
       "    </tr>\n",
       "    <tr>\n",
       "      <th>61</th>\n",
       "      <td>previous</td>\n",
       "      <td>0.009518</td>\n",
       "    </tr>\n",
       "    <tr>\n",
       "      <th>14</th>\n",
       "      <td>education=basic.4y</td>\n",
       "      <td>0.009839</td>\n",
       "    </tr>\n",
       "    <tr>\n",
       "      <th>16</th>\n",
       "      <td>education=basic.9y</td>\n",
       "      <td>0.010846</td>\n",
       "    </tr>\n",
       "    <tr>\n",
       "      <th>42</th>\n",
       "      <td>marital=divorced</td>\n",
       "      <td>0.011072</td>\n",
       "    </tr>\n",
       "    <tr>\n",
       "      <th>19</th>\n",
       "      <td>education=professional.course</td>\n",
       "      <td>0.011480</td>\n",
       "    </tr>\n",
       "    <tr>\n",
       "      <th>39</th>\n",
       "      <td>loan=no</td>\n",
       "      <td>0.011825</td>\n",
       "    </tr>\n",
       "    <tr>\n",
       "      <th>9</th>\n",
       "      <td>day_of_week=tue</td>\n",
       "      <td>0.013021</td>\n",
       "    </tr>\n",
       "    <tr>\n",
       "      <th>8</th>\n",
       "      <td>day_of_week=thu</td>\n",
       "      <td>0.013485</td>\n",
       "    </tr>\n",
       "    <tr>\n",
       "      <th>28</th>\n",
       "      <td>job=blue-collar</td>\n",
       "      <td>0.013840</td>\n",
       "    </tr>\n",
       "    <tr>\n",
       "      <th>10</th>\n",
       "      <td>day_of_week=wed</td>\n",
       "      <td>0.013919</td>\n",
       "    </tr>\n",
       "    <tr>\n",
       "      <th>17</th>\n",
       "      <td>education=high.school</td>\n",
       "      <td>0.014118</td>\n",
       "    </tr>\n",
       "    <tr>\n",
       "      <th>6</th>\n",
       "      <td>day_of_week=fri</td>\n",
       "      <td>0.014465</td>\n",
       "    </tr>\n",
       "    <tr>\n",
       "      <th>7</th>\n",
       "      <td>day_of_week=mon</td>\n",
       "      <td>0.015201</td>\n",
       "    </tr>\n",
       "    <tr>\n",
       "      <th>43</th>\n",
       "      <td>marital=married</td>\n",
       "      <td>0.015424</td>\n",
       "    </tr>\n",
       "    <tr>\n",
       "      <th>41</th>\n",
       "      <td>loan=yes</td>\n",
       "      <td>0.015869</td>\n",
       "    </tr>\n",
       "    <tr>\n",
       "      <th>36</th>\n",
       "      <td>job=technician</td>\n",
       "      <td>0.016004</td>\n",
       "    </tr>\n",
       "    <tr>\n",
       "      <th>2</th>\n",
       "      <td>cons.conf.idx</td>\n",
       "      <td>0.018250</td>\n",
       "    </tr>\n",
       "    <tr>\n",
       "      <th>20</th>\n",
       "      <td>education=university.degree</td>\n",
       "      <td>0.018591</td>\n",
       "    </tr>\n",
       "    <tr>\n",
       "      <th>44</th>\n",
       "      <td>marital=single</td>\n",
       "      <td>0.018640</td>\n",
       "    </tr>\n",
       "    <tr>\n",
       "      <th>27</th>\n",
       "      <td>job=admin.</td>\n",
       "      <td>0.020651</td>\n",
       "    </tr>\n",
       "    <tr>\n",
       "      <th>26</th>\n",
       "      <td>housing=yes</td>\n",
       "      <td>0.023000</td>\n",
       "    </tr>\n",
       "    <tr>\n",
       "      <th>24</th>\n",
       "      <td>housing=no</td>\n",
       "      <td>0.023909</td>\n",
       "    </tr>\n",
       "    <tr>\n",
       "      <th>57</th>\n",
       "      <td>pdays</td>\n",
       "      <td>0.042000</td>\n",
       "    </tr>\n",
       "    <tr>\n",
       "      <th>1</th>\n",
       "      <td>campaign</td>\n",
       "      <td>0.076356</td>\n",
       "    </tr>\n",
       "    <tr>\n",
       "      <th>23</th>\n",
       "      <td>euribor3m</td>\n",
       "      <td>0.087299</td>\n",
       "    </tr>\n",
       "    <tr>\n",
       "      <th>56</th>\n",
       "      <td>nr.employed</td>\n",
       "      <td>0.157062</td>\n",
       "    </tr>\n",
       "    <tr>\n",
       "      <th>0</th>\n",
       "      <td>age</td>\n",
       "      <td>0.170723</td>\n",
       "    </tr>\n",
       "  </tbody>\n",
       "</table>\n",
       "<p>62 rows × 2 columns</p>\n",
       "</div>"
      ],
      "text/plain": [
       "                         Features  Importance\n",
       "48                      month=dec    0.000000\n",
       "13                    default=yes    0.000000\n",
       "18           education=illiterate    0.000314\n",
       "45                marital=unknown    0.000502\n",
       "50                      month=jun    0.000658\n",
       "60               poutcome=success    0.000899\n",
       "51                      month=mar    0.000967\n",
       "53                      month=nov    0.001063\n",
       "52                      month=may    0.001344\n",
       "47                      month=aug    0.001742\n",
       "25                housing=unknown    0.001823\n",
       "40                   loan=unknown    0.001837\n",
       "55                      month=sep    0.002025\n",
       "4                contact=cellular    0.002408\n",
       "22                   emp.var.rate    0.002516\n",
       "35                    job=student    0.002713\n",
       "46                      month=apr    0.002993\n",
       "38                    job=unknown    0.003190\n",
       "49                      month=jul    0.003603\n",
       "29               job=entrepreneur    0.004120\n",
       "30                  job=housemaid    0.004638\n",
       "59           poutcome=nonexistent    0.004663\n",
       "37                 job=unemployed    0.004982\n",
       "32                    job=retired    0.005446\n",
       "15             education=basic.6y    0.005610\n",
       "54                      month=oct    0.005659\n",
       "5               contact=telephone    0.005711\n",
       "33              job=self-employed    0.006025\n",
       "21              education=unknown    0.006061\n",
       "11                     default=no    0.006129\n",
       "..                            ...         ...\n",
       "31                 job=management    0.008656\n",
       "3                  cons.price.idx    0.008976\n",
       "58               poutcome=failure    0.009162\n",
       "61                       previous    0.009518\n",
       "14             education=basic.4y    0.009839\n",
       "16             education=basic.9y    0.010846\n",
       "42               marital=divorced    0.011072\n",
       "19  education=professional.course    0.011480\n",
       "39                        loan=no    0.011825\n",
       "9                 day_of_week=tue    0.013021\n",
       "8                 day_of_week=thu    0.013485\n",
       "28                job=blue-collar    0.013840\n",
       "10                day_of_week=wed    0.013919\n",
       "17          education=high.school    0.014118\n",
       "6                 day_of_week=fri    0.014465\n",
       "7                 day_of_week=mon    0.015201\n",
       "43                marital=married    0.015424\n",
       "41                       loan=yes    0.015869\n",
       "36                 job=technician    0.016004\n",
       "2                   cons.conf.idx    0.018250\n",
       "20    education=university.degree    0.018591\n",
       "44                 marital=single    0.018640\n",
       "27                     job=admin.    0.020651\n",
       "26                    housing=yes    0.023000\n",
       "24                     housing=no    0.023909\n",
       "57                          pdays    0.042000\n",
       "1                        campaign    0.076356\n",
       "23                      euribor3m    0.087299\n",
       "56                    nr.employed    0.157062\n",
       "0                             age    0.170723\n",
       "\n",
       "[62 rows x 2 columns]"
      ]
     },
     "execution_count": 122,
     "metadata": {},
     "output_type": "execute_result"
    }
   ],
   "source": [
    "df = pd.DataFrame({\"Features\": vec.get_feature_names(),\"Importance\": dtclf.feature_importances_})\n",
    "df=df.sort_values(by='Importance', ascending = True)\n",
    "df#.reset_index(inplace=True)\n"
   ]
  },
  {
   "cell_type": "code",
   "execution_count": 139,
   "metadata": {
    "collapsed": false
   },
   "outputs": [
    {
     "data": {
      "text/plain": [
       "<matplotlib.axes._subplots.AxesSubplot at 0x16b45f60>"
      ]
     },
     "execution_count": 139,
     "metadata": {},
     "output_type": "execute_result"
    },
    {
     "data": {
      "image/png": "[encoded data removed]",
      "text/plain": [
       "<matplotlib.figure.Figure at 0x16b227f0>"
      ]
     },
     "metadata": {},
     "output_type": "display_data"
    }
   ],
   "source": [
    "df['cum_sum'] = df.Importance.cumsum()\n",
    "df.plot(kind='barh',align='center', figsize=(14,10))"
   ]
  },
  {
   "cell_type": "markdown",
   "metadata": {},
   "source": [
    "# SVM"
   ]
  },
  {
   "cell_type": "code",
   "execution_count": 136,
   "metadata": {
    "collapsed": false
   },
   "outputs": [
    {
     "name": "stdout",
     "output_type": "stream",
     "text": [
      "training time: 692.846 s\n",
      "prediction time: 17.859 s\n",
      "0.847940438618\n",
      "0.750823823425\n",
      "[[9595 1349]\n",
      " [ 530  883]]\n",
      "             precision    recall  f1-score   support\n",
      "\n",
      "          0       0.95      0.88      0.91     10944\n",
      "          1       0.40      0.62      0.48      1413\n",
      "\n",
      "avg / total       0.88      0.85      0.86     12357\n",
      "\n"
     ]
    },
    {
     "name": "stderr",
     "output_type": "stream",
     "text": [
      "C:\\Users\\mahesh\\Anaconda2\\lib\\site-packages\\sklearn\\utils\\class_weight.py:62: DeprecationWarning: The class_weight='auto' heuristic is deprecated in 0.17 in favor of a new heuristic class_weight='balanced'. 'auto' will be removed in 0.19\n",
      "  \" 0.19\", DeprecationWarning)\n"
     ]
    }
   ],
   "source": [
    "from time import time\n",
    "clf_svm = sklearn.svm.SVC(class_weight='auto',probability=True)\n",
    "\n",
    "t0 = time()\n",
    "clf_svm.fit(X_train, y_train)\n",
    "print \"training time:\", round(time()-t0, 3), \"s\"\n",
    "\n",
    "t0 = time()\n",
    "pred_svm = clf_svm.predict(X_test)\n",
    "print \"prediction time:\", round(time()-t0, 3), \"s\"\n",
    "\n",
    "\n",
    "print clf_svm.score(X_test,y_test)\n",
    "print sklearn.metrics.roc_auc_score(y_test, pred_svm)\n",
    "print sklearn.metrics.confusion_matrix(y_test, pred_svm)\n",
    "print sklearn.metrics.classification_report(y_test, pred_svm)"
   ]
  },
  {
   "cell_type": "markdown",
   "metadata": {},
   "source": [
    "# Gaussian Naive Bayes Classifier"
   ]
  },
  {
   "cell_type": "code",
   "execution_count": 141,
   "metadata": {
    "collapsed": false
   },
   "outputs": [
    {
     "name": "stdout",
     "output_type": "stream",
     "text": [
      "0.853848021364\n",
      "0.684204415298\n"
     ]
    }
   ],
   "source": [
    "from sklearn.naive_bayes import GaussianNB\n",
    "\n",
    "nbclf = GaussianNB()\n",
    "nbclf.fit(X_train, y_train)\n",
    "\n",
    "nb_pred = nbclf.predict(X_test)\n",
    "print metrics.accuracy_score(y_test, nb_pred)\n",
    "print metrics.roc_auc_score(y_test, nb_pred)"
   ]
  },
  {
   "cell_type": "code",
   "execution_count": 145,
   "metadata": {
    "collapsed": true
   },
   "outputs": [],
   "source": [
    "svm_prob= clf_svm.predict_proba(X_test)\n",
    "nb_prob=nbclf.predict_proba(X_test)"
   ]
  },
  {
   "cell_type": "markdown",
   "metadata": {},
   "source": [
    "# K Nearest Neighbors"
   ]
  },
  {
   "cell_type": "code",
   "execution_count": 142,
   "metadata": {
    "collapsed": false
   },
   "outputs": [
    {
     "name": "stdout",
     "output_type": "stream",
     "text": [
      "0.889455369426\n",
      "0.626956107759\n",
      "CV scores : 0.890325988281\n"
     ]
    }
   ],
   "source": [
    "knnclf = KNeighborsClassifier()\n",
    "knnclf.fit(X_train, y_train)\n",
    "\n",
    "# predict class labels for the test set\n",
    "knn_pred = knnclf.predict(X_test)\n",
    "# generate class probabilities\n",
    "knn_prob = knnclf.predict_proba(X_test)\n",
    "\n",
    "# generate evaluation metrics\n",
    "print metrics.accuracy_score(y_test, knn_pred)\n",
    "print metrics.roc_auc_score(y_test, knn_pred)\n",
    "\n",
    "# evaluate the model using 10-fold cross-validation\n",
    "scores = cross_val_score(knnclf, X_train, y_train, scoring='accuracy', cv=10)\n",
    "print \"CV scores :\" , scores.mean()\n"
   ]
  },
  {
   "cell_type": "markdown",
   "metadata": {},
   "source": [
    "# Random Forest"
   ]
  },
  {
   "cell_type": "code",
   "execution_count": 144,
   "metadata": {
    "collapsed": false
   },
   "outputs": [
    {
     "name": "stdout",
     "output_type": "stream",
     "text": [
      "0.891802217367\n",
      "0.625507505494\n",
      "[[10624   320]\n",
      " [ 1017   396]]\n",
      "             precision    recall  f1-score   support\n",
      "\n",
      "          0       0.91      0.97      0.94     10944\n",
      "          1       0.55      0.28      0.37      1413\n",
      "\n",
      "avg / total       0.87      0.89      0.88     12357\n",
      "\n",
      "0.894072086438\n"
     ]
    }
   ],
   "source": [
    "rfclf = RandomForestClassifier(n_estimators=100,max_features='auto',min_samples_split=1)\n",
    "rfclf.fit(X_train, y_train)\n",
    "# predict class labels for the test set\n",
    "rf_pred = rfclf.predict(X_test)\n",
    "# generate class probabilities\n",
    "rf_prob = rfclf.predict_proba(X_test)\n",
    "# generate evaluation metrics\n",
    "print metrics.accuracy_score(y_test, rf_pred)\n",
    "print metrics.roc_auc_score(y_test, rf_pred)\n",
    "print metrics.confusion_matrix(y_test, rf_pred)\n",
    "print metrics.classification_report(y_test, rf_pred)\n",
    "\n",
    "# evaluate the model using 10-fold cross-validation\n",
    "scores = cross_val_score(rfclf, X_train, y_train, scoring='accuracy', cv=10)\n",
    "print scores.mean()"
   ]
  },
  {
   "cell_type": "markdown",
   "metadata": {},
   "source": [
    "# Evaluating Performance of Models <br> (Logistic Regression, Decision Trees, SVM, Gaussian NB, Random Forest)"
   ]
  },
  {
   "cell_type": "markdown",
   "metadata": {},
   "source": [
    "## #1 ROC Curve"
   ]
  },
  {
   "cell_type": "code",
   "execution_count": 174,
   "metadata": {
    "collapsed": false
   },
   "outputs": [
    {
     "data": {
      "image/png": "[encoded data removed]",
      "text/plain": [
       "<matplotlib.figure.Figure at 0x15a24048>"
      ]
     },
     "metadata": {},
     "output_type": "display_data"
    }
   ],
   "source": [
    "#Logistic Regression, Decision Trees, SVM, Gaussian NB, Random Forest\n",
    "fpr = dict()\n",
    "tpr = dict()\n",
    "roc_auc = dict()\n",
    "\n",
    "fpr[0], tpr[0], _ = roc_curve(y_test, LRprob[:,1])\n",
    "roc_auc[0] = auc(fpr[0], tpr[0])\n",
    "\n",
    "fpr[1], tpr[1], _ = roc_curve(y_test, DTprob[:,1])\n",
    "roc_auc[1] = auc(fpr[1], tpr[1])\n",
    "\n",
    "fpr[2], tpr[2], _ = roc_curve(y_test, svm_prob[:,1])\n",
    "roc_auc[2] = auc(fpr[2], tpr[2])\n",
    "\n",
    "fpr[3], tpr[3], _ = roc_curve(y_test, nb_prob[:,1])\n",
    "roc_auc[3] = auc(fpr[3], tpr[3])\n",
    "\n",
    "fpr[4], tpr[4], _ = roc_curve(y_test, rf_prob[:,1])\n",
    "roc_auc[4] = auc(fpr[4], tpr[4])\n",
    "\n",
    "fpr[5], tpr[5], _ = roc_curve(y_test, knn_prob[:,1])\n",
    "roc_auc[5] = auc(fpr[5], tpr[5])\n",
    "\n",
    "\n",
    "# Plot of a ROC curve \n",
    "plt.figure(figsize=(14,10))\n",
    "plt.plot(fpr[0], tpr[0], label='ROC curve Logistic(area = %0.2f)' % roc_auc[0])\n",
    "plt.plot(fpr[1], tpr[1], label='ROC curve Decision Tree (area = %0.2f)' % roc_auc[1])\n",
    "plt.plot(fpr[2], tpr[2], label='ROC curve SVM (area = %0.2f)' % roc_auc[2])\n",
    "plt.plot(fpr[3], tpr[3], label='ROC curve Gaussian NB (area = %0.2f)' % roc_auc[3])\n",
    "plt.plot(fpr[4], tpr[4], label='ROC curve Random Forest (area = %0.2f)' % roc_auc[4])\n",
    "plt.plot(fpr[5], tpr[5], label='ROC curve KNN (area = %0.2f)' % roc_auc[5])\n",
    "\n",
    "plt.plot([0, 1], [0, 1], 'k--')\n",
    "plt.xlim([0.0, 1.0])\n",
    "plt.ylim([0.0, 1.05])\n",
    "plt.xlabel('False Positive Rate')\n",
    "plt.ylabel('True Positive Rate')\n",
    "plt.title('Receiver operating characteristic curve')\n",
    "plt.legend(loc=\"lower right\")\n",
    "plt.show()"
   ]
  },
  {
   "cell_type": "markdown",
   "metadata": {},
   "source": [
    "##  Lift Chart and Lift Curve "
   ]
  },
  {
   "cell_type": "markdown",
   "metadata": {},
   "source": [
    "Lift Chart/Lift Curve compares Predictive Models against Random results "
   ]
  },
  {
   "cell_type": "code",
   "execution_count": 24,
   "metadata": {
    "collapsed": false
   },
   "outputs": [],
   "source": [
    "#This Function takes results of predict_proba(model), Y_test(Real result) and model name(for column names) as input\n",
    "#This function calculates conversion_rate/Proportion of total sales for the the Nth percentile of predict_proba.\n",
    "#it returns a data_frame with columns 'first n%', 'sales', 'sales_proportion' for first n%\n",
    "def lift(prob, Y_t, model):\n",
    "    final_prob_model = [i for i in prob[:,1]]\n",
    "    prob_test_model = pd.DataFrame({ 'prob' : pd.Series(final_prob_model),\n",
    "                           'result' : pd.Series(Y_t.ravel())\n",
    "                        })\n",
    "    lift_model = pd.DataFrame(columns=['first n%', 'sales_'+model, 'total_conversion_rate'])\n",
    "    lift_model.loc[0] = [0,0,np.mean(prob_test_model['result'])]\n",
    "    for p in np.arange(1,11,1):\n",
    "        per = np.percentile(prob_test_model['prob'], 100-p*10)\n",
    "        if (per==1):\n",
    "            lift_model.loc[p] =  [p*10, np.sum(prob_test_model['result'][prob_test_model.prob >= per]), np.mean(prob_test_model['result'])]\n",
    "        else:\n",
    "            lift_model.loc[p] =  [p*10, np.sum(prob_test_model['result'][prob_test_model.prob > per]), np.mean(prob_test_model['result'])]\n",
    "    #lift_model['lift_'+model] = lift_model['conversion_rate_'+model]/lift_model['total_conversion_rate_'+model]\n",
    "    lift_model['sales_proportion_'+model] = lift_model['sales_'+model]/np.sum(prob_test_model['result'])*100\n",
    "    return lift_model"
   ]
  },
  {
   "cell_type": "code",
   "execution_count": 25,
   "metadata": {
    "collapsed": false
   },
   "outputs": [
    {
     "data": {
      "text/html": [
       "<div style=\"max-height:1000px;max-width:1500px;overflow:auto;\">\n",
       "<table border=\"1\" class=\"dataframe\">\n",
       "  <thead>\n",
       "    <tr style=\"text-align: right;\">\n",
       "      <th></th>\n",
       "      <th>first n%</th>\n",
       "      <th>total_conversion_rate</th>\n",
       "      <th>sales_proportion_LR</th>\n",
       "      <th>sales_proportion_DT</th>\n",
       "      <th>sales_proportion_NB</th>\n",
       "      <th>sales_proportion_SVM</th>\n",
       "      <th>sales_proportion_KNN</th>\n",
       "      <th>sales_proportion_RF</th>\n",
       "    </tr>\n",
       "  </thead>\n",
       "  <tbody>\n",
       "    <tr>\n",
       "      <th>0 </th>\n",
       "      <td>   0</td>\n",
       "      <td> 0.1124059</td>\n",
       "      <td>        0</td>\n",
       "      <td>        0</td>\n",
       "      <td>        0</td>\n",
       "      <td>        0</td>\n",
       "      <td>        0</td>\n",
       "      <td>        0</td>\n",
       "    </tr>\n",
       "    <tr>\n",
       "      <th>1 </th>\n",
       "      <td>  10</td>\n",
       "      <td> 0.1124059</td>\n",
       "      <td> 41.61267</td>\n",
       "      <td> 34.70122</td>\n",
       "      <td>  41.2527</td>\n",
       "      <td> 40.60475</td>\n",
       "      <td> 27.86177</td>\n",
       "      <td> 33.18934</td>\n",
       "    </tr>\n",
       "    <tr>\n",
       "      <th>2 </th>\n",
       "      <td>  20</td>\n",
       "      <td> 0.1124059</td>\n",
       "      <td> 61.48308</td>\n",
       "      <td> 35.63715</td>\n",
       "      <td>  57.4514</td>\n",
       "      <td> 62.63499</td>\n",
       "      <td> 46.00432</td>\n",
       "      <td>   49.964</td>\n",
       "    </tr>\n",
       "    <tr>\n",
       "      <th>3 </th>\n",
       "      <td>  30</td>\n",
       "      <td> 0.1124059</td>\n",
       "      <td> 69.90641</td>\n",
       "      <td> 35.63715</td>\n",
       "      <td> 68.61051</td>\n",
       "      <td> 69.76242</td>\n",
       "      <td> 46.00432</td>\n",
       "      <td> 59.75522</td>\n",
       "    </tr>\n",
       "    <tr>\n",
       "      <th>4 </th>\n",
       "      <td>  40</td>\n",
       "      <td> 0.1124059</td>\n",
       "      <td> 75.08999</td>\n",
       "      <td> 35.63715</td>\n",
       "      <td> 74.37005</td>\n",
       "      <td> 75.59395</td>\n",
       "      <td> 66.59467</td>\n",
       "      <td> 59.75522</td>\n",
       "    </tr>\n",
       "    <tr>\n",
       "      <th>5 </th>\n",
       "      <td>  50</td>\n",
       "      <td> 0.1124059</td>\n",
       "      <td> 80.56156</td>\n",
       "      <td> 35.63715</td>\n",
       "      <td> 79.91361</td>\n",
       "      <td> 79.19366</td>\n",
       "      <td> 66.59467</td>\n",
       "      <td> 73.29014</td>\n",
       "    </tr>\n",
       "    <tr>\n",
       "      <th>6 </th>\n",
       "      <td>  60</td>\n",
       "      <td> 0.1124059</td>\n",
       "      <td> 85.74514</td>\n",
       "      <td> 35.63715</td>\n",
       "      <td> 84.59323</td>\n",
       "      <td> 84.30526</td>\n",
       "      <td> 66.59467</td>\n",
       "      <td> 73.29014</td>\n",
       "    </tr>\n",
       "    <tr>\n",
       "      <th>7 </th>\n",
       "      <td>  70</td>\n",
       "      <td> 0.1124059</td>\n",
       "      <td> 89.84881</td>\n",
       "      <td> 35.63715</td>\n",
       "      <td> 89.05688</td>\n",
       "      <td> 88.40893</td>\n",
       "      <td> 66.59467</td>\n",
       "      <td> 73.29014</td>\n",
       "    </tr>\n",
       "    <tr>\n",
       "      <th>8 </th>\n",
       "      <td>  80</td>\n",
       "      <td> 0.1124059</td>\n",
       "      <td> 93.59251</td>\n",
       "      <td> 35.63715</td>\n",
       "      <td> 92.08063</td>\n",
       "      <td> 91.64867</td>\n",
       "      <td> 66.59467</td>\n",
       "      <td> 73.29014</td>\n",
       "    </tr>\n",
       "    <tr>\n",
       "      <th>9 </th>\n",
       "      <td>  90</td>\n",
       "      <td> 0.1124059</td>\n",
       "      <td> 96.97624</td>\n",
       "      <td> 35.63715</td>\n",
       "      <td> 96.32829</td>\n",
       "      <td> 95.96832</td>\n",
       "      <td> 66.59467</td>\n",
       "      <td> 73.29014</td>\n",
       "    </tr>\n",
       "    <tr>\n",
       "      <th>10</th>\n",
       "      <td> 100</td>\n",
       "      <td> 0.1124059</td>\n",
       "      <td>      100</td>\n",
       "      <td> 35.63715</td>\n",
       "      <td>      100</td>\n",
       "      <td>      100</td>\n",
       "      <td> 66.59467</td>\n",
       "      <td> 73.29014</td>\n",
       "    </tr>\n",
       "  </tbody>\n",
       "</table>\n",
       "<p>11 rows × 8 columns</p>\n",
       "</div>"
      ],
      "text/plain": [
       "   first n% total_conversion_rate sales_proportion_LR sales_proportion_DT  \\\n",
       "0         0             0.1124059                   0                   0   \n",
       "1        10             0.1124059            41.61267            34.70122   \n",
       "2        20             0.1124059            61.48308            35.63715   \n",
       "3        30             0.1124059            69.90641            35.63715   \n",
       "4        40             0.1124059            75.08999            35.63715   \n",
       "5        50             0.1124059            80.56156            35.63715   \n",
       "6        60             0.1124059            85.74514            35.63715   \n",
       "7        70             0.1124059            89.84881            35.63715   \n",
       "8        80             0.1124059            93.59251            35.63715   \n",
       "9        90             0.1124059            96.97624            35.63715   \n",
       "10      100             0.1124059                 100            35.63715   \n",
       "\n",
       "   sales_proportion_NB sales_proportion_SVM sales_proportion_KNN  \\\n",
       "0                    0                    0                    0   \n",
       "1              41.2527             40.60475             27.86177   \n",
       "2              57.4514             62.63499             46.00432   \n",
       "3             68.61051             69.76242             46.00432   \n",
       "4             74.37005             75.59395             66.59467   \n",
       "5             79.91361             79.19366             66.59467   \n",
       "6             84.59323             84.30526             66.59467   \n",
       "7             89.05688             88.40893             66.59467   \n",
       "8             92.08063             91.64867             66.59467   \n",
       "9             96.32829             95.96832             66.59467   \n",
       "10                 100                  100             66.59467   \n",
       "\n",
       "   sales_proportion_RF  \n",
       "0                    0  \n",
       "1             33.18934  \n",
       "2               49.964  \n",
       "3             59.75522  \n",
       "4             59.75522  \n",
       "5             73.29014  \n",
       "6             73.29014  \n",
       "7             73.29014  \n",
       "8             73.29014  \n",
       "9             73.29014  \n",
       "10            73.29014  \n",
       "\n",
       "[11 rows x 8 columns]"
      ]
     },
     "execution_count": 25,
     "metadata": {},
     "output_type": "execute_result"
    }
   ],
   "source": [
    "lift_LR = lift(LR_predprobability, Y_test, 'LR')\n",
    "lift_DT = lift(DT_predprobability, Y_test, 'DT')\n",
    "lift_NB = lift(NB_predprobability, Y_test, 'NB')\n",
    "lift_SVM = lift(SVM_predprobability, Y_test, 'SVM')\n",
    "lift_KNN = lift(KNN_predprobability, Y_test, 'KNN')\n",
    "lift_RF = lift(RF_predprobability, Y_test, 'RF')\n",
    "\n",
    "lift_comp = lift_LR[['first n%', 'total_conversion_rate', 'sales_proportion_LR']]\n",
    "\n",
    "lift_comp['sales_proportion_DT'] = lift_DT['sales_proportion_DT']\n",
    "lift_comp['sales_proportion_NB'] = lift_NB['sales_proportion_NB']\n",
    "lift_comp['sales_proportion_SVM'] = lift_SVM['sales_proportion_SVM']\n",
    "lift_comp['sales_proportion_KNN'] = lift_KNN['sales_proportion_KNN']\n",
    "lift_comp['sales_proportion_RF'] = lift_RF['sales_proportion_RF']\n",
    "\n",
    "lift_comp"
   ]
  },
  {
   "cell_type": "markdown",
   "metadata": {},
   "source": [
    "### Comparing different models based on Lift Chart "
   ]
  },
  {
   "cell_type": "markdown",
   "metadata": {},
   "source": [
    "###### Observation 13"
   ]
  },
  {
   "cell_type": "markdown",
   "metadata": {},
   "source": [
    "Sales_proportion - It tells total number of true conversions in the first n% of high probabilites in predict_proba\n",
    "\n",
    "                   for example sales_proportion_SVM is 40.6 for first 10%. \n",
    "                   \n",
    "If clients are contacted randomly without using any predictors 10% of leads would yield to 10% of total sales, 20% of leads would yield to 20% of total sales and so on. But if we use a predictor and choose clients according to the rank of probabilities, there will be a lift in converstion rate. In the above example first 10% of the leads would lead to 40.6% of the total sales, which is a very useful information for the Bank\n",
    "\n",
    "\n",
    "\n",
    "<b>SVM, Logistic Regression and Gaussian Naive Bayes have better performance when compared to Random Forests, KNN and Decision.\n",
    "Trees. </b>\n",
    "\n",
    "****************************************************************************************"
   ]
  },
  {
   "cell_type": "markdown",
   "metadata": {},
   "source": [
    "## Lift Curve"
   ]
  },
  {
   "cell_type": "markdown",
   "metadata": {},
   "source": [
    "The same data in Lift chart is visualised in Lift Curve"
   ]
  },
  {
   "cell_type": "code",
   "execution_count": 26,
   "metadata": {
    "collapsed": false
   },
   "outputs": [
    {
     "data": {
      "text/plain": [
       "<matplotlib.legend.Legend at 0x10a8d0a10>"
      ]
     },
     "execution_count": 26,
     "metadata": {},
     "output_type": "execute_result"
    },
    {
     "data": {
      "image/png": "[encoded data removed]",
      "text/plain": [
       "<matplotlib.figure.Figure at 0x10ce916d0>"
      ]
     },
     "metadata": {},
     "output_type": "display_data"
    }
   ],
   "source": [
    "plt.figure(figsize=(14,10))\n",
    "plt.plot(lift_comp['first n%'], lift_comp['sales_proportion_NB'], label='Gaussian Naive Bayes')\n",
    "plt.plot(lift_comp['first n%'], lift_comp['sales_proportion_SVM'], label='SVM')\n",
    "plt.plot(lift_comp['first n%'], lift_comp['sales_proportion_DT'], label='Decision Tree')\n",
    "plt.plot(lift_comp['first n%'], lift_comp['sales_proportion_LR'], label='Logistic Regression')\n",
    "plt.plot(lift_comp['first n%'], lift_comp['sales_proportion_KNN'], label='KNN')\n",
    "plt.plot(lift_comp['first n%'], lift_comp['sales_proportion_RF'], label='Random Forest')\n",
    "plt.plot(np.arange(0,101,10), np.arange(0,101,10), 'k--')\n",
    "plt.xlabel('First n% of clients(based on predict_proba)')\n",
    "plt.ylabel('proportion of sales')\n",
    "plt.title('Lift Curve')\n",
    "plt.legend(loc=\"lower right\")\n"
   ]
  },
  {
   "cell_type": "markdown",
   "metadata": {},
   "source": [
    "<b>Unsupervised Method - PCA (Biplot creation)</b>\n",
    "<img src=\"https://raw.githubusercontent.com/rashmibanthia/coursework/master/CS109/project/Rplot.png\"/>"
   ]
  },
  {
   "cell_type": "markdown",
   "metadata": {},
   "source": [
    "******************************************* <b>R Code to create biplot</b>***************************************************************\n",
    "\n",
    "\n",
    "\n",
    "bank = read.csv(\"bank-additional-full.csv\",sep=\";\")<br>\n",
    "par(mfrow=c(1,1))<br>\n",
    "df = aggregate(cbind(pdays,previous,duration,cons.conf.idx,emp.var.rate,euribor3m)~job,bank,sum)<br>\n",
    "row.names(df)=df[,1]<br>\n",
    "drops <- c(\"job\")<br>\n",
    "df = df[,!(names(df) %in% drops)]<br>\n",
    "pr.out = prcomp(df[-12,],scale=TRUE)<br>\n",
    "biplot(pr.out,scale=0,cex=0.7,xlab=\"Principal Component 1\", ylab=\"Principal Compoenent 2\")<br>\n",
    "\n",
    "***************************************************************************************************************"
   ]
  },
  {
   "cell_type": "markdown",
   "metadata": {},
   "source": [
    "<b>Observation # 14: </b>\n",
    "\n",
    "Above BiPlot is created in R. Here we see that euribor3m, pdays, duration are correlated variables. Similarly housemaid, entrepreneur, self-employed are also correlated. cons.conf.idx isn't correlated with euribor3m, pdays and duration.\n",
    "\n",
    "The 41000(approx.) observations have been grouped by job type (eg: management, retired, student etc).  The numeric variables(emp.var.rate,cons.conf.idx,etc) are averages within the group. \n",
    "\n",
    "****************************************************************************************"
   ]
  },
  {
   "cell_type": "code",
   "execution_count": 26,
   "metadata": {
    "collapsed": false
   },
   "outputs": [],
   "source": []
  },
  {
   "cell_type": "markdown",
   "metadata": {},
   "source": [
    "<b>Final Summary:</b>\n",
    "We used a Portuguese Banking Institution dataset for the 'Direct Marketing campaigns' with 41000 data points. Five classification models were tested (i.e., Logistics Regression, Decision Trees, Naïve Bayes, Support Vector Machines and Random Forest). We predicted the probability of customer accepting a term deposit for a customer not present in dataset. \n",
    "\n",
    "We compared the six classification models using two relevant criteria: ROC and Lift curve analysis. ROC and Lift curve are better predictors for evaluating marketing predictors as compare to accuracy score. Based on ROC curves, Lift Charts and Lift Curves for different models, <u>we observed Support Vector Machine (Area Under Curve = 0.74) and Logistics Regression obtained best results for this dataset</u>. \n",
    "\n",
    "\n",
    "<b> Challanges: </b> We tried few things not mentioned in our notebook - primarily because they weren't required or didn't work as well as we hoped. We tried - mapping our categorical variables to integers with out one hot encoding, Multinomial NB, Logistic Regression with dmatrices, Hierarchical clustering. We tried to get some external data, however the newer version of the dataset already had external factors included in it. Cross validation for SVM was avoided due to its computationally intensive requirements. Some things we could have added were - feature selection, better cross validation on all models. \n",
    "****************************************************************************************"
   ]
  },
  {
   "cell_type": "code",
   "execution_count": 26,
   "metadata": {
    "collapsed": false
   },
   "outputs": [],
   "source": []
  }
 ],
 "metadata": {
  "kernelspec": {
   "display_name": "Python 2",
   "language": "python",
   "name": "python2"
  },
  "language_info": {
   "codemirror_mode": {
    "name": "ipython",
    "version": 2
   },
   "file_extension": ".py",
   "mimetype": "text/x-python",
   "name": "python",
   "nbconvert_exporter": "python",
   "pygments_lexer": "ipython2",
   "version": "2.7.11"
  }
 },
 "nbformat": 4,
 "nbformat_minor": 0
}

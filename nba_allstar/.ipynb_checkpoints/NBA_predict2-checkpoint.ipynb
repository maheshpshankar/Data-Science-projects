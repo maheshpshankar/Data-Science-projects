{
 "cells": [
  {
   "cell_type": "code",
   "execution_count": 1,
   "metadata": {
    "collapsed": true
   },
   "outputs": [],
   "source": [
    "import pandas as pd, matplotlib.pyplot as plt, numpy as np\n",
    "import csv\n",
    "from sklearn.linear_model import LogisticRegression\n",
    "from sklearn.cross_validation import train_test_split\n",
    "from sklearn import metrics\n",
    "%matplotlib inline"
   ]
  },
  {
   "cell_type": "code",
   "execution_count": 2,
   "metadata": {
    "collapsed": true
   },
   "outputs": [],
   "source": [
    "nba = pd.read_csv('AllStarNBA')\n",
    "nba_2016=pd.read_csv('NBA_2016')"
   ]
  },
  {
   "cell_type": "code",
   "execution_count": 3,
   "metadata": {
    "collapsed": true
   },
   "outputs": [],
   "source": [
    "nba_2015= nba[nba.season_end == 2015]\n",
    "nbaHistoric= nba[nba.season_end <= 2014]"
   ]
  },
  {
   "cell_type": "code",
   "execution_count": 4,
   "metadata": {
    "collapsed": true
   },
   "outputs": [],
   "source": [
    "nbaHistoric2= nba[nba.season_end <= 2015]"
   ]
  },
  {
   "cell_type": "code",
   "execution_count": 5,
   "metadata": {
    "collapsed": false,
    "scrolled": true
   },
   "outputs": [
    {
     "name": "stdout",
     "output_type": "stream",
     "text": [
      "<class 'pandas.core.frame.DataFrame'>\n",
      "Int64Index: 10965 entries, 0 to 10964\n",
      "Data columns (total 53 columns):\n",
      "Unnamed: 0      10965 non-null int64\n",
      "player          10965 non-null object\n",
      "pos             10965 non-null object\n",
      "age             10965 non-null int64\n",
      "bref_team_id    10965 non-null object\n",
      "g               10965 non-null int64\n",
      "gs              10965 non-null int64\n",
      "mp              10965 non-null float64\n",
      "fg              10965 non-null float64\n",
      "fga             10965 non-null float64\n",
      "fg_             10965 non-null float64\n",
      "x3p             10965 non-null float64\n",
      "x3pa            10965 non-null float64\n",
      "x3p_            10965 non-null float64\n",
      "x2p             10965 non-null float64\n",
      "x2pa            10965 non-null float64\n",
      "x2p_            10965 non-null float64\n",
      "efg             10965 non-null float64\n",
      "ft              10965 non-null float64\n",
      "fta             10965 non-null float64\n",
      "ft_             10965 non-null float64\n",
      "orb             10965 non-null float64\n",
      "drb             10965 non-null float64\n",
      "trb             10965 non-null float64\n",
      "ast             10965 non-null float64\n",
      "stl             10965 non-null float64\n",
      "blk             10965 non-null float64\n",
      "tov             10965 non-null float64\n",
      "pf              10965 non-null float64\n",
      "pts             10965 non-null float64\n",
      "season_end      10965 non-null int64\n",
      "PER             10965 non-null float64\n",
      "TS%             10965 non-null float64\n",
      "3PAr            10965 non-null float64\n",
      "FTr             10965 non-null float64\n",
      "ORB%            10965 non-null float64\n",
      "DRB%            10965 non-null float64\n",
      "TRB%            10965 non-null float64\n",
      "AST%            10965 non-null float64\n",
      "STL%            10965 non-null float64\n",
      "BLK%            10965 non-null float64\n",
      "TOV%            10965 non-null float64\n",
      "USG%            10965 non-null float64\n",
      "OWS             10965 non-null float64\n",
      "DWS             10965 non-null float64\n",
      "WS              10965 non-null float64\n",
      "WS/48           10965 non-null float64\n",
      "OBPM            10965 non-null float64\n",
      "DBPM            10965 non-null float64\n",
      "BPM             10965 non-null float64\n",
      "VORP            10965 non-null float64\n",
      "year            312 non-null object\n",
      "team            10965 non-null object\n",
      "dtypes: float64(43), int64(5), object(5)\n",
      "memory usage: 4.5+ MB\n",
      "<class 'pandas.core.frame.DataFrame'>\n",
      "Int64Index: 495 entries, 10965 to 11459\n",
      "Data columns (total 53 columns):\n",
      "Unnamed: 0      495 non-null int64\n",
      "player          495 non-null object\n",
      "pos             495 non-null object\n",
      "age             495 non-null int64\n",
      "bref_team_id    495 non-null object\n",
      "g               495 non-null int64\n",
      "gs              495 non-null int64\n",
      "mp              495 non-null float64\n",
      "fg              495 non-null float64\n",
      "fga             495 non-null float64\n",
      "fg_             495 non-null float64\n",
      "x3p             495 non-null float64\n",
      "x3pa            495 non-null float64\n",
      "x3p_            495 non-null float64\n",
      "x2p             495 non-null float64\n",
      "x2pa            495 non-null float64\n",
      "x2p_            495 non-null float64\n",
      "efg             495 non-null float64\n",
      "ft              495 non-null float64\n",
      "fta             495 non-null float64\n",
      "ft_             495 non-null float64\n",
      "orb             495 non-null float64\n",
      "drb             495 non-null float64\n",
      "trb             495 non-null float64\n",
      "ast             495 non-null float64\n",
      "stl             495 non-null float64\n",
      "blk             495 non-null float64\n",
      "tov             495 non-null float64\n",
      "pf              495 non-null float64\n",
      "pts             495 non-null float64\n",
      "season_end      495 non-null int64\n",
      "PER             495 non-null float64\n",
      "TS%             495 non-null float64\n",
      "3PAr            495 non-null float64\n",
      "FTr             495 non-null float64\n",
      "ORB%            495 non-null float64\n",
      "DRB%            495 non-null float64\n",
      "TRB%            495 non-null float64\n",
      "AST%            495 non-null float64\n",
      "STL%            495 non-null float64\n",
      "BLK%            495 non-null float64\n",
      "TOV%            495 non-null float64\n",
      "USG%            495 non-null float64\n",
      "OWS             495 non-null float64\n",
      "DWS             495 non-null float64\n",
      "WS              495 non-null float64\n",
      "WS/48           495 non-null float64\n",
      "OBPM            495 non-null float64\n",
      "DBPM            495 non-null float64\n",
      "BPM             495 non-null float64\n",
      "VORP            495 non-null float64\n",
      "year            18 non-null object\n",
      "team            495 non-null object\n",
      "dtypes: float64(43), int64(5), object(5)\n",
      "memory usage: 208.8+ KB\n"
     ]
    }
   ],
   "source": [
    "d = nbaHistoric\n",
    "d.info()\n",
    "\n",
    "d_2015 = nba_2015\n",
    "d_2015.info()"
   ]
  },
  {
   "cell_type": "code",
   "execution_count": 33,
   "metadata": {
    "collapsed": true
   },
   "outputs": [],
   "source": [
    "col_u = [\"PER\",\"VORP\",\"ORB%\",\"DRB%\",\"FTr\",\"BLK%\",\"TS%\",\"STL%\",\"AST%\",\"3PAr\",\"USG%\",'DBPM','OBPM','BPM','PER','DWS','OWS','WS','WS/48','TOV%','TRB%']"
   ]
  },
  {
   "cell_type": "code",
   "execution_count": 34,
   "metadata": {
    "collapsed": false,
    "scrolled": true
   },
   "outputs": [],
   "source": [
    "features= d[col_u]\n",
    "features_2015 = d_2015[col_u]\n",
    "#d.team.replace('None',0,inplace=True)\n",
    "#labels=pd.to_numeric(d.team,errors='coerce')"
   ]
  },
  {
   "cell_type": "code",
   "execution_count": 35,
   "metadata": {
    "collapsed": false,
    "scrolled": true
   },
   "outputs": [],
   "source": [
    "#d.team= np.where(d.team != 'None',1,0)\n",
    "labels = d.team"
   ]
  },
  {
   "cell_type": "code",
   "execution_count": 36,
   "metadata": {
    "collapsed": false,
    "scrolled": true
   },
   "outputs": [
    {
     "data": {
      "text/plain": [
       "array(['None', '2.0', '3.0', '1.0'], dtype=object)"
      ]
     },
     "execution_count": 36,
     "metadata": {},
     "output_type": "execute_result"
    }
   ],
   "source": [
    "labels.unique()"
   ]
  },
  {
   "cell_type": "code",
   "execution_count": 37,
   "metadata": {
    "collapsed": false,
    "scrolled": true
   },
   "outputs": [],
   "source": [
    "features_train, features_test, labels_train, labels_test = train_test_split(features, labels, test_size=0.3, random_state=1)\n",
    "train = pd.DataFrame(data=features_train, columns=[col_u])\n",
    "train['team'] = labels_train\n",
    "test = pd.DataFrame(data=features_test, columns=[col_u])\n",
    "test['team'] = labels_test\n"
   ]
  },
  {
   "cell_type": "markdown",
   "metadata": {},
   "source": [
    "# Random Forest"
   ]
  },
  {
   "cell_type": "code",
   "execution_count": 38,
   "metadata": {
    "collapsed": false
   },
   "outputs": [
    {
     "name": "stdout",
     "output_type": "stream",
     "text": [
      "Accuracy = 98.3890577508 %\n",
      "0.978371162759\n"
     ]
    },
    {
     "data": {
      "text/plain": [
       "array([ 0.07104035,  0.06698714,  0.03382525,  0.03356925,  0.03339571,\n",
       "        0.02899891,  0.03594535,  0.03588499,  0.03736749,  0.03492888,\n",
       "        0.06006533,  0.03151876,  0.03563374,  0.04302535,  0.08416623,\n",
       "        0.05640057,  0.07568129,  0.09558965,  0.04069254,  0.03325881,\n",
       "        0.03202441])"
      ]
     },
     "execution_count": 38,
     "metadata": {},
     "output_type": "execute_result"
    }
   ],
   "source": [
    "from sklearn.ensemble import RandomForestClassifier\n",
    "from sklearn.metrics import accuracy_score\n",
    "from sklearn.cross_validation import cross_val_score\n",
    "\n",
    "clf = RandomForestClassifier(n_estimators=100,max_features='auto',min_samples_split=1)\n",
    "\n",
    "clf = clf.fit(features_train,labels_train)\n",
    "\n",
    "pred = clf.predict(features_test)\n",
    "\n",
    "print \"Accuracy =\", accuracy_score(pred, labels_test)*100,\"%\"\n",
    "scores = cross_val_score(clf, features_train, labels_train)\n",
    "print scores.mean()\n",
    "clf.feature_importances_"
   ]
  },
  {
   "cell_type": "code",
   "execution_count": 39,
   "metadata": {
    "collapsed": false,
    "scrolled": true
   },
   "outputs": [
    {
     "name": "stderr",
     "output_type": "stream",
     "text": [
      "C:\\Users\\mahesh\\Anaconda2\\lib\\site-packages\\ipykernel\\__main__.py:2: SettingWithCopyWarning: \n",
      "A value is trying to be set on a copy of a slice from a DataFrame.\n",
      "Try using .loc[row_indexer,col_indexer] = value instead\n",
      "\n",
      "See the caveats in the documentation: http://pandas.pydata.org/pandas-docs/stable/indexing.html#indexing-view-versus-copy\n",
      "  from ipykernel import kernelapp as app\n",
      "C:\\Users\\mahesh\\Anaconda2\\lib\\site-packages\\ipykernel\\__main__.py:3: SettingWithCopyWarning: \n",
      "A value is trying to be set on a copy of a slice from a DataFrame.\n",
      "Try using .loc[row_indexer,col_indexer] = value instead\n",
      "\n",
      "See the caveats in the documentation: http://pandas.pydata.org/pandas-docs/stable/indexing.html#indexing-view-versus-copy\n",
      "  app.launch_new_instance()\n"
     ]
    }
   ],
   "source": [
    "#features_2015 = d_2015[col_u]\n",
    "d_2015['pred2015']=clf.predict(features_2015)\n",
    "d_2015['rfprd']=clf.predict_proba(features_2015)[:, 1]\n",
    "#pred = clf.predict(features_test)\n",
    "df=d_2015[['player','team','pred2015','rfprd']]"
   ]
  },
  {
   "cell_type": "code",
   "execution_count": 40,
   "metadata": {
    "collapsed": false,
    "scrolled": false
   },
   "outputs": [
    {
     "data": {
      "text/html": [
       "<div>\n",
       "<table border=\"1\" class=\"dataframe\">\n",
       "  <thead>\n",
       "    <tr style=\"text-align: right;\">\n",
       "      <th></th>\n",
       "      <th>player</th>\n",
       "      <th>team</th>\n",
       "      <th>pred2015</th>\n",
       "      <th>rfprd</th>\n",
       "    </tr>\n",
       "  </thead>\n",
       "  <tbody>\n",
       "    <tr>\n",
       "      <th>11202</th>\n",
       "      <td>LeBron James</td>\n",
       "      <td>1.0</td>\n",
       "      <td>2.0</td>\n",
       "      <td>0.34</td>\n",
       "    </tr>\n",
       "    <tr>\n",
       "      <th>11077</th>\n",
       "      <td>Stephen Curry</td>\n",
       "      <td>1.0</td>\n",
       "      <td>1.0</td>\n",
       "      <td>0.24</td>\n",
       "    </tr>\n",
       "    <tr>\n",
       "      <th>11082</th>\n",
       "      <td>Anthony Davis</td>\n",
       "      <td>1.0</td>\n",
       "      <td>None</td>\n",
       "      <td>0.16</td>\n",
       "    </tr>\n",
       "    <tr>\n",
       "      <th>11201</th>\n",
       "      <td>LeBron James</td>\n",
       "      <td>1.0</td>\n",
       "      <td>2.0</td>\n",
       "      <td>0.34</td>\n",
       "    </tr>\n",
       "    <tr>\n",
       "      <th>11131</th>\n",
       "      <td>Marc Gasol</td>\n",
       "      <td>1.0</td>\n",
       "      <td>None</td>\n",
       "      <td>0.12</td>\n",
       "    </tr>\n",
       "    <tr>\n",
       "      <th>11163</th>\n",
       "      <td>James Harden</td>\n",
       "      <td>1.0</td>\n",
       "      <td>1.0</td>\n",
       "      <td>0.13</td>\n",
       "    </tr>\n",
       "    <tr>\n",
       "      <th>10973</th>\n",
       "      <td>LaMarcus Aldridge</td>\n",
       "      <td>2.0</td>\n",
       "      <td>None</td>\n",
       "      <td>0.21</td>\n",
       "    </tr>\n",
       "    <tr>\n",
       "      <th>11328</th>\n",
       "      <td>Chris Paul</td>\n",
       "      <td>2.0</td>\n",
       "      <td>1.0</td>\n",
       "      <td>0.20</td>\n",
       "    </tr>\n",
       "    <tr>\n",
       "      <th>11437</th>\n",
       "      <td>Russell Westbrook</td>\n",
       "      <td>2.0</td>\n",
       "      <td>1.0</td>\n",
       "      <td>0.29</td>\n",
       "    </tr>\n",
       "    <tr>\n",
       "      <th>11132</th>\n",
       "      <td>Pau Gasol</td>\n",
       "      <td>2.0</td>\n",
       "      <td>2.0</td>\n",
       "      <td>0.37</td>\n",
       "    </tr>\n",
       "    <tr>\n",
       "      <th>11069</th>\n",
       "      <td>DeMarcus Cousins</td>\n",
       "      <td>2.0</td>\n",
       "      <td>None</td>\n",
       "      <td>0.12</td>\n",
       "    </tr>\n",
       "    <tr>\n",
       "      <th>10974</th>\n",
       "      <td>LaMarcus Aldridge</td>\n",
       "      <td>2.0</td>\n",
       "      <td>None</td>\n",
       "      <td>0.21</td>\n",
       "    </tr>\n",
       "    <tr>\n",
       "      <th>11156</th>\n",
       "      <td>Blake Griffin</td>\n",
       "      <td>3.0</td>\n",
       "      <td>None</td>\n",
       "      <td>0.20</td>\n",
       "    </tr>\n",
       "    <tr>\n",
       "      <th>11197</th>\n",
       "      <td>Kyrie Irving</td>\n",
       "      <td>3.0</td>\n",
       "      <td>None</td>\n",
       "      <td>0.08</td>\n",
       "    </tr>\n",
       "    <tr>\n",
       "      <th>11102</th>\n",
       "      <td>Tim Duncan</td>\n",
       "      <td>3.0</td>\n",
       "      <td>None</td>\n",
       "      <td>0.11</td>\n",
       "    </tr>\n",
       "    <tr>\n",
       "      <th>11221</th>\n",
       "      <td>DeAndre Jordan</td>\n",
       "      <td>3.0</td>\n",
       "      <td>None</td>\n",
       "      <td>0.11</td>\n",
       "    </tr>\n",
       "    <tr>\n",
       "      <th>11409</th>\n",
       "      <td>Klay Thompson</td>\n",
       "      <td>3.0</td>\n",
       "      <td>None</td>\n",
       "      <td>0.02</td>\n",
       "    </tr>\n",
       "    <tr>\n",
       "      <th>11155</th>\n",
       "      <td>Blake Griffin</td>\n",
       "      <td>3.0</td>\n",
       "      <td>None</td>\n",
       "      <td>0.20</td>\n",
       "    </tr>\n",
       "  </tbody>\n",
       "</table>\n",
       "</div>"
      ],
      "text/plain": [
       "                  player team pred2015  rfprd\n",
       "11202       LeBron James  1.0      2.0   0.34\n",
       "11077      Stephen Curry  1.0      1.0   0.24\n",
       "11082      Anthony Davis  1.0     None   0.16\n",
       "11201       LeBron James  1.0      2.0   0.34\n",
       "11131         Marc Gasol  1.0     None   0.12\n",
       "11163       James Harden  1.0      1.0   0.13\n",
       "10973  LaMarcus Aldridge  2.0     None   0.21\n",
       "11328         Chris Paul  2.0      1.0   0.20\n",
       "11437  Russell Westbrook  2.0      1.0   0.29\n",
       "11132          Pau Gasol  2.0      2.0   0.37\n",
       "11069   DeMarcus Cousins  2.0     None   0.12\n",
       "10974  LaMarcus Aldridge  2.0     None   0.21\n",
       "11156      Blake Griffin  3.0     None   0.20\n",
       "11197       Kyrie Irving  3.0     None   0.08\n",
       "11102         Tim Duncan  3.0     None   0.11\n",
       "11221     DeAndre Jordan  3.0     None   0.11\n",
       "11409      Klay Thompson  3.0     None   0.02\n",
       "11155      Blake Griffin  3.0     None   0.20"
      ]
     },
     "execution_count": 40,
     "metadata": {},
     "output_type": "execute_result"
    }
   ],
   "source": [
    "df[df.team!='None'].sort_values(by='team')"
   ]
  },
  {
   "cell_type": "code",
   "execution_count": null,
   "metadata": {
    "collapsed": false
   },
   "outputs": [],
   "source": []
  },
  {
   "cell_type": "markdown",
   "metadata": {},
   "source": [
    "# Adaboost"
   ]
  },
  {
   "cell_type": "code",
   "execution_count": 41,
   "metadata": {
    "collapsed": false
   },
   "outputs": [
    {
     "name": "stdout",
     "output_type": "stream",
     "text": [
      "Accuracy = 97.4468085106 %\n",
      "0.967947674613\n"
     ]
    },
    {
     "data": {
      "text/plain": [
       "array([ 0. ,  0. ,  0. ,  0. ,  0. ,  0. ,  0. ,  0. ,  0.1,  0.1,  0.2,\n",
       "        0.1,  0. ,  0. ,  0.2,  0. ,  0. ,  0.3,  0. ,  0. ,  0. ])"
      ]
     },
     "execution_count": 41,
     "metadata": {},
     "output_type": "execute_result"
    }
   ],
   "source": [
    "\n",
    "from sklearn.ensemble import AdaBoostClassifier\n",
    "adaclf = AdaBoostClassifier(n_estimators=10)\n",
    "\n",
    "adaclf = adaclf.fit(features_train,labels_train)\n",
    "\n",
    "adapred = adaclf.predict(features_test)\n",
    "\n",
    "print \"Accuracy =\", accuracy_score(adapred, labels_test)*100,\"%\"\n",
    "adascores = cross_val_score(adaclf, features_train, labels_train)\n",
    "print adascores.mean()\n",
    "adaclf.feature_importances_"
   ]
  },
  {
   "cell_type": "code",
   "execution_count": 42,
   "metadata": {
    "collapsed": false
   },
   "outputs": [
    {
     "name": "stderr",
     "output_type": "stream",
     "text": [
      "C:\\Users\\mahesh\\Anaconda2\\lib\\site-packages\\ipykernel\\__main__.py:2: SettingWithCopyWarning: \n",
      "A value is trying to be set on a copy of a slice from a DataFrame.\n",
      "Try using .loc[row_indexer,col_indexer] = value instead\n",
      "\n",
      "See the caveats in the documentation: http://pandas.pydata.org/pandas-docs/stable/indexing.html#indexing-view-versus-copy\n",
      "  from ipykernel import kernelapp as app\n",
      "C:\\Users\\mahesh\\Anaconda2\\lib\\site-packages\\ipykernel\\__main__.py:3: SettingWithCopyWarning: \n",
      "A value is trying to be set on a copy of a slice from a DataFrame.\n",
      "Try using .loc[row_indexer,col_indexer] = value instead\n",
      "\n",
      "See the caveats in the documentation: http://pandas.pydata.org/pandas-docs/stable/indexing.html#indexing-view-versus-copy\n",
      "  app.launch_new_instance()\n"
     ]
    }
   ],
   "source": [
    "#features_2015 = d_2015[col_u]\n",
    "d_2015['adapredict']=adaclf.predict(features_2015)\n",
    "d_2015['adaprb']=adaclf.predict_proba(features_2015)[:, 1]\n",
    "#pred = clf.predict(features_test)\n",
    "df=d_2015[['player','team','pred2015','rfprd','adapredict','adaprb']]"
   ]
  },
  {
   "cell_type": "code",
   "execution_count": 43,
   "metadata": {
    "collapsed": false
   },
   "outputs": [
    {
     "data": {
      "text/html": [
       "<div>\n",
       "<table border=\"1\" class=\"dataframe\">\n",
       "  <thead>\n",
       "    <tr style=\"text-align: right;\">\n",
       "      <th></th>\n",
       "      <th>player</th>\n",
       "      <th>team</th>\n",
       "      <th>pred2015</th>\n",
       "      <th>rfprd</th>\n",
       "      <th>adapredict</th>\n",
       "      <th>adaprb</th>\n",
       "    </tr>\n",
       "  </thead>\n",
       "  <tbody>\n",
       "    <tr>\n",
       "      <th>11202</th>\n",
       "      <td>LeBron James</td>\n",
       "      <td>1.0</td>\n",
       "      <td>2.0</td>\n",
       "      <td>0.34</td>\n",
       "      <td>None</td>\n",
       "      <td>0.234924</td>\n",
       "    </tr>\n",
       "    <tr>\n",
       "      <th>11077</th>\n",
       "      <td>Stephen Curry</td>\n",
       "      <td>1.0</td>\n",
       "      <td>1.0</td>\n",
       "      <td>0.24</td>\n",
       "      <td>2.0</td>\n",
       "      <td>0.260138</td>\n",
       "    </tr>\n",
       "    <tr>\n",
       "      <th>11082</th>\n",
       "      <td>Anthony Davis</td>\n",
       "      <td>1.0</td>\n",
       "      <td>None</td>\n",
       "      <td>0.16</td>\n",
       "      <td>2.0</td>\n",
       "      <td>0.260138</td>\n",
       "    </tr>\n",
       "    <tr>\n",
       "      <th>11201</th>\n",
       "      <td>LeBron James</td>\n",
       "      <td>1.0</td>\n",
       "      <td>2.0</td>\n",
       "      <td>0.34</td>\n",
       "      <td>None</td>\n",
       "      <td>0.234924</td>\n",
       "    </tr>\n",
       "    <tr>\n",
       "      <th>11131</th>\n",
       "      <td>Marc Gasol</td>\n",
       "      <td>1.0</td>\n",
       "      <td>None</td>\n",
       "      <td>0.12</td>\n",
       "      <td>None</td>\n",
       "      <td>0.248511</td>\n",
       "    </tr>\n",
       "    <tr>\n",
       "      <th>11163</th>\n",
       "      <td>James Harden</td>\n",
       "      <td>1.0</td>\n",
       "      <td>1.0</td>\n",
       "      <td>0.13</td>\n",
       "      <td>2.0</td>\n",
       "      <td>0.260138</td>\n",
       "    </tr>\n",
       "    <tr>\n",
       "      <th>10973</th>\n",
       "      <td>LaMarcus Aldridge</td>\n",
       "      <td>2.0</td>\n",
       "      <td>None</td>\n",
       "      <td>0.21</td>\n",
       "      <td>None</td>\n",
       "      <td>0.234757</td>\n",
       "    </tr>\n",
       "    <tr>\n",
       "      <th>11328</th>\n",
       "      <td>Chris Paul</td>\n",
       "      <td>2.0</td>\n",
       "      <td>1.0</td>\n",
       "      <td>0.20</td>\n",
       "      <td>1.0</td>\n",
       "      <td>0.278751</td>\n",
       "    </tr>\n",
       "    <tr>\n",
       "      <th>11437</th>\n",
       "      <td>Russell Westbrook</td>\n",
       "      <td>2.0</td>\n",
       "      <td>1.0</td>\n",
       "      <td>0.29</td>\n",
       "      <td>1.0</td>\n",
       "      <td>0.282146</td>\n",
       "    </tr>\n",
       "    <tr>\n",
       "      <th>11132</th>\n",
       "      <td>Pau Gasol</td>\n",
       "      <td>2.0</td>\n",
       "      <td>2.0</td>\n",
       "      <td>0.37</td>\n",
       "      <td>None</td>\n",
       "      <td>0.222883</td>\n",
       "    </tr>\n",
       "    <tr>\n",
       "      <th>11069</th>\n",
       "      <td>DeMarcus Cousins</td>\n",
       "      <td>2.0</td>\n",
       "      <td>None</td>\n",
       "      <td>0.12</td>\n",
       "      <td>None</td>\n",
       "      <td>0.229965</td>\n",
       "    </tr>\n",
       "    <tr>\n",
       "      <th>10974</th>\n",
       "      <td>LaMarcus Aldridge</td>\n",
       "      <td>2.0</td>\n",
       "      <td>None</td>\n",
       "      <td>0.21</td>\n",
       "      <td>None</td>\n",
       "      <td>0.234757</td>\n",
       "    </tr>\n",
       "    <tr>\n",
       "      <th>11156</th>\n",
       "      <td>Blake Griffin</td>\n",
       "      <td>3.0</td>\n",
       "      <td>None</td>\n",
       "      <td>0.20</td>\n",
       "      <td>None</td>\n",
       "      <td>0.234757</td>\n",
       "    </tr>\n",
       "    <tr>\n",
       "      <th>11197</th>\n",
       "      <td>Kyrie Irving</td>\n",
       "      <td>3.0</td>\n",
       "      <td>None</td>\n",
       "      <td>0.08</td>\n",
       "      <td>None</td>\n",
       "      <td>0.222883</td>\n",
       "    </tr>\n",
       "    <tr>\n",
       "      <th>11102</th>\n",
       "      <td>Tim Duncan</td>\n",
       "      <td>3.0</td>\n",
       "      <td>None</td>\n",
       "      <td>0.11</td>\n",
       "      <td>None</td>\n",
       "      <td>0.248511</td>\n",
       "    </tr>\n",
       "    <tr>\n",
       "      <th>11221</th>\n",
       "      <td>DeAndre Jordan</td>\n",
       "      <td>3.0</td>\n",
       "      <td>None</td>\n",
       "      <td>0.11</td>\n",
       "      <td>None</td>\n",
       "      <td>0.292989</td>\n",
       "    </tr>\n",
       "    <tr>\n",
       "      <th>11409</th>\n",
       "      <td>Klay Thompson</td>\n",
       "      <td>3.0</td>\n",
       "      <td>None</td>\n",
       "      <td>0.02</td>\n",
       "      <td>None</td>\n",
       "      <td>0.234757</td>\n",
       "    </tr>\n",
       "    <tr>\n",
       "      <th>11155</th>\n",
       "      <td>Blake Griffin</td>\n",
       "      <td>3.0</td>\n",
       "      <td>None</td>\n",
       "      <td>0.20</td>\n",
       "      <td>None</td>\n",
       "      <td>0.234757</td>\n",
       "    </tr>\n",
       "  </tbody>\n",
       "</table>\n",
       "</div>"
      ],
      "text/plain": [
       "                  player team pred2015  rfprd adapredict    adaprb\n",
       "11202       LeBron James  1.0      2.0   0.34       None  0.234924\n",
       "11077      Stephen Curry  1.0      1.0   0.24        2.0  0.260138\n",
       "11082      Anthony Davis  1.0     None   0.16        2.0  0.260138\n",
       "11201       LeBron James  1.0      2.0   0.34       None  0.234924\n",
       "11131         Marc Gasol  1.0     None   0.12       None  0.248511\n",
       "11163       James Harden  1.0      1.0   0.13        2.0  0.260138\n",
       "10973  LaMarcus Aldridge  2.0     None   0.21       None  0.234757\n",
       "11328         Chris Paul  2.0      1.0   0.20        1.0  0.278751\n",
       "11437  Russell Westbrook  2.0      1.0   0.29        1.0  0.282146\n",
       "11132          Pau Gasol  2.0      2.0   0.37       None  0.222883\n",
       "11069   DeMarcus Cousins  2.0     None   0.12       None  0.229965\n",
       "10974  LaMarcus Aldridge  2.0     None   0.21       None  0.234757\n",
       "11156      Blake Griffin  3.0     None   0.20       None  0.234757\n",
       "11197       Kyrie Irving  3.0     None   0.08       None  0.222883\n",
       "11102         Tim Duncan  3.0     None   0.11       None  0.248511\n",
       "11221     DeAndre Jordan  3.0     None   0.11       None  0.292989\n",
       "11409      Klay Thompson  3.0     None   0.02       None  0.234757\n",
       "11155      Blake Griffin  3.0     None   0.20       None  0.234757"
      ]
     },
     "execution_count": 43,
     "metadata": {},
     "output_type": "execute_result"
    }
   ],
   "source": [
    "df[df.team!='None'].sort_values(by='team')"
   ]
  },
  {
   "cell_type": "markdown",
   "metadata": {},
   "source": [
    "# KNN"
   ]
  },
  {
   "cell_type": "code",
   "execution_count": 44,
   "metadata": {
    "collapsed": false
   },
   "outputs": [
    {
     "name": "stdout",
     "output_type": "stream",
     "text": [
      "Accuracy = 97.537993921 %\n",
      "0.972378016218\n"
     ]
    }
   ],
   "source": [
    "from sklearn.neighbors import KNeighborsClassifier\n",
    "knnclf = KNeighborsClassifier(n_neighbors=20)\n",
    "\n",
    "knnclf = knnclf.fit(features_train,labels_train)\n",
    "\n",
    "knnpred = knnclf.predict(features_test)\n",
    "\n",
    "print \"Accuracy =\", accuracy_score(knnpred, labels_test)*100,\"%\"\n",
    "knnscores = cross_val_score(knnclf, features_train, labels_train)\n",
    "print knnscores.mean()\n"
   ]
  },
  {
   "cell_type": "code",
   "execution_count": 45,
   "metadata": {
    "collapsed": false
   },
   "outputs": [
    {
     "name": "stderr",
     "output_type": "stream",
     "text": [
      "C:\\Users\\mahesh\\Anaconda2\\lib\\site-packages\\ipykernel\\__main__.py:2: SettingWithCopyWarning: \n",
      "A value is trying to be set on a copy of a slice from a DataFrame.\n",
      "Try using .loc[row_indexer,col_indexer] = value instead\n",
      "\n",
      "See the caveats in the documentation: http://pandas.pydata.org/pandas-docs/stable/indexing.html#indexing-view-versus-copy\n",
      "  from ipykernel import kernelapp as app\n",
      "C:\\Users\\mahesh\\Anaconda2\\lib\\site-packages\\ipykernel\\__main__.py:3: SettingWithCopyWarning: \n",
      "A value is trying to be set on a copy of a slice from a DataFrame.\n",
      "Try using .loc[row_indexer,col_indexer] = value instead\n",
      "\n",
      "See the caveats in the documentation: http://pandas.pydata.org/pandas-docs/stable/indexing.html#indexing-view-versus-copy\n",
      "  app.launch_new_instance()\n"
     ]
    }
   ],
   "source": [
    "#features_2015 = d_2015[col_u]\n",
    "d_2015['knnpred']=knnclf.predict(features_2015)\n",
    "d_2015['knnprb']=knnclf.predict_proba(features_2015)[:, 1]\n",
    "#pred = clf.predict(features_test)\n",
    "df=d_2015[['player','team','pred2015','rfprd','adapredict','adaprb','knnpred','knnprb']]"
   ]
  },
  {
   "cell_type": "code",
   "execution_count": 46,
   "metadata": {
    "collapsed": false
   },
   "outputs": [
    {
     "data": {
      "text/html": [
       "<div>\n",
       "<table border=\"1\" class=\"dataframe\">\n",
       "  <thead>\n",
       "    <tr style=\"text-align: right;\">\n",
       "      <th></th>\n",
       "      <th>player</th>\n",
       "      <th>team</th>\n",
       "      <th>pred2015</th>\n",
       "      <th>rfprd</th>\n",
       "      <th>adapredict</th>\n",
       "      <th>adaprb</th>\n",
       "      <th>knnpred</th>\n",
       "      <th>knnprb</th>\n",
       "    </tr>\n",
       "  </thead>\n",
       "  <tbody>\n",
       "    <tr>\n",
       "      <th>11077</th>\n",
       "      <td>Stephen Curry</td>\n",
       "      <td>1.0</td>\n",
       "      <td>1.0</td>\n",
       "      <td>0.24</td>\n",
       "      <td>2.0</td>\n",
       "      <td>0.260138</td>\n",
       "      <td>1.0</td>\n",
       "      <td>0.35</td>\n",
       "    </tr>\n",
       "    <tr>\n",
       "      <th>11082</th>\n",
       "      <td>Anthony Davis</td>\n",
       "      <td>1.0</td>\n",
       "      <td>None</td>\n",
       "      <td>0.16</td>\n",
       "      <td>2.0</td>\n",
       "      <td>0.260138</td>\n",
       "      <td>1.0</td>\n",
       "      <td>0.15</td>\n",
       "    </tr>\n",
       "    <tr>\n",
       "      <th>11163</th>\n",
       "      <td>James Harden</td>\n",
       "      <td>1.0</td>\n",
       "      <td>1.0</td>\n",
       "      <td>0.13</td>\n",
       "      <td>2.0</td>\n",
       "      <td>0.260138</td>\n",
       "      <td>1.0</td>\n",
       "      <td>0.30</td>\n",
       "    </tr>\n",
       "    <tr>\n",
       "      <th>11201</th>\n",
       "      <td>LeBron James</td>\n",
       "      <td>1.0</td>\n",
       "      <td>2.0</td>\n",
       "      <td>0.34</td>\n",
       "      <td>None</td>\n",
       "      <td>0.234924</td>\n",
       "      <td>1.0</td>\n",
       "      <td>0.40</td>\n",
       "    </tr>\n",
       "    <tr>\n",
       "      <th>11202</th>\n",
       "      <td>LeBron James</td>\n",
       "      <td>1.0</td>\n",
       "      <td>2.0</td>\n",
       "      <td>0.34</td>\n",
       "      <td>None</td>\n",
       "      <td>0.234924</td>\n",
       "      <td>1.0</td>\n",
       "      <td>0.40</td>\n",
       "    </tr>\n",
       "    <tr>\n",
       "      <th>11328</th>\n",
       "      <td>Chris Paul</td>\n",
       "      <td>2.0</td>\n",
       "      <td>1.0</td>\n",
       "      <td>0.20</td>\n",
       "      <td>1.0</td>\n",
       "      <td>0.278751</td>\n",
       "      <td>2.0</td>\n",
       "      <td>0.45</td>\n",
       "    </tr>\n",
       "    <tr>\n",
       "      <th>11437</th>\n",
       "      <td>Russell Westbrook</td>\n",
       "      <td>2.0</td>\n",
       "      <td>1.0</td>\n",
       "      <td>0.29</td>\n",
       "      <td>1.0</td>\n",
       "      <td>0.282146</td>\n",
       "      <td>1.0</td>\n",
       "      <td>0.35</td>\n",
       "    </tr>\n",
       "    <tr>\n",
       "      <th>11012</th>\n",
       "      <td>Sim Bhullar</td>\n",
       "      <td>None</td>\n",
       "      <td>None</td>\n",
       "      <td>0.03</td>\n",
       "      <td>None</td>\n",
       "      <td>0.010984</td>\n",
       "      <td>1.0</td>\n",
       "      <td>0.05</td>\n",
       "    </tr>\n",
       "  </tbody>\n",
       "</table>\n",
       "</div>"
      ],
      "text/plain": [
       "                  player  team pred2015  rfprd adapredict    adaprb knnpred  \\\n",
       "11077      Stephen Curry   1.0      1.0   0.24        2.0  0.260138     1.0   \n",
       "11082      Anthony Davis   1.0     None   0.16        2.0  0.260138     1.0   \n",
       "11163       James Harden   1.0      1.0   0.13        2.0  0.260138     1.0   \n",
       "11201       LeBron James   1.0      2.0   0.34       None  0.234924     1.0   \n",
       "11202       LeBron James   1.0      2.0   0.34       None  0.234924     1.0   \n",
       "11328         Chris Paul   2.0      1.0   0.20        1.0  0.278751     2.0   \n",
       "11437  Russell Westbrook   2.0      1.0   0.29        1.0  0.282146     1.0   \n",
       "11012        Sim Bhullar  None     None   0.03       None  0.010984     1.0   \n",
       "\n",
       "       knnprb  \n",
       "11077    0.35  \n",
       "11082    0.15  \n",
       "11163    0.30  \n",
       "11201    0.40  \n",
       "11202    0.40  \n",
       "11328    0.45  \n",
       "11437    0.35  \n",
       "11012    0.05  "
      ]
     },
     "execution_count": 46,
     "metadata": {},
     "output_type": "execute_result"
    }
   ],
   "source": [
    "df[df.knnpred!='None'].sort_values(by='team')"
   ]
  },
  {
   "cell_type": "markdown",
   "metadata": {},
   "source": [
    "# Decision tree"
   ]
  },
  {
   "cell_type": "code",
   "execution_count": 47,
   "metadata": {
    "collapsed": false
   },
   "outputs": [
    {
     "name": "stdout",
     "output_type": "stream",
     "text": [
      "accuracy = 97.2036474164 %\n",
      "0.968078035713\n"
     ]
    },
    {
     "data": {
      "text/plain": [
       "array([ 0.01029004,  0.04056222,  0.04862997,  0.03103984,  0.05652963,\n",
       "        0.03996098,  0.04128618,  0.02945229,  0.04008175,  0.03322943,\n",
       "        0.03207888,  0.01494536,  0.03344835,  0.02660504,  0.09601259,\n",
       "        0.04676127,  0.01757336,  0.27392029,  0.03920343,  0.03652873,\n",
       "        0.01186035])"
      ]
     },
     "execution_count": 47,
     "metadata": {},
     "output_type": "execute_result"
    }
   ],
   "source": [
    "from sklearn.tree import DecisionTreeClassifier\n",
    "\n",
    "dtclf = DecisionTreeClassifier(min_samples_split=1)\n",
    "\n",
    "dtclf = dtclf.fit(features_train, labels_train)\n",
    "\n",
    "dtpred = dtclf.predict(features_test)\n",
    "\n",
    "print \"accuracy =\", dtclf.score(features_test, labels_test) * 100, '%'\n",
    "dtscores = cross_val_score(dtclf, features_train, labels_train)\n",
    "print dtscores.mean()\n",
    "dtclf.feature_importances_"
   ]
  },
  {
   "cell_type": "code",
   "execution_count": 48,
   "metadata": {
    "collapsed": false
   },
   "outputs": [
    {
     "name": "stderr",
     "output_type": "stream",
     "text": [
      "C:\\Users\\mahesh\\Anaconda2\\lib\\site-packages\\ipykernel\\__main__.py:2: SettingWithCopyWarning: \n",
      "A value is trying to be set on a copy of a slice from a DataFrame.\n",
      "Try using .loc[row_indexer,col_indexer] = value instead\n",
      "\n",
      "See the caveats in the documentation: http://pandas.pydata.org/pandas-docs/stable/indexing.html#indexing-view-versus-copy\n",
      "  from ipykernel import kernelapp as app\n",
      "C:\\Users\\mahesh\\Anaconda2\\lib\\site-packages\\ipykernel\\__main__.py:3: SettingWithCopyWarning: \n",
      "A value is trying to be set on a copy of a slice from a DataFrame.\n",
      "Try using .loc[row_indexer,col_indexer] = value instead\n",
      "\n",
      "See the caveats in the documentation: http://pandas.pydata.org/pandas-docs/stable/indexing.html#indexing-view-versus-copy\n",
      "  app.launch_new_instance()\n"
     ]
    }
   ],
   "source": [
    "#features_2015 = d_2015[col_u]\n",
    "d_2015['dtpred']=dtclf.predict(features_2015)\n",
    "d_2015['dtprb']=dtclf.predict_proba(features_2015)[:, 1]\n",
    "#pred = clf.predict(features_test)\n",
    "df=d_2015[['player','team','pred2015','rfprd','adapredict','adaprb','knnpred','knnprb','dtpred','dtprb']]"
   ]
  },
  {
   "cell_type": "code",
   "execution_count": 51,
   "metadata": {
    "collapsed": false
   },
   "outputs": [
    {
     "data": {
      "text/html": [
       "<div>\n",
       "<table border=\"1\" class=\"dataframe\">\n",
       "  <thead>\n",
       "    <tr style=\"text-align: right;\">\n",
       "      <th></th>\n",
       "      <th>player</th>\n",
       "      <th>team</th>\n",
       "      <th>pred2015</th>\n",
       "      <th>rfprd</th>\n",
       "      <th>adapredict</th>\n",
       "      <th>adaprb</th>\n",
       "      <th>knnpred</th>\n",
       "      <th>knnprb</th>\n",
       "      <th>dtpred</th>\n",
       "      <th>dtprb</th>\n",
       "    </tr>\n",
       "  </thead>\n",
       "  <tbody>\n",
       "    <tr>\n",
       "      <th>11202</th>\n",
       "      <td>LeBron James</td>\n",
       "      <td>1.0</td>\n",
       "      <td>2.0</td>\n",
       "      <td>0.34</td>\n",
       "      <td>None</td>\n",
       "      <td>0.234924</td>\n",
       "      <td>1.0</td>\n",
       "      <td>0.40</td>\n",
       "      <td>None</td>\n",
       "      <td>0</td>\n",
       "    </tr>\n",
       "    <tr>\n",
       "      <th>11077</th>\n",
       "      <td>Stephen Curry</td>\n",
       "      <td>1.0</td>\n",
       "      <td>1.0</td>\n",
       "      <td>0.24</td>\n",
       "      <td>2.0</td>\n",
       "      <td>0.260138</td>\n",
       "      <td>1.0</td>\n",
       "      <td>0.35</td>\n",
       "      <td>1.0</td>\n",
       "      <td>0</td>\n",
       "    </tr>\n",
       "    <tr>\n",
       "      <th>11082</th>\n",
       "      <td>Anthony Davis</td>\n",
       "      <td>1.0</td>\n",
       "      <td>None</td>\n",
       "      <td>0.16</td>\n",
       "      <td>2.0</td>\n",
       "      <td>0.260138</td>\n",
       "      <td>1.0</td>\n",
       "      <td>0.15</td>\n",
       "      <td>None</td>\n",
       "      <td>0</td>\n",
       "    </tr>\n",
       "    <tr>\n",
       "      <th>11201</th>\n",
       "      <td>LeBron James</td>\n",
       "      <td>1.0</td>\n",
       "      <td>2.0</td>\n",
       "      <td>0.34</td>\n",
       "      <td>None</td>\n",
       "      <td>0.234924</td>\n",
       "      <td>1.0</td>\n",
       "      <td>0.40</td>\n",
       "      <td>None</td>\n",
       "      <td>0</td>\n",
       "    </tr>\n",
       "    <tr>\n",
       "      <th>11131</th>\n",
       "      <td>Marc Gasol</td>\n",
       "      <td>1.0</td>\n",
       "      <td>None</td>\n",
       "      <td>0.12</td>\n",
       "      <td>None</td>\n",
       "      <td>0.248511</td>\n",
       "      <td>None</td>\n",
       "      <td>0.20</td>\n",
       "      <td>1.0</td>\n",
       "      <td>0</td>\n",
       "    </tr>\n",
       "    <tr>\n",
       "      <th>11163</th>\n",
       "      <td>James Harden</td>\n",
       "      <td>1.0</td>\n",
       "      <td>1.0</td>\n",
       "      <td>0.13</td>\n",
       "      <td>2.0</td>\n",
       "      <td>0.260138</td>\n",
       "      <td>1.0</td>\n",
       "      <td>0.30</td>\n",
       "      <td>1.0</td>\n",
       "      <td>0</td>\n",
       "    </tr>\n",
       "    <tr>\n",
       "      <th>10973</th>\n",
       "      <td>LaMarcus Aldridge</td>\n",
       "      <td>2.0</td>\n",
       "      <td>None</td>\n",
       "      <td>0.21</td>\n",
       "      <td>None</td>\n",
       "      <td>0.234757</td>\n",
       "      <td>None</td>\n",
       "      <td>0.10</td>\n",
       "      <td>3.0</td>\n",
       "      <td>0</td>\n",
       "    </tr>\n",
       "    <tr>\n",
       "      <th>11328</th>\n",
       "      <td>Chris Paul</td>\n",
       "      <td>2.0</td>\n",
       "      <td>1.0</td>\n",
       "      <td>0.20</td>\n",
       "      <td>1.0</td>\n",
       "      <td>0.278751</td>\n",
       "      <td>2.0</td>\n",
       "      <td>0.45</td>\n",
       "      <td>None</td>\n",
       "      <td>0</td>\n",
       "    </tr>\n",
       "    <tr>\n",
       "      <th>11437</th>\n",
       "      <td>Russell Westbrook</td>\n",
       "      <td>2.0</td>\n",
       "      <td>1.0</td>\n",
       "      <td>0.29</td>\n",
       "      <td>1.0</td>\n",
       "      <td>0.282146</td>\n",
       "      <td>1.0</td>\n",
       "      <td>0.35</td>\n",
       "      <td>None</td>\n",
       "      <td>0</td>\n",
       "    </tr>\n",
       "    <tr>\n",
       "      <th>11132</th>\n",
       "      <td>Pau Gasol</td>\n",
       "      <td>2.0</td>\n",
       "      <td>2.0</td>\n",
       "      <td>0.37</td>\n",
       "      <td>None</td>\n",
       "      <td>0.222883</td>\n",
       "      <td>None</td>\n",
       "      <td>0.15</td>\n",
       "      <td>2.0</td>\n",
       "      <td>1</td>\n",
       "    </tr>\n",
       "    <tr>\n",
       "      <th>11069</th>\n",
       "      <td>DeMarcus Cousins</td>\n",
       "      <td>2.0</td>\n",
       "      <td>None</td>\n",
       "      <td>0.12</td>\n",
       "      <td>None</td>\n",
       "      <td>0.229965</td>\n",
       "      <td>None</td>\n",
       "      <td>0.10</td>\n",
       "      <td>1.0</td>\n",
       "      <td>0</td>\n",
       "    </tr>\n",
       "    <tr>\n",
       "      <th>10974</th>\n",
       "      <td>LaMarcus Aldridge</td>\n",
       "      <td>2.0</td>\n",
       "      <td>None</td>\n",
       "      <td>0.21</td>\n",
       "      <td>None</td>\n",
       "      <td>0.234757</td>\n",
       "      <td>None</td>\n",
       "      <td>0.10</td>\n",
       "      <td>3.0</td>\n",
       "      <td>0</td>\n",
       "    </tr>\n",
       "    <tr>\n",
       "      <th>11156</th>\n",
       "      <td>Blake Griffin</td>\n",
       "      <td>3.0</td>\n",
       "      <td>None</td>\n",
       "      <td>0.20</td>\n",
       "      <td>None</td>\n",
       "      <td>0.234757</td>\n",
       "      <td>None</td>\n",
       "      <td>0.10</td>\n",
       "      <td>None</td>\n",
       "      <td>0</td>\n",
       "    </tr>\n",
       "    <tr>\n",
       "      <th>11197</th>\n",
       "      <td>Kyrie Irving</td>\n",
       "      <td>3.0</td>\n",
       "      <td>None</td>\n",
       "      <td>0.08</td>\n",
       "      <td>None</td>\n",
       "      <td>0.222883</td>\n",
       "      <td>None</td>\n",
       "      <td>0.00</td>\n",
       "      <td>2.0</td>\n",
       "      <td>1</td>\n",
       "    </tr>\n",
       "    <tr>\n",
       "      <th>11102</th>\n",
       "      <td>Tim Duncan</td>\n",
       "      <td>3.0</td>\n",
       "      <td>None</td>\n",
       "      <td>0.11</td>\n",
       "      <td>None</td>\n",
       "      <td>0.248511</td>\n",
       "      <td>None</td>\n",
       "      <td>0.05</td>\n",
       "      <td>1.0</td>\n",
       "      <td>0</td>\n",
       "    </tr>\n",
       "    <tr>\n",
       "      <th>11221</th>\n",
       "      <td>DeAndre Jordan</td>\n",
       "      <td>3.0</td>\n",
       "      <td>None</td>\n",
       "      <td>0.11</td>\n",
       "      <td>None</td>\n",
       "      <td>0.292989</td>\n",
       "      <td>None</td>\n",
       "      <td>0.00</td>\n",
       "      <td>None</td>\n",
       "      <td>0</td>\n",
       "    </tr>\n",
       "    <tr>\n",
       "      <th>11409</th>\n",
       "      <td>Klay Thompson</td>\n",
       "      <td>3.0</td>\n",
       "      <td>None</td>\n",
       "      <td>0.02</td>\n",
       "      <td>None</td>\n",
       "      <td>0.234757</td>\n",
       "      <td>None</td>\n",
       "      <td>0.00</td>\n",
       "      <td>None</td>\n",
       "      <td>0</td>\n",
       "    </tr>\n",
       "    <tr>\n",
       "      <th>11155</th>\n",
       "      <td>Blake Griffin</td>\n",
       "      <td>3.0</td>\n",
       "      <td>None</td>\n",
       "      <td>0.20</td>\n",
       "      <td>None</td>\n",
       "      <td>0.234757</td>\n",
       "      <td>None</td>\n",
       "      <td>0.10</td>\n",
       "      <td>None</td>\n",
       "      <td>0</td>\n",
       "    </tr>\n",
       "  </tbody>\n",
       "</table>\n",
       "</div>"
      ],
      "text/plain": [
       "                  player team pred2015  rfprd adapredict    adaprb knnpred  \\\n",
       "11202       LeBron James  1.0      2.0   0.34       None  0.234924     1.0   \n",
       "11077      Stephen Curry  1.0      1.0   0.24        2.0  0.260138     1.0   \n",
       "11082      Anthony Davis  1.0     None   0.16        2.0  0.260138     1.0   \n",
       "11201       LeBron James  1.0      2.0   0.34       None  0.234924     1.0   \n",
       "11131         Marc Gasol  1.0     None   0.12       None  0.248511    None   \n",
       "11163       James Harden  1.0      1.0   0.13        2.0  0.260138     1.0   \n",
       "10973  LaMarcus Aldridge  2.0     None   0.21       None  0.234757    None   \n",
       "11328         Chris Paul  2.0      1.0   0.20        1.0  0.278751     2.0   \n",
       "11437  Russell Westbrook  2.0      1.0   0.29        1.0  0.282146     1.0   \n",
       "11132          Pau Gasol  2.0      2.0   0.37       None  0.222883    None   \n",
       "11069   DeMarcus Cousins  2.0     None   0.12       None  0.229965    None   \n",
       "10974  LaMarcus Aldridge  2.0     None   0.21       None  0.234757    None   \n",
       "11156      Blake Griffin  3.0     None   0.20       None  0.234757    None   \n",
       "11197       Kyrie Irving  3.0     None   0.08       None  0.222883    None   \n",
       "11102         Tim Duncan  3.0     None   0.11       None  0.248511    None   \n",
       "11221     DeAndre Jordan  3.0     None   0.11       None  0.292989    None   \n",
       "11409      Klay Thompson  3.0     None   0.02       None  0.234757    None   \n",
       "11155      Blake Griffin  3.0     None   0.20       None  0.234757    None   \n",
       "\n",
       "       knnprb dtpred  dtprb  \n",
       "11202    0.40   None      0  \n",
       "11077    0.35    1.0      0  \n",
       "11082    0.15   None      0  \n",
       "11201    0.40   None      0  \n",
       "11131    0.20    1.0      0  \n",
       "11163    0.30    1.0      0  \n",
       "10973    0.10    3.0      0  \n",
       "11328    0.45   None      0  \n",
       "11437    0.35   None      0  \n",
       "11132    0.15    2.0      1  \n",
       "11069    0.10    1.0      0  \n",
       "10974    0.10    3.0      0  \n",
       "11156    0.10   None      0  \n",
       "11197    0.00    2.0      1  \n",
       "11102    0.05    1.0      0  \n",
       "11221    0.00   None      0  \n",
       "11409    0.00   None      0  \n",
       "11155    0.10   None      0  "
      ]
     },
     "execution_count": 51,
     "metadata": {},
     "output_type": "execute_result"
    }
   ],
   "source": [
    "df[df.team!='None'].sort_values(by='team')"
   ]
  },
  {
   "cell_type": "markdown",
   "metadata": {},
   "source": [
    "# Naive Bayes"
   ]
  },
  {
   "cell_type": "code",
   "execution_count": 27,
   "metadata": {
    "collapsed": false
   },
   "outputs": [
    {
     "name": "stdout",
     "output_type": "stream",
     "text": [
      "accuracy = 90.6990881459 %\n",
      "0.899934737942\n"
     ]
    }
   ],
   "source": [
    "from sklearn.naive_bayes import GaussianNB\n",
    "nbclf = GaussianNB()\n",
    "\n",
    "nbclf=nbclf.fit(features_train,labels_train)\n",
    "\n",
    "nbpred=nbclf.predict(features_test)\n",
    "\n",
    "print \"accuracy =\", nbclf.score(features_test, labels_test) * 100, '%'\n",
    "nbscores = cross_val_score(nbclf, features_train, labels_train)\n",
    "print nbscores.mean()\n"
   ]
  },
  {
   "cell_type": "markdown",
   "metadata": {},
   "source": [
    "# SVC"
   ]
  },
  {
   "cell_type": "code",
   "execution_count": 28,
   "metadata": {
    "collapsed": false
   },
   "outputs": [
    {
     "name": "stdout",
     "output_type": "stream",
     "text": [
      "accuracy = 97.7811550152 %\n",
      "0.97355034916\n"
     ]
    }
   ],
   "source": [
    "from sklearn.svm import SVC\n",
    "svcclf = SVC(kernel='rbf')\n",
    "\n",
    "svcclf = svcclf.fit(features_train, labels_train)\n",
    "\n",
    "svcpred = svcclf.predict(features_test)\n",
    "\n",
    "print \"accuracy =\", svcclf.score(features_test, labels_test) * 100, '%'\n",
    "svcscores = cross_val_score(svcclf, features_train, labels_train)\n",
    "print svcscores.mean()\n"
   ]
  },
  {
   "cell_type": "code",
   "execution_count": null,
   "metadata": {
    "collapsed": false
   },
   "outputs": [],
   "source": []
  },
  {
   "cell_type": "code",
   "execution_count": null,
   "metadata": {
    "collapsed": false
   },
   "outputs": [],
   "source": []
  },
  {
   "cell_type": "code",
   "execution_count": null,
   "metadata": {
    "collapsed": true
   },
   "outputs": [],
   "source": []
  }
 ],
 "metadata": {
  "kernelspec": {
   "display_name": "Python 2",
   "language": "python",
   "name": "python2"
  },
  "language_info": {
   "codemirror_mode": {
    "name": "ipython",
    "version": 2
   },
   "file_extension": ".py",
   "mimetype": "text/x-python",
   "name": "python",
   "nbconvert_exporter": "python",
   "pygments_lexer": "ipython2",
   "version": "2.7.11"
  }
 },
 "nbformat": 4,
 "nbformat_minor": 0
}

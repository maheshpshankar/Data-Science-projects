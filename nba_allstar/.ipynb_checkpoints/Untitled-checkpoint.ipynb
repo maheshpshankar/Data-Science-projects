{
 "cells": [
  {
   "cell_type": "code",
   "execution_count": 110,
   "metadata": {
    "collapsed": true
   },
   "outputs": [],
   "source": [
    "import pandas as pd, matplotlib.pyplot as plt, numpy as np\n",
    "import csv\n",
    "from sklearn.linear_model import LogisticRegression\n",
    "from sklearn.cross_validation import train_test_split\n",
    "from sklearn import metrics\n",
    "%matplotlib inline"
   ]
  },
  {
   "cell_type": "code",
   "execution_count": 248,
   "metadata": {
    "collapsed": true
   },
   "outputs": [],
   "source": [
    "nba = pd.read_csv('AllStarNBA')\n",
    "nba_2016=pd.read_csv('NBA_2016')"
   ]
  },
  {
   "cell_type": "code",
   "execution_count": 249,
   "metadata": {
    "collapsed": true
   },
   "outputs": [],
   "source": [
    "nba_2015= nba[nba.season_end == 2015]\n",
    "nbaHistoric= nba[nba.season_end <= 2014]"
   ]
  },
  {
   "cell_type": "code",
   "execution_count": 250,
   "metadata": {
    "collapsed": true
   },
   "outputs": [],
   "source": [
    "nbaHistoric2= nba[nba.season_end <= 2015]"
   ]
  },
  {
   "cell_type": "code",
   "execution_count": 251,
   "metadata": {
    "collapsed": false,
    "scrolled": true
   },
   "outputs": [
    {
     "name": "stdout",
     "output_type": "stream",
     "text": [
      "<class 'pandas.core.frame.DataFrame'>\n",
      "Int64Index: 10965 entries, 0 to 10964\n",
      "Data columns (total 53 columns):\n",
      "Unnamed: 0      10965 non-null int64\n",
      "player          10965 non-null object\n",
      "pos             10965 non-null object\n",
      "age             10965 non-null int64\n",
      "bref_team_id    10965 non-null object\n",
      "g               10965 non-null int64\n",
      "gs              10965 non-null int64\n",
      "mp              10965 non-null float64\n",
      "fg              10965 non-null float64\n",
      "fga             10965 non-null float64\n",
      "fg_             10965 non-null float64\n",
      "x3p             10965 non-null float64\n",
      "x3pa            10965 non-null float64\n",
      "x3p_            10965 non-null float64\n",
      "x2p             10965 non-null float64\n",
      "x2pa            10965 non-null float64\n",
      "x2p_            10965 non-null float64\n",
      "efg             10965 non-null float64\n",
      "ft              10965 non-null float64\n",
      "fta             10965 non-null float64\n",
      "ft_             10965 non-null float64\n",
      "orb             10965 non-null float64\n",
      "drb             10965 non-null float64\n",
      "trb             10965 non-null float64\n",
      "ast             10965 non-null float64\n",
      "stl             10965 non-null float64\n",
      "blk             10965 non-null float64\n",
      "tov             10965 non-null float64\n",
      "pf              10965 non-null float64\n",
      "pts             10965 non-null float64\n",
      "season_end      10965 non-null int64\n",
      "PER             10965 non-null float64\n",
      "TS%             10965 non-null float64\n",
      "3PAr            10965 non-null float64\n",
      "FTr             10965 non-null float64\n",
      "ORB%            10965 non-null float64\n",
      "DRB%            10965 non-null float64\n",
      "TRB%            10965 non-null float64\n",
      "AST%            10965 non-null float64\n",
      "STL%            10965 non-null float64\n",
      "BLK%            10965 non-null float64\n",
      "TOV%            10965 non-null float64\n",
      "USG%            10965 non-null float64\n",
      "OWS             10965 non-null float64\n",
      "DWS             10965 non-null float64\n",
      "WS              10965 non-null float64\n",
      "WS/48           10965 non-null float64\n",
      "OBPM            10965 non-null float64\n",
      "DBPM            10965 non-null float64\n",
      "BPM             10965 non-null float64\n",
      "VORP            10965 non-null float64\n",
      "year            312 non-null object\n",
      "team            10965 non-null object\n",
      "dtypes: float64(43), int64(5), object(5)\n",
      "memory usage: 4.5+ MB\n",
      "<class 'pandas.core.frame.DataFrame'>\n",
      "Int64Index: 495 entries, 10965 to 11459\n",
      "Data columns (total 53 columns):\n",
      "Unnamed: 0      495 non-null int64\n",
      "player          495 non-null object\n",
      "pos             495 non-null object\n",
      "age             495 non-null int64\n",
      "bref_team_id    495 non-null object\n",
      "g               495 non-null int64\n",
      "gs              495 non-null int64\n",
      "mp              495 non-null float64\n",
      "fg              495 non-null float64\n",
      "fga             495 non-null float64\n",
      "fg_             495 non-null float64\n",
      "x3p             495 non-null float64\n",
      "x3pa            495 non-null float64\n",
      "x3p_            495 non-null float64\n",
      "x2p             495 non-null float64\n",
      "x2pa            495 non-null float64\n",
      "x2p_            495 non-null float64\n",
      "efg             495 non-null float64\n",
      "ft              495 non-null float64\n",
      "fta             495 non-null float64\n",
      "ft_             495 non-null float64\n",
      "orb             495 non-null float64\n",
      "drb             495 non-null float64\n",
      "trb             495 non-null float64\n",
      "ast             495 non-null float64\n",
      "stl             495 non-null float64\n",
      "blk             495 non-null float64\n",
      "tov             495 non-null float64\n",
      "pf              495 non-null float64\n",
      "pts             495 non-null float64\n",
      "season_end      495 non-null int64\n",
      "PER             495 non-null float64\n",
      "TS%             495 non-null float64\n",
      "3PAr            495 non-null float64\n",
      "FTr             495 non-null float64\n",
      "ORB%            495 non-null float64\n",
      "DRB%            495 non-null float64\n",
      "TRB%            495 non-null float64\n",
      "AST%            495 non-null float64\n",
      "STL%            495 non-null float64\n",
      "BLK%            495 non-null float64\n",
      "TOV%            495 non-null float64\n",
      "USG%            495 non-null float64\n",
      "OWS             495 non-null float64\n",
      "DWS             495 non-null float64\n",
      "WS              495 non-null float64\n",
      "WS/48           495 non-null float64\n",
      "OBPM            495 non-null float64\n",
      "DBPM            495 non-null float64\n",
      "BPM             495 non-null float64\n",
      "VORP            495 non-null float64\n",
      "year            18 non-null object\n",
      "team            495 non-null object\n",
      "dtypes: float64(43), int64(5), object(5)\n",
      "memory usage: 208.8+ KB\n"
     ]
    }
   ],
   "source": [
    "d = nbaHistoric\n",
    "d.info()\n",
    "\n",
    "d_2015 = nba_2015\n",
    "d_2015.info()"
   ]
  },
  {
   "cell_type": "code",
   "execution_count": 252,
   "metadata": {
    "collapsed": true
   },
   "outputs": [],
   "source": [
    "col_u = [\"g\",\"gs\",\"mp\",\"fg\",\"fga\",\"fg_\",\"x3p\",\"x3pa\",\"x3p_\",\"x2p\",\"x2pa\",\"x2p_\",\"ft\",\"fta\",\"ft_\",\"orb\",\"drb\",\"trb\",\"ast\",\"stl\",\"blk\",\"tov\",\"pf\",\"pts\"]"
   ]
  },
  {
   "cell_type": "code",
   "execution_count": 253,
   "metadata": {
    "collapsed": false,
    "scrolled": true
   },
   "outputs": [],
   "source": [
    "features= d[col_u]\n",
    "features_2015 = d_2015[col_u]\n",
    "#d.team.replace('None',0,inplace=True)\n",
    "#labels=pd.to_numeric(d.team,errors='coerce')"
   ]
  },
  {
   "cell_type": "code",
   "execution_count": 254,
   "metadata": {
    "collapsed": false,
    "scrolled": true
   },
   "outputs": [],
   "source": [
    "#d.team= np.where(d.team != 'None',1,0)\n",
    "labels = d.team"
   ]
  },
  {
   "cell_type": "code",
   "execution_count": 255,
   "metadata": {
    "collapsed": false,
    "scrolled": true
   },
   "outputs": [
    {
     "data": {
      "text/plain": [
       "array(['None', '2.0', '3.0', '1.0'], dtype=object)"
      ]
     },
     "execution_count": 255,
     "metadata": {},
     "output_type": "execute_result"
    }
   ],
   "source": [
    "labels.unique()"
   ]
  },
  {
   "cell_type": "code",
   "execution_count": 256,
   "metadata": {
    "collapsed": false,
    "scrolled": true
   },
   "outputs": [],
   "source": [
    "features_train, features_test, labels_train, labels_test = train_test_split(features, labels, test_size=0.3, random_state=1)\n",
    "train = pd.DataFrame(data=features_train, columns=[col_u])\n",
    "train['team'] = labels_train\n",
    "test = pd.DataFrame(data=features_test, columns=[col_u])\n",
    "test['team'] = labels_test\n"
   ]
  },
  {
   "cell_type": "markdown",
   "metadata": {},
   "source": [
    "# Random Forest"
   ]
  },
  {
   "cell_type": "code",
   "execution_count": 257,
   "metadata": {
    "collapsed": false
   },
   "outputs": [
    {
     "name": "stdout",
     "output_type": "stream",
     "text": [
      "Accuracy = 98.2066869301 %\n",
      "0.978240496006\n"
     ]
    },
    {
     "data": {
      "text/plain": [
       "array([ 0.01992912,  0.02471833,  0.04162431,  0.0701906 ,  0.04001979,\n",
       "        0.03559752,  0.02584232,  0.03024981,  0.0287253 ,  0.05591166,\n",
       "        0.03993433,  0.03451634,  0.05564401,  0.06208468,  0.03911896,\n",
       "        0.03188046,  0.05285312,  0.04492228,  0.0530901 ,  0.03066989,\n",
       "        0.02748908,  0.03587749,  0.03208884,  0.08702164])"
      ]
     },
     "execution_count": 257,
     "metadata": {},
     "output_type": "execute_result"
    }
   ],
   "source": [
    "from sklearn.ensemble import RandomForestClassifier\n",
    "from sklearn.metrics import accuracy_score\n",
    "from sklearn.cross_validation import cross_val_score\n",
    "\n",
    "clf = RandomForestClassifier(n_estimators=100,max_features='auto',min_samples_split=1)\n",
    "\n",
    "clf = clf.fit(features_train,labels_train)\n",
    "\n",
    "pred = clf.predict(features_test)\n",
    "\n",
    "print \"Accuracy =\", accuracy_score(pred, labels_test)*100,\"%\"\n",
    "scores = cross_val_score(clf, features_train, labels_train)\n",
    "print scores.mean()\n",
    "clf.feature_importances_"
   ]
  },
  {
   "cell_type": "code",
   "execution_count": 258,
   "metadata": {
    "collapsed": false,
    "scrolled": true
   },
   "outputs": [
    {
     "name": "stderr",
     "output_type": "stream",
     "text": [
      "C:\\Users\\mahesh\\Anaconda2\\lib\\site-packages\\ipykernel\\__main__.py:2: SettingWithCopyWarning: \n",
      "A value is trying to be set on a copy of a slice from a DataFrame.\n",
      "Try using .loc[row_indexer,col_indexer] = value instead\n",
      "\n",
      "See the caveats in the documentation: http://pandas.pydata.org/pandas-docs/stable/indexing.html#indexing-view-versus-copy\n",
      "  from ipykernel import kernelapp as app\n",
      "C:\\Users\\mahesh\\Anaconda2\\lib\\site-packages\\ipykernel\\__main__.py:3: SettingWithCopyWarning: \n",
      "A value is trying to be set on a copy of a slice from a DataFrame.\n",
      "Try using .loc[row_indexer,col_indexer] = value instead\n",
      "\n",
      "See the caveats in the documentation: http://pandas.pydata.org/pandas-docs/stable/indexing.html#indexing-view-versus-copy\n",
      "  app.launch_new_instance()\n"
     ]
    }
   ],
   "source": [
    "#features_2015 = d_2015[col_u]\n",
    "d_2015['pred2015']=clf.predict(features_2015)\n",
    "d_2015['rfprd']=clf.predict_proba(features_2015)[:, 1]\n",
    "#pred = clf.predict(features_test)\n",
    "df=d_2015[['player','team','pred2015','rfprd']]"
   ]
  },
  {
   "cell_type": "code",
   "execution_count": 278,
   "metadata": {
    "collapsed": false,
    "scrolled": true
   },
   "outputs": [
    {
     "data": {
      "text/html": [
       "<div>\n",
       "<table border=\"1\" class=\"dataframe\">\n",
       "  <thead>\n",
       "    <tr style=\"text-align: right;\">\n",
       "      <th></th>\n",
       "      <th>player</th>\n",
       "      <th>team</th>\n",
       "      <th>pred2015</th>\n",
       "      <th>rfprd</th>\n",
       "    </tr>\n",
       "  </thead>\n",
       "  <tbody>\n",
       "    <tr>\n",
       "      <th>11202</th>\n",
       "      <td>LeBron James</td>\n",
       "      <td>1.0</td>\n",
       "      <td>2.0</td>\n",
       "      <td>0.35</td>\n",
       "    </tr>\n",
       "    <tr>\n",
       "      <th>11077</th>\n",
       "      <td>Stephen Curry</td>\n",
       "      <td>1.0</td>\n",
       "      <td>None</td>\n",
       "      <td>0.28</td>\n",
       "    </tr>\n",
       "    <tr>\n",
       "      <th>11082</th>\n",
       "      <td>Anthony Davis</td>\n",
       "      <td>1.0</td>\n",
       "      <td>None</td>\n",
       "      <td>0.23</td>\n",
       "    </tr>\n",
       "    <tr>\n",
       "      <th>11201</th>\n",
       "      <td>LeBron James</td>\n",
       "      <td>1.0</td>\n",
       "      <td>2.0</td>\n",
       "      <td>0.35</td>\n",
       "    </tr>\n",
       "    <tr>\n",
       "      <th>11131</th>\n",
       "      <td>Marc Gasol</td>\n",
       "      <td>1.0</td>\n",
       "      <td>None</td>\n",
       "      <td>0.02</td>\n",
       "    </tr>\n",
       "    <tr>\n",
       "      <th>11163</th>\n",
       "      <td>James Harden</td>\n",
       "      <td>1.0</td>\n",
       "      <td>3.0</td>\n",
       "      <td>0.21</td>\n",
       "    </tr>\n",
       "    <tr>\n",
       "      <th>10973</th>\n",
       "      <td>LaMarcus Aldridge</td>\n",
       "      <td>2.0</td>\n",
       "      <td>None</td>\n",
       "      <td>0.10</td>\n",
       "    </tr>\n",
       "    <tr>\n",
       "      <th>11328</th>\n",
       "      <td>Chris Paul</td>\n",
       "      <td>2.0</td>\n",
       "      <td>None</td>\n",
       "      <td>0.25</td>\n",
       "    </tr>\n",
       "    <tr>\n",
       "      <th>11437</th>\n",
       "      <td>Russell Westbrook</td>\n",
       "      <td>2.0</td>\n",
       "      <td>1.0</td>\n",
       "      <td>0.31</td>\n",
       "    </tr>\n",
       "    <tr>\n",
       "      <th>11132</th>\n",
       "      <td>Pau Gasol</td>\n",
       "      <td>2.0</td>\n",
       "      <td>3.0</td>\n",
       "      <td>0.20</td>\n",
       "    </tr>\n",
       "    <tr>\n",
       "      <th>11069</th>\n",
       "      <td>DeMarcus Cousins</td>\n",
       "      <td>2.0</td>\n",
       "      <td>None</td>\n",
       "      <td>0.13</td>\n",
       "    </tr>\n",
       "    <tr>\n",
       "      <th>10974</th>\n",
       "      <td>LaMarcus Aldridge</td>\n",
       "      <td>2.0</td>\n",
       "      <td>None</td>\n",
       "      <td>0.10</td>\n",
       "    </tr>\n",
       "    <tr>\n",
       "      <th>11156</th>\n",
       "      <td>Blake Griffin</td>\n",
       "      <td>3.0</td>\n",
       "      <td>None</td>\n",
       "      <td>0.08</td>\n",
       "    </tr>\n",
       "    <tr>\n",
       "      <th>11197</th>\n",
       "      <td>Kyrie Irving</td>\n",
       "      <td>3.0</td>\n",
       "      <td>None</td>\n",
       "      <td>0.02</td>\n",
       "    </tr>\n",
       "    <tr>\n",
       "      <th>11102</th>\n",
       "      <td>Tim Duncan</td>\n",
       "      <td>3.0</td>\n",
       "      <td>None</td>\n",
       "      <td>0.00</td>\n",
       "    </tr>\n",
       "    <tr>\n",
       "      <th>11221</th>\n",
       "      <td>DeAndre Jordan</td>\n",
       "      <td>3.0</td>\n",
       "      <td>None</td>\n",
       "      <td>0.01</td>\n",
       "    </tr>\n",
       "    <tr>\n",
       "      <th>11409</th>\n",
       "      <td>Klay Thompson</td>\n",
       "      <td>3.0</td>\n",
       "      <td>None</td>\n",
       "      <td>0.08</td>\n",
       "    </tr>\n",
       "    <tr>\n",
       "      <th>11155</th>\n",
       "      <td>Blake Griffin</td>\n",
       "      <td>3.0</td>\n",
       "      <td>None</td>\n",
       "      <td>0.08</td>\n",
       "    </tr>\n",
       "  </tbody>\n",
       "</table>\n",
       "</div>"
      ],
      "text/plain": [
       "                  player team pred2015  rfprd\n",
       "11202       LeBron James  1.0      2.0   0.35\n",
       "11077      Stephen Curry  1.0     None   0.28\n",
       "11082      Anthony Davis  1.0     None   0.23\n",
       "11201       LeBron James  1.0      2.0   0.35\n",
       "11131         Marc Gasol  1.0     None   0.02\n",
       "11163       James Harden  1.0      3.0   0.21\n",
       "10973  LaMarcus Aldridge  2.0     None   0.10\n",
       "11328         Chris Paul  2.0     None   0.25\n",
       "11437  Russell Westbrook  2.0      1.0   0.31\n",
       "11132          Pau Gasol  2.0      3.0   0.20\n",
       "11069   DeMarcus Cousins  2.0     None   0.13\n",
       "10974  LaMarcus Aldridge  2.0     None   0.10\n",
       "11156      Blake Griffin  3.0     None   0.08\n",
       "11197       Kyrie Irving  3.0     None   0.02\n",
       "11102         Tim Duncan  3.0     None   0.00\n",
       "11221     DeAndre Jordan  3.0     None   0.01\n",
       "11409      Klay Thompson  3.0     None   0.08\n",
       "11155      Blake Griffin  3.0     None   0.08"
      ]
     },
     "execution_count": 278,
     "metadata": {},
     "output_type": "execute_result"
    }
   ],
   "source": [
    "df[df.team!='None'].sort_values(by='team')"
   ]
  },
  {
   "cell_type": "code",
   "execution_count": null,
   "metadata": {
    "collapsed": false
   },
   "outputs": [],
   "source": []
  },
  {
   "cell_type": "markdown",
   "metadata": {},
   "source": [
    "# Adaboost"
   ]
  },
  {
   "cell_type": "code",
   "execution_count": 279,
   "metadata": {
    "collapsed": false
   },
   "outputs": [
    {
     "name": "stdout",
     "output_type": "stream",
     "text": [
      "Accuracy = 97.5075987842 %\n",
      "0.968469322783\n"
     ]
    },
    {
     "data": {
      "text/plain": [
       "array([ 0. ,  0. ,  0.1,  0. ,  0. ,  0.1,  0. ,  0. ,  0. ,  0. ,  0. ,\n",
       "        0. ,  0. ,  0. ,  0. ,  0. ,  0.1,  0. ,  0.2,  0. ,  0.1,  0. ,\n",
       "        0.1,  0.3])"
      ]
     },
     "execution_count": 279,
     "metadata": {},
     "output_type": "execute_result"
    }
   ],
   "source": [
    "\n",
    "from sklearn.ensemble import AdaBoostClassifier\n",
    "adaclf = AdaBoostClassifier(n_estimators=10)\n",
    "\n",
    "adaclf = adaclf.fit(features_train,labels_train)\n",
    "\n",
    "adapred = adaclf.predict(features_test)\n",
    "\n",
    "print \"Accuracy =\", accuracy_score(adapred, labels_test)*100,\"%\"\n",
    "adascores = cross_val_score(adaclf, features_train, labels_train)\n",
    "print adascores.mean()\n",
    "adaclf.feature_importances_"
   ]
  },
  {
   "cell_type": "code",
   "execution_count": 280,
   "metadata": {
    "collapsed": false
   },
   "outputs": [
    {
     "name": "stderr",
     "output_type": "stream",
     "text": [
      "C:\\Users\\mahesh\\Anaconda2\\lib\\site-packages\\ipykernel\\__main__.py:2: SettingWithCopyWarning: \n",
      "A value is trying to be set on a copy of a slice from a DataFrame.\n",
      "Try using .loc[row_indexer,col_indexer] = value instead\n",
      "\n",
      "See the caveats in the documentation: http://pandas.pydata.org/pandas-docs/stable/indexing.html#indexing-view-versus-copy\n",
      "  from ipykernel import kernelapp as app\n",
      "C:\\Users\\mahesh\\Anaconda2\\lib\\site-packages\\ipykernel\\__main__.py:3: SettingWithCopyWarning: \n",
      "A value is trying to be set on a copy of a slice from a DataFrame.\n",
      "Try using .loc[row_indexer,col_indexer] = value instead\n",
      "\n",
      "See the caveats in the documentation: http://pandas.pydata.org/pandas-docs/stable/indexing.html#indexing-view-versus-copy\n",
      "  app.launch_new_instance()\n"
     ]
    }
   ],
   "source": [
    "#features_2015 = d_2015[col_u]\n",
    "d_2015['adapredict']=adaclf.predict(features_2015)\n",
    "d_2015['adaprb']=adaclf.predict_proba(features_2015)[:, 1]\n",
    "#pred = clf.predict(features_test)\n",
    "df=d_2015[['player','team','pred2015','rfprd','adapredict','adaprb']]"
   ]
  },
  {
   "cell_type": "code",
   "execution_count": 283,
   "metadata": {
    "collapsed": false
   },
   "outputs": [
    {
     "data": {
      "text/html": [
       "<div>\n",
       "<table border=\"1\" class=\"dataframe\">\n",
       "  <thead>\n",
       "    <tr style=\"text-align: right;\">\n",
       "      <th></th>\n",
       "      <th>player</th>\n",
       "      <th>team</th>\n",
       "      <th>pred2015</th>\n",
       "      <th>rfprd</th>\n",
       "      <th>adapredict</th>\n",
       "      <th>adaprb</th>\n",
       "    </tr>\n",
       "  </thead>\n",
       "  <tbody>\n",
       "    <tr>\n",
       "      <th>11082</th>\n",
       "      <td>Anthony Davis</td>\n",
       "      <td>1.0</td>\n",
       "      <td>None</td>\n",
       "      <td>0.23</td>\n",
       "      <td>1.0</td>\n",
       "      <td>0.228756</td>\n",
       "    </tr>\n",
       "    <tr>\n",
       "      <th>11437</th>\n",
       "      <td>Russell Westbrook</td>\n",
       "      <td>2.0</td>\n",
       "      <td>1.0</td>\n",
       "      <td>0.31</td>\n",
       "      <td>1.0</td>\n",
       "      <td>0.271869</td>\n",
       "    </tr>\n",
       "  </tbody>\n",
       "</table>\n",
       "</div>"
      ],
      "text/plain": [
       "                  player team pred2015  rfprd adapredict    adaprb\n",
       "11082      Anthony Davis  1.0     None   0.23        1.0  0.228756\n",
       "11437  Russell Westbrook  2.0      1.0   0.31        1.0  0.271869"
      ]
     },
     "execution_count": 283,
     "metadata": {},
     "output_type": "execute_result"
    }
   ],
   "source": [
    "df[df.adapredict!='None'].sort_values(by='team')"
   ]
  },
  {
   "cell_type": "markdown",
   "metadata": {},
   "source": [
    "# KNN"
   ]
  },
  {
   "cell_type": "code",
   "execution_count": 284,
   "metadata": {
    "collapsed": false
   },
   "outputs": [
    {
     "name": "stdout",
     "output_type": "stream",
     "text": [
      "Accuracy = 97.5987841945 %\n",
      "0.972247043811\n"
     ]
    }
   ],
   "source": [
    "from sklearn.neighbors import KNeighborsClassifier\n",
    "knnclf = KNeighborsClassifier(n_neighbors=20)\n",
    "\n",
    "knnclf = knnclf.fit(features_train,labels_train)\n",
    "\n",
    "knnpred = knnclf.predict(features_test)\n",
    "\n",
    "print \"Accuracy =\", accuracy_score(knnpred, labels_test)*100,\"%\"\n",
    "knnscores = cross_val_score(knnclf, features_train, labels_train)\n",
    "print knnscores.mean()\n"
   ]
  },
  {
   "cell_type": "code",
   "execution_count": 285,
   "metadata": {
    "collapsed": false
   },
   "outputs": [
    {
     "name": "stderr",
     "output_type": "stream",
     "text": [
      "C:\\Users\\mahesh\\Anaconda2\\lib\\site-packages\\ipykernel\\__main__.py:2: SettingWithCopyWarning: \n",
      "A value is trying to be set on a copy of a slice from a DataFrame.\n",
      "Try using .loc[row_indexer,col_indexer] = value instead\n",
      "\n",
      "See the caveats in the documentation: http://pandas.pydata.org/pandas-docs/stable/indexing.html#indexing-view-versus-copy\n",
      "  from ipykernel import kernelapp as app\n",
      "C:\\Users\\mahesh\\Anaconda2\\lib\\site-packages\\ipykernel\\__main__.py:3: SettingWithCopyWarning: \n",
      "A value is trying to be set on a copy of a slice from a DataFrame.\n",
      "Try using .loc[row_indexer,col_indexer] = value instead\n",
      "\n",
      "See the caveats in the documentation: http://pandas.pydata.org/pandas-docs/stable/indexing.html#indexing-view-versus-copy\n",
      "  app.launch_new_instance()\n"
     ]
    }
   ],
   "source": [
    "#features_2015 = d_2015[col_u]\n",
    "d_2015['knnpred']=knnclf.predict(features_2015)\n",
    "d_2015['knnprb']=knnclf.predict_proba(features_2015)[:, 1]\n",
    "#pred = clf.predict(features_test)\n",
    "df=d_2015[['player','team','pred2015','rfprd','adapredict','adaprb','knnpred','knnprb']]"
   ]
  },
  {
   "cell_type": "code",
   "execution_count": 287,
   "metadata": {
    "collapsed": false
   },
   "outputs": [
    {
     "data": {
      "text/html": [
       "<div>\n",
       "<table border=\"1\" class=\"dataframe\">\n",
       "  <thead>\n",
       "    <tr style=\"text-align: right;\">\n",
       "      <th></th>\n",
       "      <th>player</th>\n",
       "      <th>team</th>\n",
       "      <th>pred2015</th>\n",
       "      <th>rfprd</th>\n",
       "      <th>adapredict</th>\n",
       "      <th>adaprb</th>\n",
       "      <th>knnpred</th>\n",
       "      <th>knnprb</th>\n",
       "    </tr>\n",
       "  </thead>\n",
       "  <tbody>\n",
       "    <tr>\n",
       "      <th>11202</th>\n",
       "      <td>LeBron James</td>\n",
       "      <td>1.0</td>\n",
       "      <td>2.0</td>\n",
       "      <td>0.35</td>\n",
       "      <td>None</td>\n",
       "      <td>0.245599</td>\n",
       "      <td>None</td>\n",
       "      <td>0.15</td>\n",
       "    </tr>\n",
       "    <tr>\n",
       "      <th>11077</th>\n",
       "      <td>Stephen Curry</td>\n",
       "      <td>1.0</td>\n",
       "      <td>None</td>\n",
       "      <td>0.28</td>\n",
       "      <td>None</td>\n",
       "      <td>0.233020</td>\n",
       "      <td>None</td>\n",
       "      <td>0.10</td>\n",
       "    </tr>\n",
       "    <tr>\n",
       "      <th>11082</th>\n",
       "      <td>Anthony Davis</td>\n",
       "      <td>1.0</td>\n",
       "      <td>None</td>\n",
       "      <td>0.23</td>\n",
       "      <td>1.0</td>\n",
       "      <td>0.228756</td>\n",
       "      <td>None</td>\n",
       "      <td>0.15</td>\n",
       "    </tr>\n",
       "    <tr>\n",
       "      <th>11201</th>\n",
       "      <td>LeBron James</td>\n",
       "      <td>1.0</td>\n",
       "      <td>2.0</td>\n",
       "      <td>0.35</td>\n",
       "      <td>None</td>\n",
       "      <td>0.245599</td>\n",
       "      <td>None</td>\n",
       "      <td>0.15</td>\n",
       "    </tr>\n",
       "    <tr>\n",
       "      <th>11131</th>\n",
       "      <td>Marc Gasol</td>\n",
       "      <td>1.0</td>\n",
       "      <td>None</td>\n",
       "      <td>0.02</td>\n",
       "      <td>None</td>\n",
       "      <td>0.242525</td>\n",
       "      <td>None</td>\n",
       "      <td>0.05</td>\n",
       "    </tr>\n",
       "    <tr>\n",
       "      <th>11163</th>\n",
       "      <td>James Harden</td>\n",
       "      <td>1.0</td>\n",
       "      <td>3.0</td>\n",
       "      <td>0.21</td>\n",
       "      <td>None</td>\n",
       "      <td>0.244127</td>\n",
       "      <td>None</td>\n",
       "      <td>0.00</td>\n",
       "    </tr>\n",
       "    <tr>\n",
       "      <th>10973</th>\n",
       "      <td>LaMarcus Aldridge</td>\n",
       "      <td>2.0</td>\n",
       "      <td>None</td>\n",
       "      <td>0.10</td>\n",
       "      <td>None</td>\n",
       "      <td>0.245599</td>\n",
       "      <td>None</td>\n",
       "      <td>0.15</td>\n",
       "    </tr>\n",
       "    <tr>\n",
       "      <th>11328</th>\n",
       "      <td>Chris Paul</td>\n",
       "      <td>2.0</td>\n",
       "      <td>None</td>\n",
       "      <td>0.25</td>\n",
       "      <td>None</td>\n",
       "      <td>0.253645</td>\n",
       "      <td>None</td>\n",
       "      <td>0.25</td>\n",
       "    </tr>\n",
       "    <tr>\n",
       "      <th>11437</th>\n",
       "      <td>Russell Westbrook</td>\n",
       "      <td>2.0</td>\n",
       "      <td>1.0</td>\n",
       "      <td>0.31</td>\n",
       "      <td>1.0</td>\n",
       "      <td>0.271869</td>\n",
       "      <td>2.0</td>\n",
       "      <td>0.35</td>\n",
       "    </tr>\n",
       "    <tr>\n",
       "      <th>11132</th>\n",
       "      <td>Pau Gasol</td>\n",
       "      <td>2.0</td>\n",
       "      <td>3.0</td>\n",
       "      <td>0.20</td>\n",
       "      <td>None</td>\n",
       "      <td>0.237343</td>\n",
       "      <td>None</td>\n",
       "      <td>0.15</td>\n",
       "    </tr>\n",
       "    <tr>\n",
       "      <th>11069</th>\n",
       "      <td>DeMarcus Cousins</td>\n",
       "      <td>2.0</td>\n",
       "      <td>None</td>\n",
       "      <td>0.13</td>\n",
       "      <td>None</td>\n",
       "      <td>0.253606</td>\n",
       "      <td>None</td>\n",
       "      <td>0.15</td>\n",
       "    </tr>\n",
       "    <tr>\n",
       "      <th>10974</th>\n",
       "      <td>LaMarcus Aldridge</td>\n",
       "      <td>2.0</td>\n",
       "      <td>None</td>\n",
       "      <td>0.10</td>\n",
       "      <td>None</td>\n",
       "      <td>0.245599</td>\n",
       "      <td>None</td>\n",
       "      <td>0.15</td>\n",
       "    </tr>\n",
       "    <tr>\n",
       "      <th>11156</th>\n",
       "      <td>Blake Griffin</td>\n",
       "      <td>3.0</td>\n",
       "      <td>None</td>\n",
       "      <td>0.08</td>\n",
       "      <td>None</td>\n",
       "      <td>0.253606</td>\n",
       "      <td>None</td>\n",
       "      <td>0.10</td>\n",
       "    </tr>\n",
       "    <tr>\n",
       "      <th>11197</th>\n",
       "      <td>Kyrie Irving</td>\n",
       "      <td>3.0</td>\n",
       "      <td>None</td>\n",
       "      <td>0.02</td>\n",
       "      <td>None</td>\n",
       "      <td>0.233020</td>\n",
       "      <td>None</td>\n",
       "      <td>0.00</td>\n",
       "    </tr>\n",
       "    <tr>\n",
       "      <th>11102</th>\n",
       "      <td>Tim Duncan</td>\n",
       "      <td>3.0</td>\n",
       "      <td>None</td>\n",
       "      <td>0.00</td>\n",
       "      <td>None</td>\n",
       "      <td>0.017182</td>\n",
       "      <td>None</td>\n",
       "      <td>0.00</td>\n",
       "    </tr>\n",
       "    <tr>\n",
       "      <th>11221</th>\n",
       "      <td>DeAndre Jordan</td>\n",
       "      <td>3.0</td>\n",
       "      <td>None</td>\n",
       "      <td>0.01</td>\n",
       "      <td>None</td>\n",
       "      <td>0.239741</td>\n",
       "      <td>None</td>\n",
       "      <td>0.10</td>\n",
       "    </tr>\n",
       "    <tr>\n",
       "      <th>11409</th>\n",
       "      <td>Klay Thompson</td>\n",
       "      <td>3.0</td>\n",
       "      <td>None</td>\n",
       "      <td>0.08</td>\n",
       "      <td>None</td>\n",
       "      <td>0.233020</td>\n",
       "      <td>None</td>\n",
       "      <td>0.00</td>\n",
       "    </tr>\n",
       "    <tr>\n",
       "      <th>11155</th>\n",
       "      <td>Blake Griffin</td>\n",
       "      <td>3.0</td>\n",
       "      <td>None</td>\n",
       "      <td>0.08</td>\n",
       "      <td>None</td>\n",
       "      <td>0.253606</td>\n",
       "      <td>None</td>\n",
       "      <td>0.10</td>\n",
       "    </tr>\n",
       "  </tbody>\n",
       "</table>\n",
       "</div>"
      ],
      "text/plain": [
       "                  player team pred2015  rfprd adapredict    adaprb knnpred  \\\n",
       "11202       LeBron James  1.0      2.0   0.35       None  0.245599    None   \n",
       "11077      Stephen Curry  1.0     None   0.28       None  0.233020    None   \n",
       "11082      Anthony Davis  1.0     None   0.23        1.0  0.228756    None   \n",
       "11201       LeBron James  1.0      2.0   0.35       None  0.245599    None   \n",
       "11131         Marc Gasol  1.0     None   0.02       None  0.242525    None   \n",
       "11163       James Harden  1.0      3.0   0.21       None  0.244127    None   \n",
       "10973  LaMarcus Aldridge  2.0     None   0.10       None  0.245599    None   \n",
       "11328         Chris Paul  2.0     None   0.25       None  0.253645    None   \n",
       "11437  Russell Westbrook  2.0      1.0   0.31        1.0  0.271869     2.0   \n",
       "11132          Pau Gasol  2.0      3.0   0.20       None  0.237343    None   \n",
       "11069   DeMarcus Cousins  2.0     None   0.13       None  0.253606    None   \n",
       "10974  LaMarcus Aldridge  2.0     None   0.10       None  0.245599    None   \n",
       "11156      Blake Griffin  3.0     None   0.08       None  0.253606    None   \n",
       "11197       Kyrie Irving  3.0     None   0.02       None  0.233020    None   \n",
       "11102         Tim Duncan  3.0     None   0.00       None  0.017182    None   \n",
       "11221     DeAndre Jordan  3.0     None   0.01       None  0.239741    None   \n",
       "11409      Klay Thompson  3.0     None   0.08       None  0.233020    None   \n",
       "11155      Blake Griffin  3.0     None   0.08       None  0.253606    None   \n",
       "\n",
       "       knnprb  \n",
       "11202    0.15  \n",
       "11077    0.10  \n",
       "11082    0.15  \n",
       "11201    0.15  \n",
       "11131    0.05  \n",
       "11163    0.00  \n",
       "10973    0.15  \n",
       "11328    0.25  \n",
       "11437    0.35  \n",
       "11132    0.15  \n",
       "11069    0.15  \n",
       "10974    0.15  \n",
       "11156    0.10  \n",
       "11197    0.00  \n",
       "11102    0.00  \n",
       "11221    0.10  \n",
       "11409    0.00  \n",
       "11155    0.10  "
      ]
     },
     "execution_count": 287,
     "metadata": {},
     "output_type": "execute_result"
    }
   ],
   "source": [
    "df[df.team!='None'].sort_values(by='team')"
   ]
  },
  {
   "cell_type": "markdown",
   "metadata": {},
   "source": [
    "# Decision tree"
   ]
  },
  {
   "cell_type": "code",
   "execution_count": 288,
   "metadata": {
    "collapsed": false
   },
   "outputs": [
    {
     "name": "stdout",
     "output_type": "stream",
     "text": [
      "accuracy = 96.8693009119 %\n",
      "0.965863629044\n"
     ]
    },
    {
     "data": {
      "text/plain": [
       "array([ 0.01335197,  0.01028473,  0.03751475,  0.01536106,  0.02621819,\n",
       "        0.02892177,  0.00958005,  0.03343106,  0.03980487,  0.04826071,\n",
       "        0.01409327,  0.03197523,  0.02448519,  0.01949658,  0.05030986,\n",
       "        0.02159102,  0.06114957,  0.01192903,  0.0881305 ,  0.02715367,\n",
       "        0.05642988,  0.04004525,  0.02703869,  0.26344309])"
      ]
     },
     "execution_count": 288,
     "metadata": {},
     "output_type": "execute_result"
    }
   ],
   "source": [
    "from sklearn.tree import DecisionTreeClassifier\n",
    "\n",
    "dtclf = DecisionTreeClassifier(min_samples_split=1)\n",
    "\n",
    "dtclf = dtclf.fit(features_train, labels_train)\n",
    "\n",
    "dtpred = dtclf.predict(features_test)\n",
    "\n",
    "print \"accuracy =\", dtclf.score(features_test, labels_test) * 100, '%'\n",
    "dtscores = cross_val_score(dtclf, features_train, labels_train)\n",
    "print dtscores.mean()\n",
    "dtclf.feature_importances_"
   ]
  },
  {
   "cell_type": "code",
   "execution_count": 289,
   "metadata": {
    "collapsed": false
   },
   "outputs": [
    {
     "name": "stderr",
     "output_type": "stream",
     "text": [
      "C:\\Users\\mahesh\\Anaconda2\\lib\\site-packages\\ipykernel\\__main__.py:2: SettingWithCopyWarning: \n",
      "A value is trying to be set on a copy of a slice from a DataFrame.\n",
      "Try using .loc[row_indexer,col_indexer] = value instead\n",
      "\n",
      "See the caveats in the documentation: http://pandas.pydata.org/pandas-docs/stable/indexing.html#indexing-view-versus-copy\n",
      "  from ipykernel import kernelapp as app\n",
      "C:\\Users\\mahesh\\Anaconda2\\lib\\site-packages\\ipykernel\\__main__.py:3: SettingWithCopyWarning: \n",
      "A value is trying to be set on a copy of a slice from a DataFrame.\n",
      "Try using .loc[row_indexer,col_indexer] = value instead\n",
      "\n",
      "See the caveats in the documentation: http://pandas.pydata.org/pandas-docs/stable/indexing.html#indexing-view-versus-copy\n",
      "  app.launch_new_instance()\n"
     ]
    }
   ],
   "source": [
    "#features_2015 = d_2015[col_u]\n",
    "d_2015['dtpred']=dtclf.predict(features_2015)\n",
    "d_2015['dtprb']=dtclf.predict_proba(features_2015)[:, 1]\n",
    "#pred = clf.predict(features_test)\n",
    "df=d_2015[['player','team','pred2015','rfprd','adapredict','adaprb','knnpred','knnprb','dtpred','dtprb']]"
   ]
  },
  {
   "cell_type": "code",
   "execution_count": 301,
   "metadata": {
    "collapsed": false
   },
   "outputs": [
    {
     "data": {
      "text/html": [
       "<div>\n",
       "<table border=\"1\" class=\"dataframe\">\n",
       "  <thead>\n",
       "    <tr style=\"text-align: right;\">\n",
       "      <th></th>\n",
       "      <th>player</th>\n",
       "      <th>team</th>\n",
       "      <th>pred2015</th>\n",
       "      <th>rfprd</th>\n",
       "      <th>adapredict</th>\n",
       "      <th>adaprb</th>\n",
       "      <th>knnpred</th>\n",
       "      <th>knnprb</th>\n",
       "      <th>dtpred</th>\n",
       "      <th>dtprb</th>\n",
       "      <th>svcpred</th>\n",
       "    </tr>\n",
       "  </thead>\n",
       "  <tbody>\n",
       "    <tr>\n",
       "      <th>11202</th>\n",
       "      <td>LeBron James</td>\n",
       "      <td>1.0</td>\n",
       "      <td>2.0</td>\n",
       "      <td>0.35</td>\n",
       "      <td>None</td>\n",
       "      <td>0.245599</td>\n",
       "      <td>None</td>\n",
       "      <td>0.15</td>\n",
       "      <td>1.0</td>\n",
       "      <td>0</td>\n",
       "      <td>0</td>\n",
       "    </tr>\n",
       "    <tr>\n",
       "      <th>11201</th>\n",
       "      <td>LeBron James</td>\n",
       "      <td>1.0</td>\n",
       "      <td>2.0</td>\n",
       "      <td>0.35</td>\n",
       "      <td>None</td>\n",
       "      <td>0.245599</td>\n",
       "      <td>None</td>\n",
       "      <td>0.15</td>\n",
       "      <td>1.0</td>\n",
       "      <td>0</td>\n",
       "      <td>0</td>\n",
       "    </tr>\n",
       "    <tr>\n",
       "      <th>11131</th>\n",
       "      <td>Marc Gasol</td>\n",
       "      <td>1.0</td>\n",
       "      <td>None</td>\n",
       "      <td>0.02</td>\n",
       "      <td>None</td>\n",
       "      <td>0.242525</td>\n",
       "      <td>None</td>\n",
       "      <td>0.05</td>\n",
       "      <td>2.0</td>\n",
       "      <td>1</td>\n",
       "      <td>0</td>\n",
       "    </tr>\n",
       "    <tr>\n",
       "      <th>11077</th>\n",
       "      <td>Stephen Curry</td>\n",
       "      <td>1.0</td>\n",
       "      <td>None</td>\n",
       "      <td>0.28</td>\n",
       "      <td>None</td>\n",
       "      <td>0.233020</td>\n",
       "      <td>None</td>\n",
       "      <td>0.10</td>\n",
       "      <td>2.0</td>\n",
       "      <td>1</td>\n",
       "      <td>0</td>\n",
       "    </tr>\n",
       "    <tr>\n",
       "      <th>11082</th>\n",
       "      <td>Anthony Davis</td>\n",
       "      <td>1.0</td>\n",
       "      <td>None</td>\n",
       "      <td>0.23</td>\n",
       "      <td>1.0</td>\n",
       "      <td>0.228756</td>\n",
       "      <td>None</td>\n",
       "      <td>0.15</td>\n",
       "      <td>1.0</td>\n",
       "      <td>0</td>\n",
       "      <td>0</td>\n",
       "    </tr>\n",
       "    <tr>\n",
       "      <th>10973</th>\n",
       "      <td>LaMarcus Aldridge</td>\n",
       "      <td>2.0</td>\n",
       "      <td>None</td>\n",
       "      <td>0.10</td>\n",
       "      <td>None</td>\n",
       "      <td>0.245599</td>\n",
       "      <td>None</td>\n",
       "      <td>0.15</td>\n",
       "      <td>3.0</td>\n",
       "      <td>0</td>\n",
       "      <td>0</td>\n",
       "    </tr>\n",
       "    <tr>\n",
       "      <th>11328</th>\n",
       "      <td>Chris Paul</td>\n",
       "      <td>2.0</td>\n",
       "      <td>None</td>\n",
       "      <td>0.25</td>\n",
       "      <td>None</td>\n",
       "      <td>0.253645</td>\n",
       "      <td>None</td>\n",
       "      <td>0.25</td>\n",
       "      <td>1.0</td>\n",
       "      <td>0</td>\n",
       "      <td>0</td>\n",
       "    </tr>\n",
       "    <tr>\n",
       "      <th>11437</th>\n",
       "      <td>Russell Westbrook</td>\n",
       "      <td>2.0</td>\n",
       "      <td>1.0</td>\n",
       "      <td>0.31</td>\n",
       "      <td>1.0</td>\n",
       "      <td>0.271869</td>\n",
       "      <td>2.0</td>\n",
       "      <td>0.35</td>\n",
       "      <td>1.0</td>\n",
       "      <td>0</td>\n",
       "      <td>0</td>\n",
       "    </tr>\n",
       "    <tr>\n",
       "      <th>11069</th>\n",
       "      <td>DeMarcus Cousins</td>\n",
       "      <td>2.0</td>\n",
       "      <td>None</td>\n",
       "      <td>0.13</td>\n",
       "      <td>None</td>\n",
       "      <td>0.253606</td>\n",
       "      <td>None</td>\n",
       "      <td>0.15</td>\n",
       "      <td>3.0</td>\n",
       "      <td>0</td>\n",
       "      <td>0</td>\n",
       "    </tr>\n",
       "    <tr>\n",
       "      <th>10974</th>\n",
       "      <td>LaMarcus Aldridge</td>\n",
       "      <td>2.0</td>\n",
       "      <td>None</td>\n",
       "      <td>0.10</td>\n",
       "      <td>None</td>\n",
       "      <td>0.245599</td>\n",
       "      <td>None</td>\n",
       "      <td>0.15</td>\n",
       "      <td>3.0</td>\n",
       "      <td>0</td>\n",
       "      <td>0</td>\n",
       "    </tr>\n",
       "    <tr>\n",
       "      <th>11155</th>\n",
       "      <td>Blake Griffin</td>\n",
       "      <td>3.0</td>\n",
       "      <td>None</td>\n",
       "      <td>0.08</td>\n",
       "      <td>None</td>\n",
       "      <td>0.253606</td>\n",
       "      <td>None</td>\n",
       "      <td>0.10</td>\n",
       "      <td>3.0</td>\n",
       "      <td>0</td>\n",
       "      <td>0</td>\n",
       "    </tr>\n",
       "    <tr>\n",
       "      <th>11156</th>\n",
       "      <td>Blake Griffin</td>\n",
       "      <td>3.0</td>\n",
       "      <td>None</td>\n",
       "      <td>0.08</td>\n",
       "      <td>None</td>\n",
       "      <td>0.253606</td>\n",
       "      <td>None</td>\n",
       "      <td>0.10</td>\n",
       "      <td>3.0</td>\n",
       "      <td>0</td>\n",
       "      <td>0</td>\n",
       "    </tr>\n",
       "    <tr>\n",
       "      <th>11039</th>\n",
       "      <td>Jimmy Butler</td>\n",
       "      <td>None</td>\n",
       "      <td>None</td>\n",
       "      <td>0.03</td>\n",
       "      <td>None</td>\n",
       "      <td>0.222937</td>\n",
       "      <td>None</td>\n",
       "      <td>0.00</td>\n",
       "      <td>2.0</td>\n",
       "      <td>1</td>\n",
       "      <td>0</td>\n",
       "    </tr>\n",
       "    <tr>\n",
       "      <th>11024</th>\n",
       "      <td>Chris Bosh</td>\n",
       "      <td>None</td>\n",
       "      <td>None</td>\n",
       "      <td>0.01</td>\n",
       "      <td>None</td>\n",
       "      <td>0.245599</td>\n",
       "      <td>None</td>\n",
       "      <td>0.00</td>\n",
       "      <td>3.0</td>\n",
       "      <td>0</td>\n",
       "      <td>0</td>\n",
       "    </tr>\n",
       "    <tr>\n",
       "      <th>11255</th>\n",
       "      <td>Kevin Love</td>\n",
       "      <td>None</td>\n",
       "      <td>None</td>\n",
       "      <td>0.03</td>\n",
       "      <td>None</td>\n",
       "      <td>0.237343</td>\n",
       "      <td>None</td>\n",
       "      <td>0.00</td>\n",
       "      <td>2.0</td>\n",
       "      <td>1</td>\n",
       "      <td>0</td>\n",
       "    </tr>\n",
       "    <tr>\n",
       "      <th>11090</th>\n",
       "      <td>DeMar DeRozan</td>\n",
       "      <td>None</td>\n",
       "      <td>None</td>\n",
       "      <td>0.03</td>\n",
       "      <td>None</td>\n",
       "      <td>0.222937</td>\n",
       "      <td>None</td>\n",
       "      <td>0.05</td>\n",
       "      <td>2.0</td>\n",
       "      <td>1</td>\n",
       "      <td>0</td>\n",
       "    </tr>\n",
       "    <tr>\n",
       "      <th>11104</th>\n",
       "      <td>Kevin Durant</td>\n",
       "      <td>None</td>\n",
       "      <td>None</td>\n",
       "      <td>0.23</td>\n",
       "      <td>None</td>\n",
       "      <td>0.245599</td>\n",
       "      <td>None</td>\n",
       "      <td>0.00</td>\n",
       "      <td>2.0</td>\n",
       "      <td>1</td>\n",
       "      <td>0</td>\n",
       "    </tr>\n",
       "  </tbody>\n",
       "</table>\n",
       "</div>"
      ],
      "text/plain": [
       "                  player  team pred2015  rfprd adapredict    adaprb knnpred  \\\n",
       "11202       LeBron James   1.0      2.0   0.35       None  0.245599    None   \n",
       "11201       LeBron James   1.0      2.0   0.35       None  0.245599    None   \n",
       "11131         Marc Gasol   1.0     None   0.02       None  0.242525    None   \n",
       "11077      Stephen Curry   1.0     None   0.28       None  0.233020    None   \n",
       "11082      Anthony Davis   1.0     None   0.23        1.0  0.228756    None   \n",
       "10973  LaMarcus Aldridge   2.0     None   0.10       None  0.245599    None   \n",
       "11328         Chris Paul   2.0     None   0.25       None  0.253645    None   \n",
       "11437  Russell Westbrook   2.0      1.0   0.31        1.0  0.271869     2.0   \n",
       "11069   DeMarcus Cousins   2.0     None   0.13       None  0.253606    None   \n",
       "10974  LaMarcus Aldridge   2.0     None   0.10       None  0.245599    None   \n",
       "11155      Blake Griffin   3.0     None   0.08       None  0.253606    None   \n",
       "11156      Blake Griffin   3.0     None   0.08       None  0.253606    None   \n",
       "11039       Jimmy Butler  None     None   0.03       None  0.222937    None   \n",
       "11024         Chris Bosh  None     None   0.01       None  0.245599    None   \n",
       "11255         Kevin Love  None     None   0.03       None  0.237343    None   \n",
       "11090      DeMar DeRozan  None     None   0.03       None  0.222937    None   \n",
       "11104       Kevin Durant  None     None   0.23       None  0.245599    None   \n",
       "\n",
       "       knnprb dtpred  dtprb  svcpred  \n",
       "11202    0.15    1.0      0        0  \n",
       "11201    0.15    1.0      0        0  \n",
       "11131    0.05    2.0      1        0  \n",
       "11077    0.10    2.0      1        0  \n",
       "11082    0.15    1.0      0        0  \n",
       "10973    0.15    3.0      0        0  \n",
       "11328    0.25    1.0      0        0  \n",
       "11437    0.35    1.0      0        0  \n",
       "11069    0.15    3.0      0        0  \n",
       "10974    0.15    3.0      0        0  \n",
       "11155    0.10    3.0      0        0  \n",
       "11156    0.10    3.0      0        0  \n",
       "11039    0.00    2.0      1        0  \n",
       "11024    0.00    3.0      0        0  \n",
       "11255    0.00    2.0      1        0  \n",
       "11090    0.05    2.0      1        0  \n",
       "11104    0.00    2.0      1        0  "
      ]
     },
     "execution_count": 301,
     "metadata": {},
     "output_type": "execute_result"
    }
   ],
   "source": [
    "df[df.dtpred!='None'].sort_values(by='team')"
   ]
  },
  {
   "cell_type": "markdown",
   "metadata": {},
   "source": [
    "# Naive Bayes"
   ]
  },
  {
   "cell_type": "code",
   "execution_count": 181,
   "metadata": {
    "collapsed": false
   },
   "outputs": [
    {
     "name": "stdout",
     "output_type": "stream",
     "text": [
      "accuracy = 85.1671732523 %\n",
      "0.852770203946\n"
     ]
    }
   ],
   "source": [
    "from sklearn.naive_bayes import GaussianNB\n",
    "nbclf = GaussianNB()\n",
    "\n",
    "nbclf=nbclf.fit(features_train,labels_train)\n",
    "\n",
    "nbpred=nbclf.predict(features_test)\n",
    "\n",
    "print \"accuracy =\", nbclf.score(features_test, labels_test) * 100, '%'\n",
    "nbscores = cross_val_score(nbclf, features_train, labels_train)\n",
    "print nbscores.mean()\n"
   ]
  },
  {
   "cell_type": "markdown",
   "metadata": {},
   "source": [
    "# SVC"
   ]
  },
  {
   "cell_type": "code",
   "execution_count": 183,
   "metadata": {
    "collapsed": false
   },
   "outputs": [
    {
     "name": "stdout",
     "output_type": "stream",
     "text": [
      "accuracy = 97.8419452888 %\n",
      "0.973549839738\n"
     ]
    }
   ],
   "source": [
    "from sklearn.svm import SVC\n",
    "svcclf = SVC(kernel='rbf')\n",
    "\n",
    "svcclf = svcclf.fit(features_train, labels_train)\n",
    "\n",
    "svcpred = svcclf.predict(features_test)\n",
    "\n",
    "print \"accuracy =\", svcclf.score(features_test, labels_test) * 100, '%'\n",
    "svcscores = cross_val_score(svcclf, features_train, labels_train)\n",
    "print svcscores.mean()\n"
   ]
  },
  {
   "cell_type": "code",
   "execution_count": null,
   "metadata": {
    "collapsed": false
   },
   "outputs": [],
   "source": []
  },
  {
   "cell_type": "code",
   "execution_count": null,
   "metadata": {
    "collapsed": false
   },
   "outputs": [],
   "source": []
  },
  {
   "cell_type": "code",
   "execution_count": null,
   "metadata": {
    "collapsed": true
   },
   "outputs": [],
   "source": []
  }
 ],
 "metadata": {
  "kernelspec": {
   "display_name": "Python 2",
   "language": "python",
   "name": "python2"
  },
  "language_info": {
   "codemirror_mode": {
    "name": "ipython",
    "version": 2
   },
   "file_extension": ".py",
   "mimetype": "text/x-python",
   "name": "python",
   "nbconvert_exporter": "python",
   "pygments_lexer": "ipython2",
   "version": "2.7.11"
  }
 },
 "nbformat": 4,
 "nbformat_minor": 0
}

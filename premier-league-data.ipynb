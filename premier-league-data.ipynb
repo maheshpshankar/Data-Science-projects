{
 "cells": [
  {
   "cell_type": "markdown",
   "metadata": {},
   "source": [
    "# Premier league data\n",
    "\n"
   ]
  },
  {
   "cell_type": "markdown",
   "metadata": {},
   "source": [
    "First, we'll start exploring stats for a single match.\n",
    "\n",
    "### Premier league match day stats\n",
    "\n",
    "All match day results are available at: http://www.premierleague.com/en-gb/matchday/results.html\n",
    "\n",
    "A match report is available on clicking the result of a match. From the match report page, it is possible to go to the stats page where all the stats we require are present.\n",
    "\n",
    "Let's start exploring with Everton vs. Sunderland on 1st November 2015: http://www.premierleague.com/en-gb/matchday/matches/2015-2016/epl.match-stats.html/everton-vs-sunderland"
   ]
  },
  {
   "cell_type": "code",
   "execution_count": 1,
   "metadata": {
    "collapsed": false
   },
   "outputs": [
    {
     "data": {
      "text/plain": [
       "'English_United States.1252'"
      ]
     },
     "execution_count": 1,
     "metadata": {},
     "output_type": "execute_result"
    }
   ],
   "source": [
    "import re\n",
    "import locale\n",
    "import requests\n",
    "from bs4 import BeautifulSoup\n",
    "\n",
    "locale.setlocale(locale.LC_ALL, 'English_United States.1252')"
   ]
  },
  {
   "cell_type": "code",
   "execution_count": 2,
   "metadata": {
    "collapsed": true
   },
   "outputs": [],
   "source": [
    "stats = requests.get('http://www.premierleague.com/en-gb/matchday/matches/2015-2016/epl.match-stats.html/everton-vs-sunderland')\n",
    "stats = BeautifulSoup(stats.text, 'lxml')"
   ]
  },
  {
   "cell_type": "markdown",
   "metadata": {},
   "source": [
    "**Date, Venue, Referee and Attendance**"
   ]
  },
  {
   "cell_type": "code",
   "execution_count": 3,
   "metadata": {
    "collapsed": false
   },
   "outputs": [
    {
     "name": "stdout",
     "output_type": "stream",
     "text": [
      "{'date': u'Sunday 1 November 2015', 'attendance': 36617, 'referee': u'Andre Marriner', 'venue': u'Goodison Park'}\n"
     ]
    }
   ],
   "source": [
    "import re\n",
    "fis = stats.find('p', 'fixtureinfo').get_text().split('|')\n",
    "fis = [re.sub(r'Referee: |Attendance ', '', i).strip() for i in fis]\n",
    "\n",
    "# Convert attendance to integer\n",
    "fis[-1] = locale.atoi(fis[-1])\n",
    "\n",
    "# Add to data\n",
    "data = dict(zip(['date', 'venue', 'referee', 'attendance'], fis))\n",
    "\n",
    "print data"
   ]
  },
  {
   "cell_type": "markdown",
   "metadata": {},
   "source": [
    "**Home team, away team and score**"
   ]
  },
  {
   "cell_type": "code",
   "execution_count": 4,
   "metadata": {
    "collapsed": false
   },
   "outputs": [],
   "source": [
    "css_classes = ['home', 'away', 'countscore']\n",
    "res = [stats.find('td', c).get_text().strip() for c in css_classes]\n",
    "\n",
    "data['home_team'], data['away_team'], data['result'] = res[0], res[1], res[2]"
   ]
  },
  {
   "cell_type": "code",
   "execution_count": 5,
   "metadata": {
    "collapsed": false
   },
   "outputs": [
    {
     "name": "stdout",
     "output_type": "stream",
     "text": [
      "{'home_team': u'Everton', 'attendance': 36617, 'away_team': u'Sunderland', 'venue': u'Goodison Park', 'home_goals': 6, 'referee': u'Andre Marriner', 'result': u'6 - 2', 'away_goals': 2, 'date': u'Sunday 1 November 2015'}\n"
     ]
    }
   ],
   "source": [
    "home_goals = stats.find('span', 'homeScore').get_text().strip()\n",
    "away_goals = stats.find('span', 'awayScore').get_text().strip()\n",
    "\n",
    "data['home_goals'], data['away_goals'] = locale.atoi(home_goals), locale.atoi(away_goals)\n",
    "\n",
    "print data"
   ]
  },
  {
   "cell_type": "markdown",
   "metadata": {},
   "source": [
    "**Home goals details, and away goals details**"
   ]
  },
  {
   "cell_type": "code",
   "execution_count": 6,
   "metadata": {
    "collapsed": false
   },
   "outputs": [
    {
     "name": "stdout",
     "output_type": "stream",
     "text": [
      "{'home_team': u'Everton', 'attendance': 36617, 'home_goals_details': u'Gerard Deulofeu (19),Arouna Kon\\xe9 (31, 62, 76),Sebasti\\xe1n Coates (55 OG),Romelu Lukaku (60)', 'away_team': u'Sunderland', 'venue': u'Goodison Park', 'home_goals': 6, 'away_goals_details': u'Jermain Defoe (45+4),Steven Fletcher (50)', 'referee': u'Andre Marriner', 'result': u'6 - 2', 'away_goals': 2, 'date': u'Sunday 1 November 2015'}\n"
     ]
    }
   ],
   "source": [
    "for loc in ['home', 'away']:\n",
    "    goals_details = [li.get_text().strip() for li in stats.find('div', '%s goals' % loc).find_all('li')]\n",
    "    data['%s_goals_details' % loc] = ','.join(goals_details)\n",
    "\n",
    "print data"
   ]
  },
  {
   "cell_type": "markdown",
   "metadata": {
    "collapsed": true
   },
   "source": [
    "**Stats!**"
   ]
  },
  {
   "cell_type": "code",
   "execution_count": 7,
   "metadata": {
    "collapsed": true
   },
   "outputs": [],
   "source": [
    "tables = stats.find_all('div', 'statsTable')"
   ]
  },
  {
   "cell_type": "code",
   "execution_count": 8,
   "metadata": {
    "collapsed": false
   },
   "outputs": [
    {
     "name": "stdout",
     "output_type": "stream",
     "text": [
      "{u'clearances_away_team': 26, 'away_goals': 2, u'fouls_away_team': 5, u'throw_ins_away_team': 17, u'shots_on_target_home_team': 8, u'shots_on_target_away_team': 10, 'away_goals_details': u'Jermain Defoe (45+4),Steven Fletcher (50)', 'result': u'6 - 2', u'assists_away_team': 2, u'offsides_away_team': 2, 'attendance': 36617, u'yellow_cards_away_team': 2, 'home_goals_details': u'Gerard Deulofeu (19),Arouna Kon\\xe9 (31, 62, 76),Sebasti\\xe1n Coates (55 OG),Romelu Lukaku (60)', u'penalties_away_team': 0, u'crosses_away_team': 13, u'shots_off_target_away_team': 3, u'clearances_home_team': 21, u'throw_ins_home_team': 17, u'handballs_home_team': 0, u'red_cards_home_team': 0, 'home_goals': 6, 'referee': u'Andre Marriner', u'yellow_cards_home_team': 3, u'total_shots_away_team': 13, u'fouls_home_team': 6, u'free_kicks_home_team': 7, 'away_team': u'Sunderland', 'date': u'Sunday 1 November 2015', u'free_kicks_away_team': 9, u'saves_home_team': 7, u'corners_away_team': 1, u'offsides_home_team': 3, 'home_team': u'Everton', u'saves_away_team': 3, u'handballs_away_team': 0, u'assists_home_team': 5, 'venue': u'Goodison Park', u'corners_home_team': 6, u'blocks_home_team': 5, u'penalties_home_team': 0, u'total_shots_home_team': 13, u'red_cards_away_team': 0, u'crosses_home_team': 15, u'blocks_away_team': 1, u'shots_off_target_home_team': 5}\n"
     ]
    }
   ],
   "source": [
    "for table in tables:\n",
    "    t = table.find('table')\n",
    "    h = t.select('thead th')[1:]\n",
    "    d = [r.select('td') for r in t.select('tbody tr')]\n",
    "    for i in zip(h, *d):\n",
    "        metric = i[0].get_text().strip().lower().replace(' ', '_')\n",
    "        data['%s_home_team' % metric] = locale.atoi(i[1].get_text().strip())\n",
    "        data['%s_away_team' % metric] = locale.atoi(i[2].get_text().strip())\n",
    "        \n",
    "print data"
   ]
  },
  {
   "cell_type": "markdown",
   "metadata": {},
   "source": [
    "### Let's convert what we've done so far into a function..."
   ]
  },
  {
   "cell_type": "code",
   "execution_count": 9,
   "metadata": {
    "collapsed": true
   },
   "outputs": [],
   "source": [
    "def get_stats_for_match(match_url):\n",
    "    \"\"\"\n",
    "    Given a match stat url, from premierleague.com,\n",
    "    returns a stats dict with all match statistics\n",
    "    \"\"\"\n",
    "    soup = BeautifulSoup(requests.get(match_url).text, 'lxml')\n",
    "\n",
    "    # get managers info\n",
    "    mgrs = [\n",
    "        soup.select('div .teamtitle .homecol')[0].find_all('a')[-1],\n",
    "        soup.select('div .teamtitle .awaycol')[0].find_all('a')[-1]\n",
    "    ]\n",
    "\n",
    "    match_stat_url = match_url.replace('match-report.html', 'match-stats.html')\n",
    "\n",
    "    soup = BeautifulSoup(requests.get(match_stat_url).text, 'lxml')\n",
    "\n",
    "    # get fixture infos\n",
    "    fis = soup.find('p', 'fixtureinfo').get_text().split('|')\n",
    "    fis = [re.sub(r'Referee: |Attendance ', '', i).strip() for i in fis]\n",
    "\n",
    "    # convert attendance to integer\n",
    "    fis[-1] = locale.atoi(fis[-1])\n",
    "\n",
    "    # add to stats\n",
    "    stats = dict(zip(['date', 'venue', 'referee', 'attendance'], fis))\n",
    "    stats['home_manager'] = mgrs[0].get_text().strip()\n",
    "    stats['away_manager'] = mgrs[1].get_text().strip()\n",
    "\n",
    "    # get home, away and goals\n",
    "    css_classes = ['home', 'away', 'countscore']\n",
    "    res = [soup.find('td', c).get_text().strip() for c in css_classes]\n",
    "\n",
    "    stats['home_team'], stats['away_team'], stats['result'] = res[0], res[1], res[2]\n",
    "\n",
    "    for loc in ['home', 'away']:\n",
    "        goals = soup.find('span', '%sScore' % loc).get_text().strip()\n",
    "        goals_details = [\n",
    "            li.get_text().strip()\n",
    "            for li in soup.find('div', '%s goals' % loc).find_all('li')\n",
    "        ]\n",
    "        stats['%s_goals' % loc] = locale.atoi(goals)\n",
    "        stats['%s_goals_details' % loc] = ','.join(goals_details)\n",
    "\n",
    "    # in depth stats table\n",
    "    tables = soup.find_all('div', 'statsTable')\n",
    "    for table in tables:\n",
    "        t = table.find('table')\n",
    "        h = t.select('thead th')[1:]\n",
    "        d = [r.select('td') for r in t.select('tbody tr')]\n",
    "        for i in zip(h, *d):\n",
    "            metric = i[0].get_text().strip().lower().replace(' ', '_')\n",
    "            stats['%s_home_team' % metric] = locale.atoi(i[1].get_text().strip())\n",
    "            stats['%s_away_team' % metric] = locale.atoi(i[2].get_text().strip())\n",
    "\n",
    "    return stats"
   ]
  },
  {
   "cell_type": "markdown",
   "metadata": {},
   "source": [
    "# Function test"
   ]
  },
  {
   "cell_type": "code",
   "execution_count": 16,
   "metadata": {
    "collapsed": false
   },
   "outputs": [
    {
     "data": {
      "text/plain": [
       "{u'assists_away_team': 1,\n",
       " u'assists_home_team': 1,\n",
       " 'attendance': 44062,\n",
       " 'away_goals': 1,\n",
       " 'away_goals_details': u'Harry Kane (63)',\n",
       " 'away_manager': u'Mauricio Pochettino',\n",
       " 'away_team': u'Spurs',\n",
       " u'blocks_away_team': 6,\n",
       " u'blocks_home_team': 6,\n",
       " u'clearances_away_team': 28,\n",
       " u'clearances_home_team': 28,\n",
       " u'corners_away_team': 9,\n",
       " u'corners_home_team': 12,\n",
       " u'crosses_away_team': 10,\n",
       " u'crosses_home_team': 13,\n",
       " 'date': u'Saturday 2 April 2016',\n",
       " u'fouls_away_team': 11,\n",
       " u'fouls_home_team': 11,\n",
       " u'free_kicks_away_team': 10,\n",
       " u'free_kicks_home_team': 12,\n",
       " u'handballs_away_team': 0,\n",
       " u'handballs_home_team': 0,\n",
       " 'home_goals': 1,\n",
       " 'home_goals_details': u'Philippe Coutinho (51)',\n",
       " 'home_manager': u'J\\xfcrgen Klopp',\n",
       " 'home_team': u'Liverpool',\n",
       " u'offsides_away_team': 1,\n",
       " u'offsides_home_team': 0,\n",
       " u'penalties_away_team': 0,\n",
       " u'penalties_home_team': 0,\n",
       " u'red_cards_away_team': 0,\n",
       " u'red_cards_home_team': 0,\n",
       " 'referee': u'Jonathan Moss',\n",
       " 'result': u'1 - 1',\n",
       " u'saves_away_team': 7,\n",
       " u'saves_home_team': 4,\n",
       " u'shots_off_target_away_team': 7,\n",
       " u'shots_off_target_home_team': 2,\n",
       " u'shots_on_target_away_team': 5,\n",
       " u'shots_on_target_home_team': 7,\n",
       " u'throw_ins_away_team': 24,\n",
       " u'throw_ins_home_team': 16,\n",
       " u'total_shots_away_team': 12,\n",
       " u'total_shots_home_team': 9,\n",
       " 'venue': u'Anfield',\n",
       " u'yellow_cards_away_team': 0,\n",
       " u'yellow_cards_home_team': 2}"
      ]
     },
     "execution_count": 16,
     "metadata": {},
     "output_type": "execute_result"
    }
   ],
   "source": [
    "get_stats_for_match('http://www.premierleague.com/en-gb/matchday/matches/2015-2016/epl.match-report.html/liverpool-vs-spurs')"
   ]
  }
 ],
 "metadata": {
  "kernelspec": {
   "display_name": "Python 2",
   "language": "python",
   "name": "python2"
  },
  "language_info": {
   "codemirror_mode": {
    "name": "ipython",
    "version": 2
   },
   "file_extension": ".py",
   "mimetype": "text/x-python",
   "name": "python",
   "nbconvert_exporter": "python",
   "pygments_lexer": "ipython2",
   "version": "2.7.11"
  }
 },
 "nbformat": 4,
 "nbformat_minor": 0
}
